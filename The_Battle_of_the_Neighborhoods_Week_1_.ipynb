{
  "nbformat": 4,
  "nbformat_minor": 0,
  "metadata": {
    "colab": {
      "name": "The Battle of the Neighborhoods - Week 1 .ipynb",
      "provenance": [],
      "collapsed_sections": [],
      "authorship_tag": "ABX9TyMOXQrLgv4HGdSyc6p0zfL+",
      "include_colab_link": true
    },
    "kernelspec": {
      "name": "python3",
      "display_name": "Python 3"
    }
  },
  "cells": [
    {
      "cell_type": "markdown",
      "metadata": {
        "id": "view-in-github",
        "colab_type": "text"
      },
      "source": [
        "<a href=\"https://colab.research.google.com/github/Sters966/Coursera_Capstone/blob/master/The_Battle_of_the_Neighborhoods_Week_1_.ipynb\" target=\"_parent\"><img src=\"https://colab.research.google.com/assets/colab-badge.svg\" alt=\"Open In Colab\"/></a>"
      ]
    },
    {
      "cell_type": "markdown",
      "metadata": {
        "id": "vagkvHtPc4vK",
        "colab_type": "text"
      },
      "source": [
        "#        Capstone Project - The Battle of the Neighborhoods (Week 1)"
      ]
    },
    {
      "cell_type": "markdown",
      "metadata": {
        "id": "EqvjM0pNfsfN",
        "colab_type": "text"
      },
      "source": [
        "<a id=\"item1\"></a>\n",
        "\n"
      ]
    },
    {
      "cell_type": "markdown",
      "metadata": {
        "id": "Lq0VnbGHn434",
        "colab_type": "text"
      },
      "source": [
        "### Finding the Indian Stores and Restaurants in and around Berlin and Frankfurt City Center"
      ]
    },
    {
      "cell_type": "markdown",
      "metadata": {
        "id": "NK7wFMVPEuso",
        "colab_type": "text"
      },
      "source": [
        "<a id=\"item1\"></a>\n",
        "\n"
      ]
    },
    {
      "cell_type": "markdown",
      "metadata": {
        "id": "zGhIRpLHdzVD",
        "colab_type": "text"
      },
      "source": [
        "### **Introduction**\n",
        "In Germany, cities like Berlin and Frankfurt are MultiCultural. People from all around the world stay in these big cities involving in various Business activities. Some businesses like Store and Restaurant has the background of their country of origin. \n",
        "\n",
        "Globalization has created a more diverse market in these kinds of cities.\n",
        "It means in Berlin or Frankfurt there are not only typical German Restaurant and Grocery shop but there are also typical Indian, Pakistani or Nepalese Restaurant and Shops. \n",
        "\n",
        "The concentration of those kinds of Restaurant can be found mainly around the area of City Center, catering the customer of foreign origin who works in  Banking, Finance, IT and other fields."
      ]
    },
    {
      "cell_type": "markdown",
      "metadata": {
        "id": "o7eAGfiQf0Lv",
        "colab_type": "text"
      },
      "source": [
        "<a id=\"item1\"></a>"
      ]
    },
    {
      "cell_type": "markdown",
      "metadata": {
        "id": "lzoXesP4euUD",
        "colab_type": "text"
      },
      "source": [
        "### **Problem Description**\n",
        "\n",
        "People travel to another country for a short stay as a tourist, visiting family members, on a business trip or as an exchange student for the short term. People who are on short-stay want to have the taste of their country of origin in terms of buying stuff or dining out in a restaurant. \n",
        "\n",
        "The aim of this project is to find the Indian Shops and Restaurant around the City center in Berlin and Frankfurt. So that people from India or Nepal visiting Berlin or Frankfurt still feel home  thousand miles from their home country and will not miss their own taste while shopping or dining out. "
      ]
    },
    {
      "cell_type": "markdown",
      "metadata": {
        "id": "ZifC0acCf54O",
        "colab_type": "text"
      },
      "source": [
        "<a id=\"item1\"></a>"
      ]
    },
    {
      "cell_type": "markdown",
      "metadata": {
        "id": "hu_fY-NdeuaC",
        "colab_type": "text"
      },
      "source": [
        "### **Data Selection**\n",
        "For the purpose of Data Collection we will be using Foursquare API to gather data related to the Indian store and Restaurant in the radius of 5000 meter around the city Center. We will use the clustering techniques to categories the Store or Restaurant in the vicinity of City Center. We will also look for the exact address location of each of the Restaurant or Store. \n"
      ]
    },
    {
      "cell_type": "markdown",
      "metadata": {
        "id": "6ds7c4eBf7hV",
        "colab_type": "text"
      },
      "source": [
        "<a id=\"item1\"></a>"
      ]
    },
    {
      "cell_type": "markdown",
      "metadata": {
        "id": "6J0Q5Lp5euqC",
        "colab_type": "text"
      },
      "source": [
        "### **Methodology**\n",
        "\n",
        "Firstly we will extract data as the JSON data set and will use the pandas' data frame to get the relevant data we need. Then we will use Geocode to convert addresses into graphical coordinate and use Python library, Folium to visualize the address in corresponding cities.\n",
        "\n",
        "\n"
      ]
    }
  ]
}