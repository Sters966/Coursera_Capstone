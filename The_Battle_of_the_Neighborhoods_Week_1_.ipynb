{
  "nbformat": 4,
  "nbformat_minor": 0,
  "metadata": {
    "colab": {
      "name": "The Battle of the Neighborhoods - Week 1 .ipynb",
      "provenance": [],
      "authorship_tag": "ABX9TyPyB+D0A30ZwS20mSLP03BO",
      "include_colab_link": true
    },
    "kernelspec": {
      "name": "python3",
      "display_name": "Python 3"
    }
  },
  "cells": [
    {
      "cell_type": "markdown",
      "metadata": {
        "id": "view-in-github",
        "colab_type": "text"
      },
      "source": [
        "<a href=\"https://colab.research.google.com/github/Sters966/Coursera_Capstone/blob/master/The_Battle_of_the_Neighborhoods_Week_1_.ipynb\" target=\"_parent\"><img src=\"https://colab.research.google.com/assets/colab-badge.svg\" alt=\"Open In Colab\"/></a>"
      ]
    },
    {
      "cell_type": "markdown",
      "metadata": {
        "id": "vagkvHtPc4vK",
        "colab_type": "text"
      },
      "source": [
        "# Capstone Project - The Battle of the Neighborhoods (Week 1)"
      ]
    },
    {
      "cell_type": "markdown",
      "metadata": {
        "id": "EqvjM0pNfsfN",
        "colab_type": "text"
      },
      "source": [
        "<a id=\"item1\"></a>"
      ]
    },
    {
      "cell_type": "markdown",
      "metadata": {
        "id": "JWl5pijLdLD8",
        "colab_type": "text"
      },
      "source": [
        "## Introduction & Business Problem"
      ]
    },
    {
      "cell_type": "markdown",
      "metadata": {
        "id": "zGhIRpLHdzVD",
        "colab_type": "text"
      },
      "source": [
        "### Introduction\n",
        "In Germany, Cities like Berlin and Frankfurt are MultiCultural. People from all around the world stayy in these big cities involving in various Business activities. \n",
        "\n",
        "Some local business like Shop and Restaurant have the background of their country of orgin. Globalization has created more diversed market in these kind of cities. \n",
        "\n",
        "It means in Berlin or Frankfurt there are not only tipical German Restura and Grocery shop but there are also tipical Indian, Pakistani or Nepalese  Restura and Shops. The concentration of those kind of Restura can be found mainly around the area of City Center, catering the customer of foreign orgin who works in Banking, Finance, IT and other fileds."
      ]
    },
    {
      "cell_type": "markdown",
      "metadata": {
        "id": "o7eAGfiQf0Lv",
        "colab_type": "text"
      },
      "source": [
        "<a id=\"item1\"></a>"
      ]
    },
    {
      "cell_type": "markdown",
      "metadata": {
        "id": "lzoXesP4euUD",
        "colab_type": "text"
      },
      "source": [
        "### Problem Description\n",
        "People travel to other coutnry for shot stay as a tourist, visiting family members, on business trip or as a exchnage student for short term. People who are on short stay the want have the taste of teir country of orgin in tern of buying stuff or dining in restura. \n",
        "\n",
        "The aim of this project is to find the Indian Shops and Restura around City center in Berlin and Frankfurt. So that people from India or Nepal visitng Berlin or Frankfurt still feel home thousand miles from theri home country and will not miss thier own taste while shoping or dining out. "
      ]
    },
    {
      "cell_type": "markdown",
      "metadata": {
        "id": "ZifC0acCf54O",
        "colab_type": "text"
      },
      "source": [
        "<a id=\"item1\"></a>"
      ]
    },
    {
      "cell_type": "markdown",
      "metadata": {
        "id": "hu_fY-NdeuaC",
        "colab_type": "text"
      },
      "source": [
        "### Data Selection\n",
        "For the purpose of data Collection we will be using Foursquare API to gather data realted to Indian store and Restura in the the are of 5 KM around the city center. We will use the clustering techniques to categories the Store or Restura in the vicinity of City Center. We will also look for the exact adress location of each of the Restaurant or shop. \n"
      ]
    },
    {
      "cell_type": "markdown",
      "metadata": {
        "id": "6ds7c4eBf7hV",
        "colab_type": "text"
      },
      "source": [
        "<a id=\"item1\"></a>"
      ]
    },
    {
      "cell_type": "markdown",
      "metadata": {
        "id": "6J0Q5Lp5euqC",
        "colab_type": "text"
      },
      "source": [
        "### Methodology\n",
        "\n",
        "Firstly we extract data as the JSON data set and  will use pandas dataframe to get the relevant data we need. Then we will use Geocode to convert adresses into graphical coordinate and use folium to visualise the adress using in corresponding cities.\n",
        "\n"
      ]
    },
    {
      "cell_type": "markdown",
      "metadata": {
        "id": "ZXL_qR5HeuuB",
        "colab_type": "text"
      },
      "source": [
        ""
      ]
    },
    {
      "cell_type": "markdown",
      "metadata": {
        "id": "pdC9mc5devCq",
        "colab_type": "text"
      },
      "source": [
        ""
      ]
    },
    {
      "cell_type": "markdown",
      "metadata": {
        "id": "hGVcdmOkevAW",
        "colab_type": "text"
      },
      "source": [
        ""
      ]
    }
  ]
}