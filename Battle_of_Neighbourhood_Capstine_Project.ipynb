{
  "nbformat": 4,
  "nbformat_minor": 0,
  "metadata": {
    "colab": {
      "name": "Battle of Neighbourhood Capstine Project",
      "provenance": [],
      "authorship_tag": "ABX9TyOhtBBOarP/IMEC6tTRXdqg",
      "include_colab_link": true
    },
    "kernelspec": {
      "name": "python3",
      "display_name": "Python 3"
    }
  },
  "cells": [
    {
      "cell_type": "markdown",
      "metadata": {
        "id": "view-in-github",
        "colab_type": "text"
      },
      "source": [
        "<a href=\"https://colab.research.google.com/github/Sters966/Coursera_Capstone/blob/master/Battle_of_Neighbourhood_Capstine_Project.ipynb\" target=\"_parent\"><img src=\"https://colab.research.google.com/assets/colab-badge.svg\" alt=\"Open In Colab\"/></a>"
      ]
    },
    {
      "cell_type": "markdown",
      "metadata": {
        "id": "W2NHeBTtzxu_",
        "colab_type": "text"
      },
      "source": [
        "### Berlin, Frankfurt and Munich\n"
      ]
    },
    {
      "cell_type": "markdown",
      "metadata": {
        "id": "0kOkWDT0yhUD",
        "colab_type": "text"
      },
      "source": [
        "<table><tr>\n",
        "\n",
        "<td><img src='https://upload.wikimedia.org/wikipedia/commons/thumb/a/a6/Brandenburger_Tor_abends.jpg/1280px-Brandenburger_Tor_abends.jpg' ></td>\n",
        "\n",
        "<td><img src='https://upload.wikimedia.org/wikipedia/commons/thumb/d/d7/Skyline_Frankfurt_am_Main_2015.jpg/1280px-Skyline_Frankfurt_am_Main_2015.jpg'><td>\n",
        "\n",
        "<td><img src='https://upload.wikimedia.org/wikipedia/commons/thumb/d/d3/Stadtbild_M%C3%BCnchen.jpg/1280px-Stadtbild_M%C3%BCnchen.jpg'></td>\n",
        "\n",
        "</tr></table>"
      ]
    }
  ]
}