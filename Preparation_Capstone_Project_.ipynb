{
  "nbformat": 4,
  "nbformat_minor": 0,
  "metadata": {
    "kernelspec": {
      "display_name": "Python 3",
      "language": "python",
      "name": "python3"
    },
    "language_info": {
      "codemirror_mode": {
        "name": "ipython",
        "version": 3
      },
      "file_extension": ".py",
      "mimetype": "text/x-python",
      "name": "python",
      "nbconvert_exporter": "python",
      "pygments_lexer": "ipython3",
      "version": "3.6.5"
    },
    "colab": {
      "name": "Preparation Capstone Project  .ipynb",
      "provenance": [],
      "include_colab_link": true
    }
  },
  "cells": [
    {
      "cell_type": "markdown",
      "metadata": {
        "id": "view-in-github",
        "colab_type": "text"
      },
      "source": [
        "<a href=\"https://colab.research.google.com/github/Sters966/Coursera_Capstone/blob/master/Preparation_Capstone_Project_.ipynb\" target=\"_parent\"><img src=\"https://colab.research.google.com/assets/colab-badge.svg\" alt=\"Open In Colab\"/></a>"
      ]
    },
    {
      "cell_type": "markdown",
      "metadata": {
        "button": false,
        "deletable": true,
        "new_sheet": false,
        "run_control": {
          "read_only": false
        },
        "id": "7OJEUYrn_Txx",
        "colab_type": "text"
      },
      "source": [
        "<a href=\"https://cognitiveclass.ai\"><img src = \"https://ibm.box.com/shared/static/9gegpsmnsoo25ikkbl4qzlvlyjbgxs5x.png\" width = 400> </a>\n",
        "\n",
        "<h1 align=center><font size = 5>Learning FourSquare API with Python</font></h1>"
      ]
    },
    {
      "cell_type": "markdown",
      "metadata": {
        "button": false,
        "deletable": true,
        "new_sheet": false,
        "run_control": {
          "read_only": false
        },
        "id": "BHNc53sS_Txz",
        "colab_type": "text"
      },
      "source": [
        "   "
      ]
    },
    {
      "cell_type": "markdown",
      "metadata": {
        "button": false,
        "deletable": true,
        "new_sheet": false,
        "run_control": {
          "read_only": false
        },
        "id": "uGV_1Dv8_Tx0",
        "colab_type": "text"
      },
      "source": [
        "## Introduction\n",
        "\n",
        "In this lab, you will learn in details how to make calls to the Foursquare API for different purposes. You will learn how to construct a URL to send a request to the API to search for a specific type of venues, to explore a particular venue, to explore a Foursquare user, to explore a geographical location, and to get trending venues around a location. Also, you will learn how to use the visualization library, Folium, to visualize the results."
      ]
    },
    {
      "cell_type": "markdown",
      "metadata": {
        "button": false,
        "deletable": true,
        "new_sheet": false,
        "run_control": {
          "read_only": false
        },
        "id": "uHCUdJJ8_Tx1",
        "colab_type": "text"
      },
      "source": [
        "## Table of Contents\n",
        "\n",
        "1. <a href=\"#item1\">Foursquare API Search Function</a>\n",
        "2. <a href=\"#item2\">Explore a Given Venue</a>  \n",
        "3. <a href=\"#item3\">Explore a User</a>  \n",
        "4. <a href=\"#item4\">Foursquare API Explore Function</a>  \n",
        "5. <a href=\"#item5\">Get Trending Venues</a>  "
      ]
    },
    {
      "cell_type": "markdown",
      "metadata": {
        "button": false,
        "deletable": true,
        "new_sheet": false,
        "run_control": {
          "read_only": false
        },
        "id": "n6DytorL_Tx3",
        "colab_type": "text"
      },
      "source": [
        "### Import necessary Libraries"
      ]
    },
    {
      "cell_type": "code",
      "metadata": {
        "button": false,
        "deletable": true,
        "new_sheet": false,
        "run_control": {
          "read_only": false
        },
        "id": "BKukW26U_Tx4",
        "colab_type": "code",
        "outputId": "15b801fa-9f59-4c41-94d6-3a25a112adb5",
        "colab": {
          "base_uri": "https://localhost:8080/",
          "height": 85
        }
      },
      "source": [
        "import requests # library to handle requests\n",
        "import pandas as pd # library for data analsysis\n",
        "import numpy as np # library to handle data in a vectorized manner\n",
        "import random # library for random number generation\n",
        "\n",
        "!conda install -c conda-forge geopy --yes \n",
        "from geopy.geocoders import Nominatim # module to convert an address into latitude and longitude values\n",
        "\n",
        "# libraries for displaying images\n",
        "from IPython.display import Image \n",
        "from IPython.core.display import HTML \n",
        "    \n",
        "# tranforming json file into a pandas dataframe library\n",
        "from pandas.io.json import json_normalize\n",
        "\n",
        "!conda install -c conda-forge folium=0.5.0 --yes\n",
        "import folium # plotting library\n",
        "\n",
        "print('Folium installed')\n",
        "print('Libraries imported.')"
      ],
      "execution_count": 0,
      "outputs": [
        {
          "output_type": "stream",
          "text": [
            "/bin/bash: conda: command not found\n",
            "/bin/bash: conda: command not found\n",
            "Folium installed\n",
            "Libraries imported.\n"
          ],
          "name": "stdout"
        }
      ]
    },
    {
      "cell_type": "markdown",
      "metadata": {
        "button": false,
        "deletable": true,
        "new_sheet": false,
        "run_control": {
          "read_only": false
        },
        "id": "y1nIkphR_Tx9",
        "colab_type": "text"
      },
      "source": [
        "### Define Foursquare Credentials and Version"
      ]
    },
    {
      "cell_type": "markdown",
      "metadata": {
        "button": false,
        "deletable": true,
        "new_sheet": false,
        "run_control": {
          "read_only": false
        },
        "id": "60kTBTHc_Tx-",
        "colab_type": "text"
      },
      "source": [
        "##### Make sure that you have created a Foursquare developer account and have your credentials handy"
      ]
    },
    {
      "cell_type": "code",
      "metadata": {
        "button": false,
        "deletable": true,
        "new_sheet": false,
        "run_control": {
          "read_only": false
        },
        "id": "6JLh4Kay_Tx_",
        "colab_type": "code",
        "outputId": "02c60f80-2ecd-4612-c7c0-aa68e92a0308",
        "colab": {
          "base_uri": "https://localhost:8080/",
          "height": 68
        }
      },
      "source": [
        "CLIENT_ID = 'CTP4SNVL2L4PHYUGJZCZKVZGANN5CA4USDOR2KFYPAAN4FD0' # your Foursquare ID\n",
        "CLIENT_SECRET = 'MDYGFM0WOZSWBNRNRATGOLGG1GEFHAP5QGRGWCOAURN511UT' # your Foursquare Secret\n",
        "VERSION = '20200501'\n",
        "LIMIT = 30\n",
        "print('Your credentails:')\n",
        "print('CLIENT_ID: ' + CLIENT_ID)\n",
        "print('CLIENT_SECRET:' + CLIENT_SECRET)"
      ],
      "execution_count": 0,
      "outputs": [
        {
          "output_type": "stream",
          "text": [
            "Your credentails:\n",
            "CLIENT_ID: CTP4SNVL2L4PHYUGJZCZKVZGANN5CA4USDOR2KFYPAAN4FD0\n",
            "CLIENT_SECRET:MDYGFM0WOZSWBNRNRATGOLGG1GEFHAP5QGRGWCOAURN511UT\n"
          ],
          "name": "stdout"
        }
      ]
    },
    {
      "cell_type": "markdown",
      "metadata": {
        "button": false,
        "deletable": true,
        "new_sheet": false,
        "run_control": {
          "read_only": false
        },
        "id": "HsQTA526_TyE",
        "colab_type": "text"
      },
      "source": [
        "  "
      ]
    },
    {
      "cell_type": "markdown",
      "metadata": {
        "button": false,
        "deletable": true,
        "new_sheet": false,
        "run_control": {
          "read_only": false
        },
        "id": "B0lJuJX0_TyF",
        "colab_type": "text"
      },
      "source": [
        "# **Indian Shops and Restaurant around Berlin**\n"
      ]
    },
    {
      "cell_type": "markdown",
      "metadata": {
        "id": "Mn3w0x4i_TyG",
        "colab_type": "text"
      },
      "source": [
        "In order to define an instance of the geocoder, we need to define a user_agent. We will name our agent <em>foursquare_agent</em>, as shown below."
      ]
    },
    {
      "cell_type": "code",
      "metadata": {
        "button": false,
        "deletable": true,
        "new_sheet": false,
        "run_control": {
          "read_only": false
        },
        "id": "ATGtxLEE_TyH",
        "colab_type": "code",
        "outputId": "6ebad9a7-fbcb-46c6-900a-cc022c48b886",
        "colab": {
          "base_uri": "https://localhost:8080/",
          "height": 34
        }
      },
      "source": [
        "address = 'Berlin, Germany'\n",
        "\n",
        "geolocator = Nominatim(user_agent=\"foursquare_agent\")\n",
        "location = geolocator.geocode(address)\n",
        "latitude = location.latitude\n",
        "longitude = location.longitude\n",
        "print(latitude, longitude)"
      ],
      "execution_count": 0,
      "outputs": [
        {
          "output_type": "stream",
          "text": [
            "52.5170365 13.3888599\n"
          ],
          "name": "stdout"
        }
      ]
    },
    {
      "cell_type": "markdown",
      "metadata": {
        "button": false,
        "deletable": true,
        "new_sheet": false,
        "run_control": {
          "read_only": false
        },
        "id": "flYehB70_TyM",
        "colab_type": "text"
      },
      "source": [
        "   "
      ]
    },
    {
      "cell_type": "markdown",
      "metadata": {
        "button": false,
        "deletable": true,
        "new_sheet": false,
        "run_control": {
          "read_only": false
        },
        "id": "MLiD1JEZ_TyN",
        "colab_type": "text"
      },
      "source": [
        "<a id=\"item1\"></a>"
      ]
    },
    {
      "cell_type": "markdown",
      "metadata": {
        "button": false,
        "deletable": true,
        "new_sheet": false,
        "run_control": {
          "read_only": false
        },
        "id": "mwcNIv4-_TyO",
        "colab_type": "text"
      },
      "source": [
        "## 1. Search for a specific venue category\n",
        "> `https://api.foursquare.com/v2/venues/`**search**`?client_id=`**CLIENT_ID**`&client_secret=`**CLIENT_SECRET**`&ll=`**LATITUDE**`,`**LONGITUDE**`&v=`**VERSION**`&query=`**QUERY**`&radius=`**RADIUS**`&limit=`**LIMIT**"
      ]
    },
    {
      "cell_type": "markdown",
      "metadata": {
        "button": false,
        "deletable": true,
        "new_sheet": false,
        "run_control": {
          "read_only": false
        },
        "id": "BqaX9rUb_TyQ",
        "colab_type": "text"
      },
      "source": [
        "#### Now, let's assume that it is lunch time, and you are craving Italian food. So, let's define a query to search for Italian food that is within 500 metres from the Conrad Hotel. "
      ]
    },
    {
      "cell_type": "code",
      "metadata": {
        "button": false,
        "deletable": true,
        "new_sheet": false,
        "run_control": {
          "read_only": false
        },
        "scrolled": true,
        "id": "tnTmhi98_TyQ",
        "colab_type": "code",
        "outputId": "8f6e9fb1-ee93-4383-9dca-4aa1ab2d9eb7",
        "colab": {
          "base_uri": "https://localhost:8080/",
          "height": 34
        }
      },
      "source": [
        "search_query = 'Indian'\n",
        "radius = 5000\n",
        "print(search_query + ' .... OK!')"
      ],
      "execution_count": 0,
      "outputs": [
        {
          "output_type": "stream",
          "text": [
            "Indian .... OK!\n"
          ],
          "name": "stdout"
        }
      ]
    },
    {
      "cell_type": "markdown",
      "metadata": {
        "button": false,
        "deletable": true,
        "new_sheet": false,
        "run_control": {
          "read_only": false
        },
        "id": "LcyDooTM_TyV",
        "colab_type": "text"
      },
      "source": [
        "#### Define the corresponding URL"
      ]
    },
    {
      "cell_type": "code",
      "metadata": {
        "button": false,
        "deletable": true,
        "new_sheet": false,
        "run_control": {
          "read_only": false
        },
        "id": "4nGGL7jX_TyX",
        "colab_type": "code",
        "outputId": "a0810e02-78cc-408c-d971-987ec5790651",
        "colab": {
          "base_uri": "https://localhost:8080/",
          "height": 54
        }
      },
      "source": [
        "url = 'https://api.foursquare.com/v2/venues/search?client_id={}&client_secret={}&ll={},{}&v={}&query={}&radius={}&limit={}'.format(CLIENT_ID, CLIENT_SECRET, latitude, longitude, VERSION, search_query, radius, LIMIT)\n",
        "url"
      ],
      "execution_count": 0,
      "outputs": [
        {
          "output_type": "execute_result",
          "data": {
            "text/plain": [
              "'https://api.foursquare.com/v2/venues/search?client_id=CTP4SNVL2L4PHYUGJZCZKVZGANN5CA4USDOR2KFYPAAN4FD0&client_secret=MDYGFM0WOZSWBNRNRATGOLGG1GEFHAP5QGRGWCOAURN511UT&ll=52.5170365,13.3888599&v=20200501&query=Indian&radius=5000&limit=30'"
            ]
          },
          "metadata": {
            "tags": []
          },
          "execution_count": 93
        }
      ]
    },
    {
      "cell_type": "markdown",
      "metadata": {
        "button": false,
        "deletable": true,
        "new_sheet": false,
        "run_control": {
          "read_only": false
        },
        "id": "MiFG6iCr_Tyb",
        "colab_type": "text"
      },
      "source": [
        "#### Send the GET Request and examine the results"
      ]
    },
    {
      "cell_type": "code",
      "metadata": {
        "button": false,
        "deletable": true,
        "new_sheet": false,
        "run_control": {
          "read_only": false
        },
        "scrolled": true,
        "id": "0U9f3vLb_Tyc",
        "colab_type": "code",
        "outputId": "a1da8386-62a6-4164-c0c5-a88b74dfe3aa",
        "colab": {
          "base_uri": "https://localhost:8080/",
          "height": 1000
        }
      },
      "source": [
        "results = requests.get(url).json()\n",
        "results"
      ],
      "execution_count": 0,
      "outputs": [
        {
          "output_type": "execute_result",
          "data": {
            "text/plain": [
              "{'meta': {'code': 200, 'requestId': '5eb45c53b9a389001b720c69'},\n",
              " 'response': {'venues': [{'categories': [{'icon': {'prefix': 'https://ss3.4sqi.net/img/categories_v2/food/indian_',\n",
              "       'suffix': '.png'},\n",
              "      'id': '4bf58dd8d48988d10f941735',\n",
              "      'name': 'Indian Restaurant',\n",
              "      'pluralName': 'Indian Restaurants',\n",
              "      'primary': True,\n",
              "      'shortName': 'Indian'}],\n",
              "    'hasPerk': False,\n",
              "    'id': '4c4d9711f53d0f47fc2c3fa5',\n",
              "    'location': {'address': 'Pannierstr. 40',\n",
              "     'cc': 'DE',\n",
              "     'city': 'Berlin',\n",
              "     'country': 'Deutschland',\n",
              "     'distance': 4291,\n",
              "     'formattedAddress': ['Pannierstr. 40', '12047 Berlin', 'Deutschland'],\n",
              "     'labeledLatLngs': [{'label': 'display',\n",
              "       'lat': 52.4900201599532,\n",
              "       'lng': 13.43403739916021}],\n",
              "     'lat': 52.4900201599532,\n",
              "     'lng': 13.43403739916021,\n",
              "     'postalCode': '12047',\n",
              "     'state': 'Berlin'},\n",
              "    'name': 'Indian Dhaba Mira',\n",
              "    'referralId': 'v-1588878558'},\n",
              "   {'categories': [{'icon': {'prefix': 'https://ss3.4sqi.net/img/categories_v2/food/indian_',\n",
              "       'suffix': '.png'},\n",
              "      'id': '4bf58dd8d48988d10f941735',\n",
              "      'name': 'Indian Restaurant',\n",
              "      'pluralName': 'Indian Restaurants',\n",
              "      'primary': True,\n",
              "      'shortName': 'Indian'}],\n",
              "    'hasPerk': False,\n",
              "    'id': '4f9fb37ee4b027acbf351e5b',\n",
              "    'location': {'cc': 'DE',\n",
              "     'city': 'Berlin',\n",
              "     'country': 'Deutschland',\n",
              "     'distance': 1015,\n",
              "     'formattedAddress': ['Berlin', 'Deutschland'],\n",
              "     'labeledLatLngs': [{'label': 'display',\n",
              "       'lat': 52.507947979624696,\n",
              "       'lng': 13.390198945999146}],\n",
              "     'lat': 52.507947979624696,\n",
              "     'lng': 13.390198945999146,\n",
              "     'state': 'Berlin'},\n",
              "    'name': 'Indian Box',\n",
              "    'referralId': 'v-1588878558'},\n",
              "   {'categories': [{'icon': {'prefix': 'https://ss3.4sqi.net/img/categories_v2/food/default_',\n",
              "       'suffix': '.png'},\n",
              "      'id': '54135bf5e4b08f3d2429dfdd',\n",
              "      'name': 'North Indian Restaurant',\n",
              "      'pluralName': 'North Indian Restaurants',\n",
              "      'primary': True,\n",
              "      'shortName': 'North Indian'}],\n",
              "    'hasPerk': False,\n",
              "    'id': '5e9b0ab76992d20009f9046c',\n",
              "    'location': {'address': 'Schöneberger Str. 35',\n",
              "     'cc': 'DE',\n",
              "     'city': 'Berlin',\n",
              "     'country': 'Deutschland',\n",
              "     'crossStreet': 'Hafenplatz',\n",
              "     'distance': 1754,\n",
              "     'formattedAddress': ['Schöneberger Str. 35 (Hafenplatz)',\n",
              "      '10963 Berlin',\n",
              "      'Deutschland'],\n",
              "     'labeledLatLngs': [{'label': 'display',\n",
              "       'lat': 52.502617,\n",
              "       'lng': 13.378393}],\n",
              "     'lat': 52.502617,\n",
              "     'lng': 13.378393,\n",
              "     'neighborhood': 'Kreuzberg',\n",
              "     'postalCode': '10963',\n",
              "     'state': 'Berlin'},\n",
              "    'name': 'Indian Street Food',\n",
              "    'referralId': 'v-1588878558'},\n",
              "   {'categories': [{'icon': {'prefix': 'https://ss3.4sqi.net/img/categories_v2/food/indian_',\n",
              "       'suffix': '.png'},\n",
              "      'id': '4bf58dd8d48988d10f941735',\n",
              "      'name': 'Indian Restaurant',\n",
              "      'pluralName': 'Indian Restaurants',\n",
              "      'primary': True,\n",
              "      'shortName': 'Indian'}],\n",
              "    'hasPerk': False,\n",
              "    'id': '5df8b72a21819900088a75e1',\n",
              "    'location': {'address': 'Leipziger Platz 12',\n",
              "     'cc': 'DE',\n",
              "     'country': 'Deutschland',\n",
              "     'distance': 901,\n",
              "     'formattedAddress': ['Leipziger Platz 12', 'Deutschland'],\n",
              "     'labeledLatLngs': [{'label': 'display',\n",
              "       'lat': 52.51064,\n",
              "       'lng': 13.380703}],\n",
              "     'lat': 52.51064,\n",
              "     'lng': 13.380703},\n",
              "    'name': 'Masti Indian Food',\n",
              "    'referralId': 'v-1588878558'},\n",
              "   {'categories': [{'icon': {'prefix': 'https://ss3.4sqi.net/img/categories_v2/food/indian_',\n",
              "       'suffix': '.png'},\n",
              "      'id': '4bf58dd8d48988d10f941735',\n",
              "      'name': 'Indian Restaurant',\n",
              "      'pluralName': 'Indian Restaurants',\n",
              "      'primary': True,\n",
              "      'shortName': 'Indian'}],\n",
              "    'hasPerk': False,\n",
              "    'id': '5ab0292ebe70784a3b12c3fd',\n",
              "    'location': {'address': 'Dircksenstraße 94',\n",
              "     'cc': 'DE',\n",
              "     'city': 'Berlin',\n",
              "     'country': 'Deutschland',\n",
              "     'distance': 1788,\n",
              "     'formattedAddress': ['Dircksenstraße 94', '10178 Berlin', 'Deutschland'],\n",
              "     'labeledLatLngs': [{'label': 'display',\n",
              "       'lat': 52.51809951231597,\n",
              "       'lng': 13.415199816226957}],\n",
              "     'lat': 52.51809951231597,\n",
              "     'lng': 13.415199816226957,\n",
              "     'postalCode': '10178',\n",
              "     'state': 'Berlin'},\n",
              "    'name': 'Indian Village',\n",
              "    'referralId': 'v-1588878558'},\n",
              "   {'categories': [{'icon': {'prefix': 'https://ss3.4sqi.net/img/categories_v2/food/indian_',\n",
              "       'suffix': '.png'},\n",
              "      'id': '4bf58dd8d48988d10f941735',\n",
              "      'name': 'Indian Restaurant',\n",
              "      'pluralName': 'Indian Restaurants',\n",
              "      'primary': True,\n",
              "      'shortName': 'Indian'}],\n",
              "    'hasPerk': False,\n",
              "    'id': '527b883f11d2a86735f6a7eb',\n",
              "    'location': {'cc': 'DE',\n",
              "     'country': 'Deutschland',\n",
              "     'distance': 2170,\n",
              "     'formattedAddress': ['Deutschland'],\n",
              "     'labeledLatLngs': [{'label': 'display',\n",
              "       'lat': 52.534252,\n",
              "       'lng': 13.403914}],\n",
              "     'lat': 52.534252,\n",
              "     'lng': 13.403914},\n",
              "    'name': 'Indian Man',\n",
              "    'referralId': 'v-1588878558'},\n",
              "   {'categories': [{'icon': {'prefix': 'https://ss3.4sqi.net/img/categories_v2/food/indian_',\n",
              "       'suffix': '.png'},\n",
              "      'id': '4bf58dd8d48988d10f941735',\n",
              "      'name': 'Indian Restaurant',\n",
              "      'pluralName': 'Indian Restaurants',\n",
              "      'primary': True,\n",
              "      'shortName': 'Indian'}],\n",
              "    'hasPerk': False,\n",
              "    'id': '5df8d20fe2044300082af41a',\n",
              "    'location': {'address': 'Grunerstr. 20',\n",
              "     'cc': 'DE',\n",
              "     'country': 'Deutschland',\n",
              "     'distance': 1860,\n",
              "     'formattedAddress': ['Grunerstr. 20', 'Deutschland'],\n",
              "     'labeledLatLngs': [{'label': 'display',\n",
              "       'lat': 52.519478,\n",
              "       'lng': 13.416025}],\n",
              "     'lat': 52.519478,\n",
              "     'lng': 13.416025},\n",
              "    'name': 'Anju Indian Cuisine',\n",
              "    'referralId': 'v-1588878558'},\n",
              "   {'categories': [{'icon': {'prefix': 'https://ss3.4sqi.net/img/categories_v2/food/indian_',\n",
              "       'suffix': '.png'},\n",
              "      'id': '4bf58dd8d48988d10f941735',\n",
              "      'name': 'Indian Restaurant',\n",
              "      'pluralName': 'Indian Restaurants',\n",
              "      'primary': True,\n",
              "      'shortName': 'Indian'}],\n",
              "    'hasPerk': False,\n",
              "    'id': '4fa9481be4b02cc7405fb26d',\n",
              "    'location': {'address': 'Hasenheide 11',\n",
              "     'cc': 'DE',\n",
              "     'city': 'Berlin',\n",
              "     'country': 'Deutschland',\n",
              "     'distance': 3996,\n",
              "     'formattedAddress': ['Hasenheide 11', '10967 Berlin', 'Deutschland'],\n",
              "     'labeledLatLngs': [{'label': 'display',\n",
              "       'lat': 52.48723016608748,\n",
              "       'lng': 13.421733939241983}],\n",
              "     'lat': 52.48723016608748,\n",
              "     'lng': 13.421733939241983,\n",
              "     'postalCode': '10967',\n",
              "     'state': 'Berlin'},\n",
              "    'name': 'Indian Dhaba Mitra',\n",
              "    'referralId': 'v-1588878558'},\n",
              "   {'categories': [{'icon': {'prefix': 'https://ss3.4sqi.net/img/categories_v2/food/indian_',\n",
              "       'suffix': '.png'},\n",
              "      'id': '4bf58dd8d48988d10f941735',\n",
              "      'name': 'Indian Restaurant',\n",
              "      'pluralName': 'Indian Restaurants',\n",
              "      'primary': True,\n",
              "      'shortName': 'Indian'}],\n",
              "    'hasPerk': False,\n",
              "    'id': '568ab2ac498e1315be3f5404',\n",
              "    'location': {'address': 'Danziger Str. 26',\n",
              "     'cc': 'DE',\n",
              "     'city': 'Berlin',\n",
              "     'country': 'Deutschland',\n",
              "     'distance': 3220,\n",
              "     'formattedAddress': ['Danziger Str. 26', '10435 Berlin', 'Deutschland'],\n",
              "     'labeledLatLngs': [{'label': 'display',\n",
              "       'lat': 52.54015824863556,\n",
              "       'lng': 13.417447397931367}],\n",
              "     'lat': 52.54015824863556,\n",
              "     'lng': 13.417447397931367,\n",
              "     'postalCode': '10435',\n",
              "     'state': 'Berlin'},\n",
              "    'name': 'Indian Express',\n",
              "    'referralId': 'v-1588878558'},\n",
              "   {'categories': [{'icon': {'prefix': 'https://ss3.4sqi.net/img/categories_v2/food/indian_',\n",
              "       'suffix': '.png'},\n",
              "      'id': '4bf58dd8d48988d10f941735',\n",
              "      'name': 'Indian Restaurant',\n",
              "      'pluralName': 'Indian Restaurants',\n",
              "      'primary': True,\n",
              "      'shortName': 'Indian'}],\n",
              "    'hasPerk': False,\n",
              "    'id': '50bbc602e4b0ecc0b0d0d05b',\n",
              "    'location': {'cc': 'DE',\n",
              "     'city': 'Berlin',\n",
              "     'country': 'Deutschland',\n",
              "     'distance': 4386,\n",
              "     'formattedAddress': ['Berlin', 'Deutschland'],\n",
              "     'labeledLatLngs': [{'label': 'display',\n",
              "       'lat': 52.4862038311843,\n",
              "       'lng': 13.429176807403563}],\n",
              "     'lat': 52.4862038311843,\n",
              "     'lng': 13.429176807403563,\n",
              "     'state': 'Berlin'},\n",
              "    'name': 'Indian Curry - Tandoori',\n",
              "    'referralId': 'v-1588878558'},\n",
              "   {'categories': [{'icon': {'prefix': 'https://ss3.4sqi.net/img/categories_v2/food/indian_',\n",
              "       'suffix': '.png'},\n",
              "      'id': '4bf58dd8d48988d10f941735',\n",
              "      'name': 'Indian Restaurant',\n",
              "      'pluralName': 'Indian Restaurants',\n",
              "      'primary': True,\n",
              "      'shortName': 'Indian'}],\n",
              "    'hasPerk': False,\n",
              "    'id': '4b45f5d8f964a520f01226e3',\n",
              "    'location': {'address': 'Zossener Str. 12',\n",
              "     'cc': 'DE',\n",
              "     'city': 'Berlin',\n",
              "     'country': 'Deutschland',\n",
              "     'distance': 2797,\n",
              "     'formattedAddress': ['Zossener Str. 12', '10961 Berlin', 'Deutschland'],\n",
              "     'labeledLatLngs': [{'label': 'display',\n",
              "       'lat': 52.492149130833035,\n",
              "       'lng': 13.39458048814305}],\n",
              "     'lat': 52.492149130833035,\n",
              "     'lng': 13.39458048814305,\n",
              "     'postalCode': '10961',\n",
              "     'state': 'Berlin'},\n",
              "    'name': 'Abirams Indian Live Kitchen',\n",
              "    'referralId': 'v-1588878558'},\n",
              "   {'categories': [{'icon': {'prefix': 'https://ss3.4sqi.net/img/categories_v2/shops/apparel_men_',\n",
              "       'suffix': '.png'},\n",
              "      'id': '4bf58dd8d48988d106951735',\n",
              "      'name': \"Men's Store\",\n",
              "      'pluralName': \"Men's Stores\",\n",
              "      'primary': True,\n",
              "      'shortName': \"Men's Store\"}],\n",
              "    'hasPerk': False,\n",
              "    'id': '56bb358a498e1b9995ef876f',\n",
              "    'location': {'address': 'Uhlandstr. 195',\n",
              "     'cc': 'DE',\n",
              "     'city': 'Berlin',\n",
              "     'country': 'Deutschland',\n",
              "     'distance': 4360,\n",
              "     'formattedAddress': ['Uhlandstr. 195', '10623 Berlin', 'Deutschland'],\n",
              "     'labeledLatLngs': [{'label': 'display',\n",
              "       'lat': 52.50751759999999,\n",
              "       'lng': 13.326424599999996}],\n",
              "     'lat': 52.50751759999999,\n",
              "     'lng': 13.326424599999996,\n",
              "     'postalCode': '10623',\n",
              "     'state': 'Berlin'},\n",
              "    'name': 'Indian Motorcycle Fashion Store',\n",
              "    'referralId': 'v-1588878558',\n",
              "    'venuePage': {'id': '156483479'}},\n",
              "   {'categories': [{'icon': {'prefix': 'https://ss3.4sqi.net/img/categories_v2/food/indian_',\n",
              "       'suffix': '.png'},\n",
              "      'id': '4bf58dd8d48988d10f941735',\n",
              "      'name': 'Indian Restaurant',\n",
              "      'pluralName': 'Indian Restaurants',\n",
              "      'primary': True,\n",
              "      'shortName': 'Indian'}],\n",
              "    'hasPerk': False,\n",
              "    'id': '4da4a07bd686b60cc0f2e328',\n",
              "    'location': {'address': 'Karl-Marx-Straße 66',\n",
              "     'cc': 'DE',\n",
              "     'city': 'Berlin',\n",
              "     'country': 'Deutschland',\n",
              "     'distance': 4912,\n",
              "     'formattedAddress': ['Karl-Marx-Straße 66',\n",
              "      '12043 Berlin',\n",
              "      'Deutschland'],\n",
              "     'labeledLatLngs': [{'label': 'display',\n",
              "       'lat': 52.482024,\n",
              "       'lng': 13.432991}],\n",
              "     'lat': 52.482024,\n",
              "     'lng': 13.432991,\n",
              "     'postalCode': '12043',\n",
              "     'state': 'Berlin'},\n",
              "    'name': 'Indian Express',\n",
              "    'referralId': 'v-1588878558'},\n",
              "   {'categories': [{'icon': {'prefix': 'https://ss3.4sqi.net/img/categories_v2/food/indian_',\n",
              "       'suffix': '.png'},\n",
              "      'id': '4bf58dd8d48988d10f941735',\n",
              "      'name': 'Indian Restaurant',\n",
              "      'pluralName': 'Indian Restaurants',\n",
              "      'primary': True,\n",
              "      'shortName': 'Indian'}],\n",
              "    'hasPerk': False,\n",
              "    'id': '4bfe6543b68d0f47cc16ea57',\n",
              "    'location': {'address': 'Albrechtstr. 12',\n",
              "     'cc': 'DE',\n",
              "     'city': 'Berlin',\n",
              "     'country': 'Deutschland',\n",
              "     'crossStreet': 'Schiffbauerdamm',\n",
              "     'distance': 511,\n",
              "     'formattedAddress': ['Albrechtstr. 12 (Schiffbauerdamm)',\n",
              "      '10117 Berlin',\n",
              "      'Deutschland'],\n",
              "     'labeledLatLngs': [{'label': 'display',\n",
              "       'lat': 52.52109396100856,\n",
              "       'lng': 13.385314915259729}],\n",
              "     'lat': 52.52109396100856,\n",
              "     'lng': 13.385314915259729,\n",
              "     'postalCode': '10117',\n",
              "     'state': 'Berlin'},\n",
              "    'name': 'ANAND',\n",
              "    'referralId': 'v-1588878558'},\n",
              "   {'categories': [{'icon': {'prefix': 'https://ss3.4sqi.net/img/categories_v2/food/indian_',\n",
              "       'suffix': '.png'},\n",
              "      'id': '4bf58dd8d48988d10f941735',\n",
              "      'name': 'Indian Restaurant',\n",
              "      'pluralName': 'Indian Restaurants',\n",
              "      'primary': True,\n",
              "      'shortName': 'Indian'}],\n",
              "    'hasPerk': False,\n",
              "    'id': '5287af76498e083002dff568',\n",
              "    'location': {'address': 'Alt-Moabit 107',\n",
              "     'cc': 'DE',\n",
              "     'city': 'Moabit',\n",
              "     'country': 'Deutschland',\n",
              "     'distance': 2804,\n",
              "     'formattedAddress': ['Alt-Moabit 107', '10559 Moabit', 'Deutschland'],\n",
              "     'labeledLatLngs': [{'label': 'display',\n",
              "       'lat': 52.52448584793399,\n",
              "       'lng': 13.349313669086767}],\n",
              "     'lat': 52.52448584793399,\n",
              "     'lng': 13.349313669086767,\n",
              "     'postalCode': '10559',\n",
              "     'state': 'Berlin'},\n",
              "    'name': 'Agra - Indian Cuisine',\n",
              "    'referralId': 'v-1588878558'},\n",
              "   {'categories': [{'icon': {'prefix': 'https://ss3.4sqi.net/img/categories_v2/food/indian_',\n",
              "       'suffix': '.png'},\n",
              "      'id': '4bf58dd8d48988d10f941735',\n",
              "      'name': 'Indian Restaurant',\n",
              "      'pluralName': 'Indian Restaurants',\n",
              "      'primary': True,\n",
              "      'shortName': 'Indian'}],\n",
              "    'hasPerk': False,\n",
              "    'id': '5b7be97995a7220039686904',\n",
              "    'location': {'address': 'Stromstr. 11-17',\n",
              "     'cc': 'DE',\n",
              "     'country': 'Deutschland',\n",
              "     'distance': 3274,\n",
              "     'formattedAddress': ['Stromstr. 11-17', 'Deutschland'],\n",
              "     'labeledLatLngs': [{'label': 'display',\n",
              "       'lat': 52.527562,\n",
              "       'lng': 13.343716}],\n",
              "     'lat': 52.527562,\n",
              "     'lng': 13.343716},\n",
              "    'name': 'Tando - Indian Fusion',\n",
              "    'referralId': 'v-1588878558'},\n",
              "   {'categories': [{'icon': {'prefix': 'https://ss3.4sqi.net/img/categories_v2/food/indian_',\n",
              "       'suffix': '.png'},\n",
              "      'id': '4bf58dd8d48988d10f941735',\n",
              "      'name': 'Indian Restaurant',\n",
              "      'pluralName': 'Indian Restaurants',\n",
              "      'primary': True,\n",
              "      'shortName': 'Indian'}],\n",
              "    'hasPerk': False,\n",
              "    'id': '5b7306b5345cbe0039e2d0ed',\n",
              "    'location': {'address': 'Oppelner Straße',\n",
              "     'cc': 'DE',\n",
              "     'city': 'Berlin',\n",
              "     'country': 'Deutschland',\n",
              "     'distance': 4026,\n",
              "     'formattedAddress': ['Oppelner Straße', '10997 Berlin', 'Deutschland'],\n",
              "     'labeledLatLngs': [{'label': 'display',\n",
              "       'lat': 52.500021,\n",
              "       'lng': 13.441306}],\n",
              "     'lat': 52.500021,\n",
              "     'lng': 13.441306,\n",
              "     'neighborhood': 'Wrangelkiez',\n",
              "     'postalCode': '10997',\n",
              "     'state': 'Berlin'},\n",
              "    'name': 'Singh Indian Street Food',\n",
              "    'referralId': 'v-1588878558'},\n",
              "   {'categories': [{'icon': {'prefix': 'https://ss3.4sqi.net/img/categories_v2/food/indian_',\n",
              "       'suffix': '.png'},\n",
              "      'id': '4bf58dd8d48988d10f941735',\n",
              "      'name': 'Indian Restaurant',\n",
              "      'pluralName': 'Indian Restaurants',\n",
              "      'primary': True,\n",
              "      'shortName': 'Indian'}],\n",
              "    'hasPerk': False,\n",
              "    'id': '5c8b89809d7468002c7bf4db',\n",
              "    'location': {'address': 'Tamara-Danz-Str. 11',\n",
              "     'cc': 'DE',\n",
              "     'country': 'Deutschland',\n",
              "     'distance': 4067,\n",
              "     'formattedAddress': ['Tamara-Danz-Str. 11', 'Deutschland'],\n",
              "     'labeledLatLngs': [{'label': 'display',\n",
              "       'lat': 52.50606,\n",
              "       'lng': 13.446123}],\n",
              "     'lat': 52.50606,\n",
              "     'lng': 13.446123},\n",
              "    'name': 'Chutney Indian Food',\n",
              "    'referralId': 'v-1588878558'},\n",
              "   {'categories': [{'icon': {'prefix': 'https://ss3.4sqi.net/img/categories_v2/food/indian_',\n",
              "       'suffix': '.png'},\n",
              "      'id': '4bf58dd8d48988d10f941735',\n",
              "      'name': 'Indian Restaurant',\n",
              "      'pluralName': 'Indian Restaurants',\n",
              "      'primary': True,\n",
              "      'shortName': 'Indian'}],\n",
              "    'hasPerk': False,\n",
              "    'id': '501c2f5fe4b08947b4b958e7',\n",
              "    'location': {'address': 'Hauptstraße 54',\n",
              "     'cc': 'DE',\n",
              "     'city': 'Berlin',\n",
              "     'country': 'Deutschland',\n",
              "     'distance': 4173,\n",
              "     'formattedAddress': ['Hauptstraße 54', '10825 Berlin', 'Deutschland'],\n",
              "     'labeledLatLngs': [{'label': 'display',\n",
              "       'lat': 52.4907440224152,\n",
              "       'lng': 13.344958309906911}],\n",
              "     'lat': 52.4907440224152,\n",
              "     'lng': 13.344958309906911,\n",
              "     'postalCode': '10825',\n",
              "     'state': 'Berlin'},\n",
              "    'name': 'Raja Indian Deluxe',\n",
              "    'referralId': 'v-1588878558'},\n",
              "   {'categories': [{'icon': {'prefix': 'https://ss3.4sqi.net/img/categories_v2/food/indian_',\n",
              "       'suffix': '.png'},\n",
              "      'id': '4bf58dd8d48988d10f941735',\n",
              "      'name': 'Indian Restaurant',\n",
              "      'pluralName': 'Indian Restaurants',\n",
              "      'primary': True,\n",
              "      'shortName': 'Indian'}],\n",
              "    'hasPerk': False,\n",
              "    'id': '594fac0e0457b73eeb4081b5',\n",
              "    'location': {'cc': 'DE',\n",
              "     'city': 'Berlin',\n",
              "     'country': 'Deutschland',\n",
              "     'distance': 4225,\n",
              "     'formattedAddress': ['Berlin', 'Deutschland'],\n",
              "     'labeledLatLngs': [{'label': 'display',\n",
              "       'lat': 52.530914,\n",
              "       'lng': 13.330795}],\n",
              "     'lat': 52.530914,\n",
              "     'lng': 13.330795,\n",
              "     'state': 'Berlin'},\n",
              "    'name': 'My Indian Dream',\n",
              "    'referralId': 'v-1588878558'},\n",
              "   {'categories': [{'icon': {'prefix': 'https://ss3.4sqi.net/img/categories_v2/food/indian_',\n",
              "       'suffix': '.png'},\n",
              "      'id': '4bf58dd8d48988d10f941735',\n",
              "      'name': 'Indian Restaurant',\n",
              "      'pluralName': 'Indian Restaurants',\n",
              "      'primary': True,\n",
              "      'shortName': 'Indian'}],\n",
              "    'hasPerk': False,\n",
              "    'id': '4b572c16f964a520742928e3',\n",
              "    'location': {'address': 'Neue Roßstr. 13',\n",
              "     'cc': 'DE',\n",
              "     'city': 'Berlin',\n",
              "     'country': 'Deutschland',\n",
              "     'crossStreet': 'Wallstr.',\n",
              "     'distance': 1438,\n",
              "     'formattedAddress': ['Neue Roßstr. 13 (Wallstr.)',\n",
              "      '10179 Berlin',\n",
              "      'Deutschland'],\n",
              "     'labeledLatLngs': [{'label': 'display',\n",
              "       'lat': 52.512192682338004,\n",
              "       'lng': 13.408539575150119}],\n",
              "     'lat': 52.512192682338004,\n",
              "     'lng': 13.408539575150119,\n",
              "     'postalCode': '10179',\n",
              "     'state': 'Berlin'},\n",
              "    'name': 'Shezan',\n",
              "    'referralId': 'v-1588878558'},\n",
              "   {'categories': [{'icon': {'prefix': 'https://ss3.4sqi.net/img/categories_v2/education/academicbuilding_',\n",
              "       'suffix': '.png'},\n",
              "      'id': '4bf58dd8d48988d198941735',\n",
              "      'name': 'College Academic Building',\n",
              "      'pluralName': 'College Academic Buildings',\n",
              "      'primary': True,\n",
              "      'shortName': 'Academic Building'}],\n",
              "    'hasPerk': False,\n",
              "    'id': '582de5782a11fe702792fd29',\n",
              "    'location': {'cc': 'DE',\n",
              "     'country': 'Deutschland',\n",
              "     'distance': 2913,\n",
              "     'formattedAddress': ['Deutschland'],\n",
              "     'labeledLatLngs': [{'label': 'display',\n",
              "       'lat': 52.491194,\n",
              "       'lng': 13.395677}],\n",
              "     'lat': 52.491194,\n",
              "     'lng': 13.395677},\n",
              "    'name': 'Indiana University Europe Gateway',\n",
              "    'referralId': 'v-1588878558'},\n",
              "   {'categories': [{'icon': {'prefix': 'https://ss3.4sqi.net/img/categories_v2/parks_outdoors/playground_',\n",
              "       'suffix': '.png'},\n",
              "      'id': '4bf58dd8d48988d1e7941735',\n",
              "      'name': 'Playground',\n",
              "      'pluralName': 'Playgrounds',\n",
              "      'primary': True,\n",
              "      'shortName': 'Playground'}],\n",
              "    'hasPerk': False,\n",
              "    'id': '4e259d91d4c0d18a28a7b7b1',\n",
              "    'location': {'cc': 'DE',\n",
              "     'city': 'Berlin',\n",
              "     'country': 'Deutschland',\n",
              "     'crossStreet': 'Kopenhagener Str./ Ystader Str',\n",
              "     'distance': 3515,\n",
              "     'formattedAddress': ['Kopenhagener Str./ Ystader Str',\n",
              "      '10437 Berlin',\n",
              "      'Deutschland'],\n",
              "     'labeledLatLngs': [{'label': 'display',\n",
              "       'lat': 52.547565,\n",
              "       'lng': 13.402167}],\n",
              "     'lat': 52.547565,\n",
              "     'lng': 13.402167,\n",
              "     'postalCode': '10437',\n",
              "     'state': 'Berlin'},\n",
              "    'name': 'Indianerspielplatz',\n",
              "    'referralId': 'v-1588878558'},\n",
              "   {'categories': [{'icon': {'prefix': 'https://ss3.4sqi.net/img/categories_v2/travel/embassy_',\n",
              "       'suffix': '.png'},\n",
              "      'id': '4bf58dd8d48988d12c951735',\n",
              "      'name': 'Embassy / Consulate',\n",
              "      'pluralName': 'Embassies / Consulates',\n",
              "      'primary': True,\n",
              "      'shortName': 'Embassy'}],\n",
              "    'hasPerk': False,\n",
              "    'id': '4b011dfff964a520c24122e3',\n",
              "    'location': {'address': 'Tiergartenstr. 17',\n",
              "     'cc': 'DE',\n",
              "     'city': 'Berlin',\n",
              "     'country': 'Deutschland',\n",
              "     'distance': 1963,\n",
              "     'formattedAddress': ['Tiergartenstr. 17', '10785 Berlin', 'Deutschland'],\n",
              "     'labeledLatLngs': [{'label': 'display',\n",
              "       'lat': 52.5097448641588,\n",
              "       'lng': 13.362462241505833}],\n",
              "     'lat': 52.5097448641588,\n",
              "     'lng': 13.362462241505833,\n",
              "     'postalCode': '10785',\n",
              "     'state': 'Berlin'},\n",
              "    'name': 'Botschaft der Republik Indien',\n",
              "    'referralId': 'v-1588878558'},\n",
              "   {'categories': [{'icon': {'prefix': 'https://ss3.4sqi.net/img/categories_v2/food/indian_',\n",
              "       'suffix': '.png'},\n",
              "      'id': '4bf58dd8d48988d10f941735',\n",
              "      'name': 'Indian Restaurant',\n",
              "      'pluralName': 'Indian Restaurants',\n",
              "      'primary': True,\n",
              "      'shortName': 'Indian'}],\n",
              "    'hasPerk': False,\n",
              "    'id': '4d95a8f70caaa143a98062b3',\n",
              "    'location': {'address': 'Maybachufer 23',\n",
              "     'cc': 'DE',\n",
              "     'city': 'Berlin',\n",
              "     'country': 'Deutschland',\n",
              "     'crossStreet': 'Friedelstr.',\n",
              "     'distance': 3751,\n",
              "     'formattedAddress': ['Maybachufer 23 (Friedelstr.)',\n",
              "      '12047 Berlin',\n",
              "      'Deutschland'],\n",
              "     'labeledLatLngs': [{'label': 'display',\n",
              "       'lat': 52.493413900976684,\n",
              "       'lng': 13.42833701853382}],\n",
              "     'lat': 52.493413900976684,\n",
              "     'lng': 13.42833701853382,\n",
              "     'postalCode': '12047',\n",
              "     'state': 'Berlin'},\n",
              "    'name': 'Aapka',\n",
              "    'referralId': 'v-1588878558',\n",
              "    'venuePage': {'id': '33471573'}},\n",
              "   {'categories': [{'icon': {'prefix': 'https://ss3.4sqi.net/img/categories_v2/food/indian_',\n",
              "       'suffix': '.png'},\n",
              "      'id': '4bf58dd8d48988d10f941735',\n",
              "      'name': 'Indian Restaurant',\n",
              "      'pluralName': 'Indian Restaurants',\n",
              "      'primary': True,\n",
              "      'shortName': 'Indian'}],\n",
              "    'hasPerk': False,\n",
              "    'id': '4dfb390018386e743d97353a',\n",
              "    'location': {'address': 'Zossener Str. 16',\n",
              "     'cc': 'DE',\n",
              "     'city': 'Berlin',\n",
              "     'country': 'Deutschland',\n",
              "     'distance': 2912,\n",
              "     'formattedAddress': ['Zossener Str. 16', '10961 Berlin', 'Deutschland'],\n",
              "     'labeledLatLngs': [{'label': 'display',\n",
              "       'lat': 52.49108042390628,\n",
              "       'lng': 13.39428255063214}],\n",
              "     'lat': 52.49108042390628,\n",
              "     'lng': 13.39428255063214,\n",
              "     'postalCode': '10961',\n",
              "     'state': 'Berlin'},\n",
              "    'name': 'Anantha Raja',\n",
              "    'referralId': 'v-1588878558'},\n",
              "   {'categories': [{'icon': {'prefix': 'https://ss3.4sqi.net/img/categories_v2/food/indian_',\n",
              "       'suffix': '.png'},\n",
              "      'id': '4bf58dd8d48988d10f941735',\n",
              "      'name': 'Indian Restaurant',\n",
              "      'pluralName': 'Indian Restaurants',\n",
              "      'primary': True,\n",
              "      'shortName': 'Indian'}],\n",
              "    'hasPerk': False,\n",
              "    'id': '4bf14e2917f6a5931527232d',\n",
              "    'location': {'address': 'Oranienstr. 6',\n",
              "     'cc': 'DE',\n",
              "     'city': 'Berlin',\n",
              "     'country': 'Deutschland',\n",
              "     'distance': 3117,\n",
              "     'formattedAddress': ['Oranienstr. 6', '10997 Berlin', 'Deutschland'],\n",
              "     'labeledLatLngs': [{'label': 'display',\n",
              "       'lat': 52.499702320456805,\n",
              "       'lng': 13.425004340731794}],\n",
              "     'lat': 52.499702320456805,\n",
              "     'lng': 13.425004340731794,\n",
              "     'postalCode': '10997',\n",
              "     'state': 'Berlin'},\n",
              "    'name': 'Shanti',\n",
              "    'referralId': 'v-1588878558'},\n",
              "   {'categories': [{'icon': {'prefix': 'https://ss3.4sqi.net/img/categories_v2/food/snacks_',\n",
              "       'suffix': '.png'},\n",
              "      'id': '4bf58dd8d48988d1c7941735',\n",
              "      'name': 'Snack Place',\n",
              "      'pluralName': 'Snack Places',\n",
              "      'primary': True,\n",
              "      'shortName': 'Snacks'}],\n",
              "    'hasPerk': False,\n",
              "    'id': '53adb930498ebebb7bdf061c',\n",
              "    'location': {'address': 'Revaler Str. 99',\n",
              "     'cc': 'DE',\n",
              "     'city': 'Berlin',\n",
              "     'country': 'Deutschland',\n",
              "     'crossStreet': 'Warschauer Str.',\n",
              "     'distance': 4333,\n",
              "     'formattedAddress': ['Revaler Str. 99 (Warschauer Str.)',\n",
              "      '10245 Berlin',\n",
              "      'Deutschland'],\n",
              "     'labeledLatLngs': [{'label': 'display',\n",
              "       'lat': 52.50824183407704,\n",
              "       'lng': 13.451176285743713}],\n",
              "     'lat': 52.50824183407704,\n",
              "     'lng': 13.451176285743713,\n",
              "     'postalCode': '10245',\n",
              "     'state': 'Berlin'},\n",
              "    'name': 'Holi Cow',\n",
              "    'referralId': 'v-1588878558'}]}}"
            ]
          },
          "metadata": {
            "tags": []
          },
          "execution_count": 94
        }
      ]
    },
    {
      "cell_type": "markdown",
      "metadata": {
        "button": false,
        "deletable": true,
        "new_sheet": false,
        "run_control": {
          "read_only": false
        },
        "id": "kG3X1drZ_Tyg",
        "colab_type": "text"
      },
      "source": [
        "#### Get relevant part of JSON and transform it into a *pandas* dataframe"
      ]
    },
    {
      "cell_type": "code",
      "metadata": {
        "button": false,
        "deletable": true,
        "new_sheet": false,
        "run_control": {
          "read_only": false
        },
        "id": "KEEbFyG9_Tyh",
        "colab_type": "code",
        "outputId": "7c9233c6-ac30-4c64-da62-a1382850b223",
        "colab": {
          "base_uri": "https://localhost:8080/",
          "height": 428
        }
      },
      "source": [
        "# assign relevant part of JSON to venues\n",
        "venues = results['response']['venues']\n",
        "\n",
        "# tranform venues into a dataframe\n",
        "dataframe = json_normalize(venues)\n",
        "dataframe.head()"
      ],
      "execution_count": 0,
      "outputs": [
        {
          "output_type": "stream",
          "text": [
            "/usr/local/lib/python3.6/dist-packages/ipykernel_launcher.py:4: FutureWarning: pandas.io.json.json_normalize is deprecated, use pandas.json_normalize instead\n",
            "  after removing the cwd from sys.path.\n"
          ],
          "name": "stderr"
        },
        {
          "output_type": "execute_result",
          "data": {
            "text/html": [
              "<div>\n",
              "<style scoped>\n",
              "    .dataframe tbody tr th:only-of-type {\n",
              "        vertical-align: middle;\n",
              "    }\n",
              "\n",
              "    .dataframe tbody tr th {\n",
              "        vertical-align: top;\n",
              "    }\n",
              "\n",
              "    .dataframe thead th {\n",
              "        text-align: right;\n",
              "    }\n",
              "</style>\n",
              "<table border=\"1\" class=\"dataframe\">\n",
              "  <thead>\n",
              "    <tr style=\"text-align: right;\">\n",
              "      <th></th>\n",
              "      <th>id</th>\n",
              "      <th>name</th>\n",
              "      <th>categories</th>\n",
              "      <th>referralId</th>\n",
              "      <th>hasPerk</th>\n",
              "      <th>location.address</th>\n",
              "      <th>location.lat</th>\n",
              "      <th>location.lng</th>\n",
              "      <th>location.labeledLatLngs</th>\n",
              "      <th>location.distance</th>\n",
              "      <th>location.postalCode</th>\n",
              "      <th>location.cc</th>\n",
              "      <th>location.city</th>\n",
              "      <th>location.state</th>\n",
              "      <th>location.country</th>\n",
              "      <th>location.formattedAddress</th>\n",
              "      <th>location.crossStreet</th>\n",
              "      <th>location.neighborhood</th>\n",
              "      <th>venuePage.id</th>\n",
              "    </tr>\n",
              "  </thead>\n",
              "  <tbody>\n",
              "    <tr>\n",
              "      <th>0</th>\n",
              "      <td>4c4d9711f53d0f47fc2c3fa5</td>\n",
              "      <td>Indian Dhaba Mira</td>\n",
              "      <td>[{'id': '4bf58dd8d48988d10f941735', 'name': 'I...</td>\n",
              "      <td>v-1588878558</td>\n",
              "      <td>False</td>\n",
              "      <td>Pannierstr. 40</td>\n",
              "      <td>52.490020</td>\n",
              "      <td>13.434037</td>\n",
              "      <td>[{'label': 'display', 'lat': 52.4900201599532,...</td>\n",
              "      <td>4291</td>\n",
              "      <td>12047</td>\n",
              "      <td>DE</td>\n",
              "      <td>Berlin</td>\n",
              "      <td>Berlin</td>\n",
              "      <td>Deutschland</td>\n",
              "      <td>[Pannierstr. 40, 12047 Berlin, Deutschland]</td>\n",
              "      <td>NaN</td>\n",
              "      <td>NaN</td>\n",
              "      <td>NaN</td>\n",
              "    </tr>\n",
              "    <tr>\n",
              "      <th>1</th>\n",
              "      <td>4f9fb37ee4b027acbf351e5b</td>\n",
              "      <td>Indian Box</td>\n",
              "      <td>[{'id': '4bf58dd8d48988d10f941735', 'name': 'I...</td>\n",
              "      <td>v-1588878558</td>\n",
              "      <td>False</td>\n",
              "      <td>NaN</td>\n",
              "      <td>52.507948</td>\n",
              "      <td>13.390199</td>\n",
              "      <td>[{'label': 'display', 'lat': 52.50794797962469...</td>\n",
              "      <td>1015</td>\n",
              "      <td>NaN</td>\n",
              "      <td>DE</td>\n",
              "      <td>Berlin</td>\n",
              "      <td>Berlin</td>\n",
              "      <td>Deutschland</td>\n",
              "      <td>[Berlin, Deutschland]</td>\n",
              "      <td>NaN</td>\n",
              "      <td>NaN</td>\n",
              "      <td>NaN</td>\n",
              "    </tr>\n",
              "    <tr>\n",
              "      <th>2</th>\n",
              "      <td>5e9b0ab76992d20009f9046c</td>\n",
              "      <td>Indian Street Food</td>\n",
              "      <td>[{'id': '54135bf5e4b08f3d2429dfdd', 'name': 'N...</td>\n",
              "      <td>v-1588878558</td>\n",
              "      <td>False</td>\n",
              "      <td>Schöneberger Str. 35</td>\n",
              "      <td>52.502617</td>\n",
              "      <td>13.378393</td>\n",
              "      <td>[{'label': 'display', 'lat': 52.502617, 'lng':...</td>\n",
              "      <td>1754</td>\n",
              "      <td>10963</td>\n",
              "      <td>DE</td>\n",
              "      <td>Berlin</td>\n",
              "      <td>Berlin</td>\n",
              "      <td>Deutschland</td>\n",
              "      <td>[Schöneberger Str. 35 (Hafenplatz), 10963 Berl...</td>\n",
              "      <td>Hafenplatz</td>\n",
              "      <td>Kreuzberg</td>\n",
              "      <td>NaN</td>\n",
              "    </tr>\n",
              "    <tr>\n",
              "      <th>3</th>\n",
              "      <td>5df8b72a21819900088a75e1</td>\n",
              "      <td>Masti Indian Food</td>\n",
              "      <td>[{'id': '4bf58dd8d48988d10f941735', 'name': 'I...</td>\n",
              "      <td>v-1588878558</td>\n",
              "      <td>False</td>\n",
              "      <td>Leipziger Platz 12</td>\n",
              "      <td>52.510640</td>\n",
              "      <td>13.380703</td>\n",
              "      <td>[{'label': 'display', 'lat': 52.51064, 'lng': ...</td>\n",
              "      <td>901</td>\n",
              "      <td>NaN</td>\n",
              "      <td>DE</td>\n",
              "      <td>NaN</td>\n",
              "      <td>NaN</td>\n",
              "      <td>Deutschland</td>\n",
              "      <td>[Leipziger Platz 12, Deutschland]</td>\n",
              "      <td>NaN</td>\n",
              "      <td>NaN</td>\n",
              "      <td>NaN</td>\n",
              "    </tr>\n",
              "    <tr>\n",
              "      <th>4</th>\n",
              "      <td>5ab0292ebe70784a3b12c3fd</td>\n",
              "      <td>Indian Village</td>\n",
              "      <td>[{'id': '4bf58dd8d48988d10f941735', 'name': 'I...</td>\n",
              "      <td>v-1588878558</td>\n",
              "      <td>False</td>\n",
              "      <td>Dircksenstraße 94</td>\n",
              "      <td>52.518100</td>\n",
              "      <td>13.415200</td>\n",
              "      <td>[{'label': 'display', 'lat': 52.51809951231597...</td>\n",
              "      <td>1788</td>\n",
              "      <td>10178</td>\n",
              "      <td>DE</td>\n",
              "      <td>Berlin</td>\n",
              "      <td>Berlin</td>\n",
              "      <td>Deutschland</td>\n",
              "      <td>[Dircksenstraße 94, 10178 Berlin, Deutschland]</td>\n",
              "      <td>NaN</td>\n",
              "      <td>NaN</td>\n",
              "      <td>NaN</td>\n",
              "    </tr>\n",
              "  </tbody>\n",
              "</table>\n",
              "</div>"
            ],
            "text/plain": [
              "                         id  ... venuePage.id\n",
              "0  4c4d9711f53d0f47fc2c3fa5  ...          NaN\n",
              "1  4f9fb37ee4b027acbf351e5b  ...          NaN\n",
              "2  5e9b0ab76992d20009f9046c  ...          NaN\n",
              "3  5df8b72a21819900088a75e1  ...          NaN\n",
              "4  5ab0292ebe70784a3b12c3fd  ...          NaN\n",
              "\n",
              "[5 rows x 19 columns]"
            ]
          },
          "metadata": {
            "tags": []
          },
          "execution_count": 95
        }
      ]
    },
    {
      "cell_type": "markdown",
      "metadata": {
        "button": false,
        "deletable": true,
        "new_sheet": false,
        "run_control": {
          "read_only": false
        },
        "id": "d1IjK9mw_Tyl",
        "colab_type": "text"
      },
      "source": [
        "#### Define information of interest and filter dataframe"
      ]
    },
    {
      "cell_type": "code",
      "metadata": {
        "button": false,
        "deletable": true,
        "new_sheet": false,
        "run_control": {
          "read_only": false
        },
        "scrolled": true,
        "id": "feYwJ0qE_Tyo",
        "colab_type": "code",
        "outputId": "5a5c7e24-fa97-4f47-fa32-38cc652725d1",
        "colab": {
          "base_uri": "https://localhost:8080/",
          "height": 1000
        }
      },
      "source": [
        "# keep only columns that include venue name, and anything that is associated with location\n",
        "filtered_columns = ['name', 'categories'] + [col for col in dataframe.columns if col.startswith('location.')] + ['id']\n",
        "dataframe_filtered = dataframe.loc[:, filtered_columns]\n",
        "\n",
        "# function that extracts the category of the venue\n",
        "def get_category_type(row):\n",
        "    try:\n",
        "        categories_list = row['categories']\n",
        "    except:\n",
        "        categories_list = row['venue.categories']\n",
        "        \n",
        "    if len(categories_list) == 0:\n",
        "        return None\n",
        "    else:\n",
        "        return categories_list[0]['name']\n",
        "\n",
        "# filter the category for each row\n",
        "dataframe_filtered['categories'] = dataframe_filtered.apply(get_category_type, axis=1)\n",
        "\n",
        "# clean column names by keeping only last term\n",
        "dataframe_filtered.columns = [column.split('.')[-1] for column in dataframe_filtered.columns]\n",
        "\n",
        "dataframe_filtered"
      ],
      "execution_count": 0,
      "outputs": [
        {
          "output_type": "execute_result",
          "data": {
            "text/html": [
              "<div>\n",
              "<style scoped>\n",
              "    .dataframe tbody tr th:only-of-type {\n",
              "        vertical-align: middle;\n",
              "    }\n",
              "\n",
              "    .dataframe tbody tr th {\n",
              "        vertical-align: top;\n",
              "    }\n",
              "\n",
              "    .dataframe thead th {\n",
              "        text-align: right;\n",
              "    }\n",
              "</style>\n",
              "<table border=\"1\" class=\"dataframe\">\n",
              "  <thead>\n",
              "    <tr style=\"text-align: right;\">\n",
              "      <th></th>\n",
              "      <th>name</th>\n",
              "      <th>categories</th>\n",
              "      <th>address</th>\n",
              "      <th>lat</th>\n",
              "      <th>lng</th>\n",
              "      <th>labeledLatLngs</th>\n",
              "      <th>distance</th>\n",
              "      <th>postalCode</th>\n",
              "      <th>cc</th>\n",
              "      <th>city</th>\n",
              "      <th>state</th>\n",
              "      <th>country</th>\n",
              "      <th>formattedAddress</th>\n",
              "      <th>crossStreet</th>\n",
              "      <th>neighborhood</th>\n",
              "      <th>id</th>\n",
              "    </tr>\n",
              "  </thead>\n",
              "  <tbody>\n",
              "    <tr>\n",
              "      <th>0</th>\n",
              "      <td>Indian Dhaba Mira</td>\n",
              "      <td>Indian Restaurant</td>\n",
              "      <td>Pannierstr. 40</td>\n",
              "      <td>52.490020</td>\n",
              "      <td>13.434037</td>\n",
              "      <td>[{'label': 'display', 'lat': 52.4900201599532,...</td>\n",
              "      <td>4291</td>\n",
              "      <td>12047</td>\n",
              "      <td>DE</td>\n",
              "      <td>Berlin</td>\n",
              "      <td>Berlin</td>\n",
              "      <td>Deutschland</td>\n",
              "      <td>[Pannierstr. 40, 12047 Berlin, Deutschland]</td>\n",
              "      <td>NaN</td>\n",
              "      <td>NaN</td>\n",
              "      <td>4c4d9711f53d0f47fc2c3fa5</td>\n",
              "    </tr>\n",
              "    <tr>\n",
              "      <th>1</th>\n",
              "      <td>Indian Box</td>\n",
              "      <td>Indian Restaurant</td>\n",
              "      <td>NaN</td>\n",
              "      <td>52.507948</td>\n",
              "      <td>13.390199</td>\n",
              "      <td>[{'label': 'display', 'lat': 52.50794797962469...</td>\n",
              "      <td>1015</td>\n",
              "      <td>NaN</td>\n",
              "      <td>DE</td>\n",
              "      <td>Berlin</td>\n",
              "      <td>Berlin</td>\n",
              "      <td>Deutschland</td>\n",
              "      <td>[Berlin, Deutschland]</td>\n",
              "      <td>NaN</td>\n",
              "      <td>NaN</td>\n",
              "      <td>4f9fb37ee4b027acbf351e5b</td>\n",
              "    </tr>\n",
              "    <tr>\n",
              "      <th>2</th>\n",
              "      <td>Indian Street Food</td>\n",
              "      <td>North Indian Restaurant</td>\n",
              "      <td>Schöneberger Str. 35</td>\n",
              "      <td>52.502617</td>\n",
              "      <td>13.378393</td>\n",
              "      <td>[{'label': 'display', 'lat': 52.502617, 'lng':...</td>\n",
              "      <td>1754</td>\n",
              "      <td>10963</td>\n",
              "      <td>DE</td>\n",
              "      <td>Berlin</td>\n",
              "      <td>Berlin</td>\n",
              "      <td>Deutschland</td>\n",
              "      <td>[Schöneberger Str. 35 (Hafenplatz), 10963 Berl...</td>\n",
              "      <td>Hafenplatz</td>\n",
              "      <td>Kreuzberg</td>\n",
              "      <td>5e9b0ab76992d20009f9046c</td>\n",
              "    </tr>\n",
              "    <tr>\n",
              "      <th>3</th>\n",
              "      <td>Masti Indian Food</td>\n",
              "      <td>Indian Restaurant</td>\n",
              "      <td>Leipziger Platz 12</td>\n",
              "      <td>52.510640</td>\n",
              "      <td>13.380703</td>\n",
              "      <td>[{'label': 'display', 'lat': 52.51064, 'lng': ...</td>\n",
              "      <td>901</td>\n",
              "      <td>NaN</td>\n",
              "      <td>DE</td>\n",
              "      <td>NaN</td>\n",
              "      <td>NaN</td>\n",
              "      <td>Deutschland</td>\n",
              "      <td>[Leipziger Platz 12, Deutschland]</td>\n",
              "      <td>NaN</td>\n",
              "      <td>NaN</td>\n",
              "      <td>5df8b72a21819900088a75e1</td>\n",
              "    </tr>\n",
              "    <tr>\n",
              "      <th>4</th>\n",
              "      <td>Indian Village</td>\n",
              "      <td>Indian Restaurant</td>\n",
              "      <td>Dircksenstraße 94</td>\n",
              "      <td>52.518100</td>\n",
              "      <td>13.415200</td>\n",
              "      <td>[{'label': 'display', 'lat': 52.51809951231597...</td>\n",
              "      <td>1788</td>\n",
              "      <td>10178</td>\n",
              "      <td>DE</td>\n",
              "      <td>Berlin</td>\n",
              "      <td>Berlin</td>\n",
              "      <td>Deutschland</td>\n",
              "      <td>[Dircksenstraße 94, 10178 Berlin, Deutschland]</td>\n",
              "      <td>NaN</td>\n",
              "      <td>NaN</td>\n",
              "      <td>5ab0292ebe70784a3b12c3fd</td>\n",
              "    </tr>\n",
              "    <tr>\n",
              "      <th>5</th>\n",
              "      <td>Indian Man</td>\n",
              "      <td>Indian Restaurant</td>\n",
              "      <td>NaN</td>\n",
              "      <td>52.534252</td>\n",
              "      <td>13.403914</td>\n",
              "      <td>[{'label': 'display', 'lat': 52.534252, 'lng':...</td>\n",
              "      <td>2170</td>\n",
              "      <td>NaN</td>\n",
              "      <td>DE</td>\n",
              "      <td>NaN</td>\n",
              "      <td>NaN</td>\n",
              "      <td>Deutschland</td>\n",
              "      <td>[Deutschland]</td>\n",
              "      <td>NaN</td>\n",
              "      <td>NaN</td>\n",
              "      <td>527b883f11d2a86735f6a7eb</td>\n",
              "    </tr>\n",
              "    <tr>\n",
              "      <th>6</th>\n",
              "      <td>Anju Indian Cuisine</td>\n",
              "      <td>Indian Restaurant</td>\n",
              "      <td>Grunerstr. 20</td>\n",
              "      <td>52.519478</td>\n",
              "      <td>13.416025</td>\n",
              "      <td>[{'label': 'display', 'lat': 52.519478, 'lng':...</td>\n",
              "      <td>1860</td>\n",
              "      <td>NaN</td>\n",
              "      <td>DE</td>\n",
              "      <td>NaN</td>\n",
              "      <td>NaN</td>\n",
              "      <td>Deutschland</td>\n",
              "      <td>[Grunerstr. 20, Deutschland]</td>\n",
              "      <td>NaN</td>\n",
              "      <td>NaN</td>\n",
              "      <td>5df8d20fe2044300082af41a</td>\n",
              "    </tr>\n",
              "    <tr>\n",
              "      <th>7</th>\n",
              "      <td>Indian Dhaba Mitra</td>\n",
              "      <td>Indian Restaurant</td>\n",
              "      <td>Hasenheide 11</td>\n",
              "      <td>52.487230</td>\n",
              "      <td>13.421734</td>\n",
              "      <td>[{'label': 'display', 'lat': 52.48723016608748...</td>\n",
              "      <td>3996</td>\n",
              "      <td>10967</td>\n",
              "      <td>DE</td>\n",
              "      <td>Berlin</td>\n",
              "      <td>Berlin</td>\n",
              "      <td>Deutschland</td>\n",
              "      <td>[Hasenheide 11, 10967 Berlin, Deutschland]</td>\n",
              "      <td>NaN</td>\n",
              "      <td>NaN</td>\n",
              "      <td>4fa9481be4b02cc7405fb26d</td>\n",
              "    </tr>\n",
              "    <tr>\n",
              "      <th>8</th>\n",
              "      <td>Indian Express</td>\n",
              "      <td>Indian Restaurant</td>\n",
              "      <td>Danziger Str. 26</td>\n",
              "      <td>52.540158</td>\n",
              "      <td>13.417447</td>\n",
              "      <td>[{'label': 'display', 'lat': 52.54015824863556...</td>\n",
              "      <td>3220</td>\n",
              "      <td>10435</td>\n",
              "      <td>DE</td>\n",
              "      <td>Berlin</td>\n",
              "      <td>Berlin</td>\n",
              "      <td>Deutschland</td>\n",
              "      <td>[Danziger Str. 26, 10435 Berlin, Deutschland]</td>\n",
              "      <td>NaN</td>\n",
              "      <td>NaN</td>\n",
              "      <td>568ab2ac498e1315be3f5404</td>\n",
              "    </tr>\n",
              "    <tr>\n",
              "      <th>9</th>\n",
              "      <td>Indian Curry - Tandoori</td>\n",
              "      <td>Indian Restaurant</td>\n",
              "      <td>NaN</td>\n",
              "      <td>52.486204</td>\n",
              "      <td>13.429177</td>\n",
              "      <td>[{'label': 'display', 'lat': 52.4862038311843,...</td>\n",
              "      <td>4386</td>\n",
              "      <td>NaN</td>\n",
              "      <td>DE</td>\n",
              "      <td>Berlin</td>\n",
              "      <td>Berlin</td>\n",
              "      <td>Deutschland</td>\n",
              "      <td>[Berlin, Deutschland]</td>\n",
              "      <td>NaN</td>\n",
              "      <td>NaN</td>\n",
              "      <td>50bbc602e4b0ecc0b0d0d05b</td>\n",
              "    </tr>\n",
              "    <tr>\n",
              "      <th>10</th>\n",
              "      <td>Abirams Indian Live Kitchen</td>\n",
              "      <td>Indian Restaurant</td>\n",
              "      <td>Zossener Str. 12</td>\n",
              "      <td>52.492149</td>\n",
              "      <td>13.394580</td>\n",
              "      <td>[{'label': 'display', 'lat': 52.49214913083303...</td>\n",
              "      <td>2797</td>\n",
              "      <td>10961</td>\n",
              "      <td>DE</td>\n",
              "      <td>Berlin</td>\n",
              "      <td>Berlin</td>\n",
              "      <td>Deutschland</td>\n",
              "      <td>[Zossener Str. 12, 10961 Berlin, Deutschland]</td>\n",
              "      <td>NaN</td>\n",
              "      <td>NaN</td>\n",
              "      <td>4b45f5d8f964a520f01226e3</td>\n",
              "    </tr>\n",
              "    <tr>\n",
              "      <th>11</th>\n",
              "      <td>Indian Motorcycle Fashion Store</td>\n",
              "      <td>Men's Store</td>\n",
              "      <td>Uhlandstr. 195</td>\n",
              "      <td>52.507518</td>\n",
              "      <td>13.326425</td>\n",
              "      <td>[{'label': 'display', 'lat': 52.50751759999999...</td>\n",
              "      <td>4360</td>\n",
              "      <td>10623</td>\n",
              "      <td>DE</td>\n",
              "      <td>Berlin</td>\n",
              "      <td>Berlin</td>\n",
              "      <td>Deutschland</td>\n",
              "      <td>[Uhlandstr. 195, 10623 Berlin, Deutschland]</td>\n",
              "      <td>NaN</td>\n",
              "      <td>NaN</td>\n",
              "      <td>56bb358a498e1b9995ef876f</td>\n",
              "    </tr>\n",
              "    <tr>\n",
              "      <th>12</th>\n",
              "      <td>Indian Express</td>\n",
              "      <td>Indian Restaurant</td>\n",
              "      <td>Karl-Marx-Straße 66</td>\n",
              "      <td>52.482024</td>\n",
              "      <td>13.432991</td>\n",
              "      <td>[{'label': 'display', 'lat': 52.482024, 'lng':...</td>\n",
              "      <td>4912</td>\n",
              "      <td>12043</td>\n",
              "      <td>DE</td>\n",
              "      <td>Berlin</td>\n",
              "      <td>Berlin</td>\n",
              "      <td>Deutschland</td>\n",
              "      <td>[Karl-Marx-Straße 66, 12043 Berlin, Deutschland]</td>\n",
              "      <td>NaN</td>\n",
              "      <td>NaN</td>\n",
              "      <td>4da4a07bd686b60cc0f2e328</td>\n",
              "    </tr>\n",
              "    <tr>\n",
              "      <th>13</th>\n",
              "      <td>ANAND</td>\n",
              "      <td>Indian Restaurant</td>\n",
              "      <td>Albrechtstr. 12</td>\n",
              "      <td>52.521094</td>\n",
              "      <td>13.385315</td>\n",
              "      <td>[{'label': 'display', 'lat': 52.52109396100856...</td>\n",
              "      <td>511</td>\n",
              "      <td>10117</td>\n",
              "      <td>DE</td>\n",
              "      <td>Berlin</td>\n",
              "      <td>Berlin</td>\n",
              "      <td>Deutschland</td>\n",
              "      <td>[Albrechtstr. 12 (Schiffbauerdamm), 10117 Berl...</td>\n",
              "      <td>Schiffbauerdamm</td>\n",
              "      <td>NaN</td>\n",
              "      <td>4bfe6543b68d0f47cc16ea57</td>\n",
              "    </tr>\n",
              "    <tr>\n",
              "      <th>14</th>\n",
              "      <td>Agra - Indian Cuisine</td>\n",
              "      <td>Indian Restaurant</td>\n",
              "      <td>Alt-Moabit 107</td>\n",
              "      <td>52.524486</td>\n",
              "      <td>13.349314</td>\n",
              "      <td>[{'label': 'display', 'lat': 52.52448584793399...</td>\n",
              "      <td>2804</td>\n",
              "      <td>10559</td>\n",
              "      <td>DE</td>\n",
              "      <td>Moabit</td>\n",
              "      <td>Berlin</td>\n",
              "      <td>Deutschland</td>\n",
              "      <td>[Alt-Moabit 107, 10559 Moabit, Deutschland]</td>\n",
              "      <td>NaN</td>\n",
              "      <td>NaN</td>\n",
              "      <td>5287af76498e083002dff568</td>\n",
              "    </tr>\n",
              "    <tr>\n",
              "      <th>15</th>\n",
              "      <td>Tando - Indian Fusion</td>\n",
              "      <td>Indian Restaurant</td>\n",
              "      <td>Stromstr. 11-17</td>\n",
              "      <td>52.527562</td>\n",
              "      <td>13.343716</td>\n",
              "      <td>[{'label': 'display', 'lat': 52.527562, 'lng':...</td>\n",
              "      <td>3274</td>\n",
              "      <td>NaN</td>\n",
              "      <td>DE</td>\n",
              "      <td>NaN</td>\n",
              "      <td>NaN</td>\n",
              "      <td>Deutschland</td>\n",
              "      <td>[Stromstr. 11-17, Deutschland]</td>\n",
              "      <td>NaN</td>\n",
              "      <td>NaN</td>\n",
              "      <td>5b7be97995a7220039686904</td>\n",
              "    </tr>\n",
              "    <tr>\n",
              "      <th>16</th>\n",
              "      <td>Singh Indian Street Food</td>\n",
              "      <td>Indian Restaurant</td>\n",
              "      <td>Oppelner Straße</td>\n",
              "      <td>52.500021</td>\n",
              "      <td>13.441306</td>\n",
              "      <td>[{'label': 'display', 'lat': 52.500021, 'lng':...</td>\n",
              "      <td>4026</td>\n",
              "      <td>10997</td>\n",
              "      <td>DE</td>\n",
              "      <td>Berlin</td>\n",
              "      <td>Berlin</td>\n",
              "      <td>Deutschland</td>\n",
              "      <td>[Oppelner Straße, 10997 Berlin, Deutschland]</td>\n",
              "      <td>NaN</td>\n",
              "      <td>Wrangelkiez</td>\n",
              "      <td>5b7306b5345cbe0039e2d0ed</td>\n",
              "    </tr>\n",
              "    <tr>\n",
              "      <th>17</th>\n",
              "      <td>Chutney Indian Food</td>\n",
              "      <td>Indian Restaurant</td>\n",
              "      <td>Tamara-Danz-Str. 11</td>\n",
              "      <td>52.506060</td>\n",
              "      <td>13.446123</td>\n",
              "      <td>[{'label': 'display', 'lat': 52.50606, 'lng': ...</td>\n",
              "      <td>4067</td>\n",
              "      <td>NaN</td>\n",
              "      <td>DE</td>\n",
              "      <td>NaN</td>\n",
              "      <td>NaN</td>\n",
              "      <td>Deutschland</td>\n",
              "      <td>[Tamara-Danz-Str. 11, Deutschland]</td>\n",
              "      <td>NaN</td>\n",
              "      <td>NaN</td>\n",
              "      <td>5c8b89809d7468002c7bf4db</td>\n",
              "    </tr>\n",
              "    <tr>\n",
              "      <th>18</th>\n",
              "      <td>Raja Indian Deluxe</td>\n",
              "      <td>Indian Restaurant</td>\n",
              "      <td>Hauptstraße 54</td>\n",
              "      <td>52.490744</td>\n",
              "      <td>13.344958</td>\n",
              "      <td>[{'label': 'display', 'lat': 52.4907440224152,...</td>\n",
              "      <td>4173</td>\n",
              "      <td>10825</td>\n",
              "      <td>DE</td>\n",
              "      <td>Berlin</td>\n",
              "      <td>Berlin</td>\n",
              "      <td>Deutschland</td>\n",
              "      <td>[Hauptstraße 54, 10825 Berlin, Deutschland]</td>\n",
              "      <td>NaN</td>\n",
              "      <td>NaN</td>\n",
              "      <td>501c2f5fe4b08947b4b958e7</td>\n",
              "    </tr>\n",
              "    <tr>\n",
              "      <th>19</th>\n",
              "      <td>My Indian Dream</td>\n",
              "      <td>Indian Restaurant</td>\n",
              "      <td>NaN</td>\n",
              "      <td>52.530914</td>\n",
              "      <td>13.330795</td>\n",
              "      <td>[{'label': 'display', 'lat': 52.530914, 'lng':...</td>\n",
              "      <td>4225</td>\n",
              "      <td>NaN</td>\n",
              "      <td>DE</td>\n",
              "      <td>Berlin</td>\n",
              "      <td>Berlin</td>\n",
              "      <td>Deutschland</td>\n",
              "      <td>[Berlin, Deutschland]</td>\n",
              "      <td>NaN</td>\n",
              "      <td>NaN</td>\n",
              "      <td>594fac0e0457b73eeb4081b5</td>\n",
              "    </tr>\n",
              "    <tr>\n",
              "      <th>20</th>\n",
              "      <td>Shezan</td>\n",
              "      <td>Indian Restaurant</td>\n",
              "      <td>Neue Roßstr. 13</td>\n",
              "      <td>52.512193</td>\n",
              "      <td>13.408540</td>\n",
              "      <td>[{'label': 'display', 'lat': 52.51219268233800...</td>\n",
              "      <td>1438</td>\n",
              "      <td>10179</td>\n",
              "      <td>DE</td>\n",
              "      <td>Berlin</td>\n",
              "      <td>Berlin</td>\n",
              "      <td>Deutschland</td>\n",
              "      <td>[Neue Roßstr. 13 (Wallstr.), 10179 Berlin, Deu...</td>\n",
              "      <td>Wallstr.</td>\n",
              "      <td>NaN</td>\n",
              "      <td>4b572c16f964a520742928e3</td>\n",
              "    </tr>\n",
              "    <tr>\n",
              "      <th>21</th>\n",
              "      <td>Indiana University Europe Gateway</td>\n",
              "      <td>College Academic Building</td>\n",
              "      <td>NaN</td>\n",
              "      <td>52.491194</td>\n",
              "      <td>13.395677</td>\n",
              "      <td>[{'label': 'display', 'lat': 52.491194, 'lng':...</td>\n",
              "      <td>2913</td>\n",
              "      <td>NaN</td>\n",
              "      <td>DE</td>\n",
              "      <td>NaN</td>\n",
              "      <td>NaN</td>\n",
              "      <td>Deutschland</td>\n",
              "      <td>[Deutschland]</td>\n",
              "      <td>NaN</td>\n",
              "      <td>NaN</td>\n",
              "      <td>582de5782a11fe702792fd29</td>\n",
              "    </tr>\n",
              "    <tr>\n",
              "      <th>22</th>\n",
              "      <td>Indianerspielplatz</td>\n",
              "      <td>Playground</td>\n",
              "      <td>NaN</td>\n",
              "      <td>52.547565</td>\n",
              "      <td>13.402167</td>\n",
              "      <td>[{'label': 'display', 'lat': 52.547565, 'lng':...</td>\n",
              "      <td>3515</td>\n",
              "      <td>10437</td>\n",
              "      <td>DE</td>\n",
              "      <td>Berlin</td>\n",
              "      <td>Berlin</td>\n",
              "      <td>Deutschland</td>\n",
              "      <td>[Kopenhagener Str./ Ystader Str, 10437 Berlin,...</td>\n",
              "      <td>Kopenhagener Str./ Ystader Str</td>\n",
              "      <td>NaN</td>\n",
              "      <td>4e259d91d4c0d18a28a7b7b1</td>\n",
              "    </tr>\n",
              "    <tr>\n",
              "      <th>23</th>\n",
              "      <td>Botschaft der Republik Indien</td>\n",
              "      <td>Embassy / Consulate</td>\n",
              "      <td>Tiergartenstr. 17</td>\n",
              "      <td>52.509745</td>\n",
              "      <td>13.362462</td>\n",
              "      <td>[{'label': 'display', 'lat': 52.5097448641588,...</td>\n",
              "      <td>1963</td>\n",
              "      <td>10785</td>\n",
              "      <td>DE</td>\n",
              "      <td>Berlin</td>\n",
              "      <td>Berlin</td>\n",
              "      <td>Deutschland</td>\n",
              "      <td>[Tiergartenstr. 17, 10785 Berlin, Deutschland]</td>\n",
              "      <td>NaN</td>\n",
              "      <td>NaN</td>\n",
              "      <td>4b011dfff964a520c24122e3</td>\n",
              "    </tr>\n",
              "    <tr>\n",
              "      <th>24</th>\n",
              "      <td>Aapka</td>\n",
              "      <td>Indian Restaurant</td>\n",
              "      <td>Maybachufer 23</td>\n",
              "      <td>52.493414</td>\n",
              "      <td>13.428337</td>\n",
              "      <td>[{'label': 'display', 'lat': 52.49341390097668...</td>\n",
              "      <td>3751</td>\n",
              "      <td>12047</td>\n",
              "      <td>DE</td>\n",
              "      <td>Berlin</td>\n",
              "      <td>Berlin</td>\n",
              "      <td>Deutschland</td>\n",
              "      <td>[Maybachufer 23 (Friedelstr.), 12047 Berlin, D...</td>\n",
              "      <td>Friedelstr.</td>\n",
              "      <td>NaN</td>\n",
              "      <td>4d95a8f70caaa143a98062b3</td>\n",
              "    </tr>\n",
              "    <tr>\n",
              "      <th>25</th>\n",
              "      <td>Anantha Raja</td>\n",
              "      <td>Indian Restaurant</td>\n",
              "      <td>Zossener Str. 16</td>\n",
              "      <td>52.491080</td>\n",
              "      <td>13.394283</td>\n",
              "      <td>[{'label': 'display', 'lat': 52.49108042390628...</td>\n",
              "      <td>2912</td>\n",
              "      <td>10961</td>\n",
              "      <td>DE</td>\n",
              "      <td>Berlin</td>\n",
              "      <td>Berlin</td>\n",
              "      <td>Deutschland</td>\n",
              "      <td>[Zossener Str. 16, 10961 Berlin, Deutschland]</td>\n",
              "      <td>NaN</td>\n",
              "      <td>NaN</td>\n",
              "      <td>4dfb390018386e743d97353a</td>\n",
              "    </tr>\n",
              "    <tr>\n",
              "      <th>26</th>\n",
              "      <td>Shanti</td>\n",
              "      <td>Indian Restaurant</td>\n",
              "      <td>Oranienstr. 6</td>\n",
              "      <td>52.499702</td>\n",
              "      <td>13.425004</td>\n",
              "      <td>[{'label': 'display', 'lat': 52.49970232045680...</td>\n",
              "      <td>3117</td>\n",
              "      <td>10997</td>\n",
              "      <td>DE</td>\n",
              "      <td>Berlin</td>\n",
              "      <td>Berlin</td>\n",
              "      <td>Deutschland</td>\n",
              "      <td>[Oranienstr. 6, 10997 Berlin, Deutschland]</td>\n",
              "      <td>NaN</td>\n",
              "      <td>NaN</td>\n",
              "      <td>4bf14e2917f6a5931527232d</td>\n",
              "    </tr>\n",
              "    <tr>\n",
              "      <th>27</th>\n",
              "      <td>Holi Cow</td>\n",
              "      <td>Snack Place</td>\n",
              "      <td>Revaler Str. 99</td>\n",
              "      <td>52.508242</td>\n",
              "      <td>13.451176</td>\n",
              "      <td>[{'label': 'display', 'lat': 52.50824183407704...</td>\n",
              "      <td>4333</td>\n",
              "      <td>10245</td>\n",
              "      <td>DE</td>\n",
              "      <td>Berlin</td>\n",
              "      <td>Berlin</td>\n",
              "      <td>Deutschland</td>\n",
              "      <td>[Revaler Str. 99 (Warschauer Str.), 10245 Berl...</td>\n",
              "      <td>Warschauer Str.</td>\n",
              "      <td>NaN</td>\n",
              "      <td>53adb930498ebebb7bdf061c</td>\n",
              "    </tr>\n",
              "  </tbody>\n",
              "</table>\n",
              "</div>"
            ],
            "text/plain": [
              "                                 name  ...                        id\n",
              "0                   Indian Dhaba Mira  ...  4c4d9711f53d0f47fc2c3fa5\n",
              "1                          Indian Box  ...  4f9fb37ee4b027acbf351e5b\n",
              "2                  Indian Street Food  ...  5e9b0ab76992d20009f9046c\n",
              "3                   Masti Indian Food  ...  5df8b72a21819900088a75e1\n",
              "4                      Indian Village  ...  5ab0292ebe70784a3b12c3fd\n",
              "5                          Indian Man  ...  527b883f11d2a86735f6a7eb\n",
              "6                 Anju Indian Cuisine  ...  5df8d20fe2044300082af41a\n",
              "7                  Indian Dhaba Mitra  ...  4fa9481be4b02cc7405fb26d\n",
              "8                      Indian Express  ...  568ab2ac498e1315be3f5404\n",
              "9             Indian Curry - Tandoori  ...  50bbc602e4b0ecc0b0d0d05b\n",
              "10        Abirams Indian Live Kitchen  ...  4b45f5d8f964a520f01226e3\n",
              "11    Indian Motorcycle Fashion Store  ...  56bb358a498e1b9995ef876f\n",
              "12                     Indian Express  ...  4da4a07bd686b60cc0f2e328\n",
              "13                              ANAND  ...  4bfe6543b68d0f47cc16ea57\n",
              "14              Agra - Indian Cuisine  ...  5287af76498e083002dff568\n",
              "15              Tando - Indian Fusion  ...  5b7be97995a7220039686904\n",
              "16           Singh Indian Street Food  ...  5b7306b5345cbe0039e2d0ed\n",
              "17                Chutney Indian Food  ...  5c8b89809d7468002c7bf4db\n",
              "18                 Raja Indian Deluxe  ...  501c2f5fe4b08947b4b958e7\n",
              "19                    My Indian Dream  ...  594fac0e0457b73eeb4081b5\n",
              "20                             Shezan  ...  4b572c16f964a520742928e3\n",
              "21  Indiana University Europe Gateway  ...  582de5782a11fe702792fd29\n",
              "22                 Indianerspielplatz  ...  4e259d91d4c0d18a28a7b7b1\n",
              "23      Botschaft der Republik Indien  ...  4b011dfff964a520c24122e3\n",
              "24                              Aapka  ...  4d95a8f70caaa143a98062b3\n",
              "25                       Anantha Raja  ...  4dfb390018386e743d97353a\n",
              "26                             Shanti  ...  4bf14e2917f6a5931527232d\n",
              "27                           Holi Cow  ...  53adb930498ebebb7bdf061c\n",
              "\n",
              "[28 rows x 16 columns]"
            ]
          },
          "metadata": {
            "tags": []
          },
          "execution_count": 100
        }
      ]
    },
    {
      "cell_type": "markdown",
      "metadata": {
        "button": false,
        "deletable": true,
        "new_sheet": false,
        "run_control": {
          "read_only": false
        },
        "id": "_3DeAltv_Tyv",
        "colab_type": "text"
      },
      "source": [
        "#### Let's visualize the Indian Shops and  restaurants that are nearby"
      ]
    },
    {
      "cell_type": "code",
      "metadata": {
        "button": false,
        "deletable": true,
        "new_sheet": false,
        "run_control": {
          "read_only": false
        },
        "id": "ri6TRyLi_Tyw",
        "colab_type": "code",
        "outputId": "064f98c2-3cd9-4009-e1c0-2fbdc9feec24",
        "colab": {
          "base_uri": "https://localhost:8080/",
          "height": 510
        }
      },
      "source": [
        "dataframe_filtered.name"
      ],
      "execution_count": 0,
      "outputs": [
        {
          "output_type": "execute_result",
          "data": {
            "text/plain": [
              "0                     Indian Dhaba Mira\n",
              "1                            Indian Box\n",
              "2                    Indian Street Food\n",
              "3                     Masti Indian Food\n",
              "4                        Indian Village\n",
              "5                            Indian Man\n",
              "6                   Anju Indian Cuisine\n",
              "7                    Indian Dhaba Mitra\n",
              "8                        Indian Express\n",
              "9               Indian Curry - Tandoori\n",
              "10          Abirams Indian Live Kitchen\n",
              "11      Indian Motorcycle Fashion Store\n",
              "12                       Indian Express\n",
              "13                                ANAND\n",
              "14                Agra - Indian Cuisine\n",
              "15                Tando - Indian Fusion\n",
              "16             Singh Indian Street Food\n",
              "17                  Chutney Indian Food\n",
              "18                   Raja Indian Deluxe\n",
              "19                      My Indian Dream\n",
              "20                               Shezan\n",
              "21    Indiana University Europe Gateway\n",
              "22                   Indianerspielplatz\n",
              "23        Botschaft der Republik Indien\n",
              "24                                Aapka\n",
              "25                         Anantha Raja\n",
              "26                               Shanti\n",
              "27                             Holi Cow\n",
              "Name: name, dtype: object"
            ]
          },
          "metadata": {
            "tags": []
          },
          "execution_count": 102
        }
      ]
    },
    {
      "cell_type": "code",
      "metadata": {
        "button": false,
        "deletable": true,
        "new_sheet": false,
        "run_control": {
          "read_only": false
        },
        "scrolled": false,
        "id": "QP49y9Bf_Ty0",
        "colab_type": "code",
        "outputId": "5a9fa82d-cc91-48d1-a092-6bb3709c8d92",
        "colab": {
          "base_uri": "https://localhost:8080/",
          "height": 1000
        }
      },
      "source": [
        "venues_map = folium.Map(location=[latitude, longitude], zoom_start=13) # generate map centred around Berlin Center\n",
        "\n",
        "# add a red circle marker to represent the Berlin Center\n",
        "folium.CircleMarker(\n",
        "    [latitude, longitude],\n",
        "    radius=10,\n",
        "    color='red',\n",
        "    popup='Berlin City Center',\n",
        "    fill = True,\n",
        "    fill_color = 'red',\n",
        "    fill_opacity = 0.6\n",
        ").add_to(venues_map)\n",
        "\n",
        "# add the Indian Shops and Restura as blue circle markers\n",
        "for lat, lng, label in zip(dataframe_filtered.lat, dataframe_filtered.lng, dataframe_filtered.categories):\n",
        "    folium.Marker(\n",
        "        [lat, lng],\n",
        "        #radius=10,\n",
        "        #color='blue',\n",
        "        popup=label,\n",
        "        #fill = True,\n",
        "        #fill_color='blue',\n",
        "        #fill_opacity=0.6\n",
        "    ).add_to(venues_map)\n",
        "\n",
        "# display map\n",
        "venues_map"
      ],
      "execution_count": 0,
      "outputs": [
        {
          "output_type": "execute_result",
          "data": {
            "text/html": [
              "<div style=\"width:100%;\"><div style=\"position:relative;width:100%;height:0;padding-bottom:60%;\"><iframe src=\"about:blank\" style=\"position:absolute;width:100%;height:100%;left:0;top:0;border:none !important;\" data-html=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 onload=\"this.contentDocument.open();this.contentDocument.write(atob(this.getAttribute('data-html')));this.contentDocument.close();\" allowfullscreen webkitallowfullscreen mozallowfullscreen></iframe></div></div>"
            ],
            "text/plain": [
              "<folium.folium.Map at 0x7f558ef0e358>"
            ]
          },
          "metadata": {
            "tags": []
          },
          "execution_count": 112
        }
      ]
    },
    {
      "cell_type": "markdown",
      "metadata": {
        "button": false,
        "deletable": true,
        "new_sheet": false,
        "run_control": {
          "read_only": false
        },
        "id": "FJZH6fe7_Ty5",
        "colab_type": "text"
      },
      "source": [
        "# **Indian Shops and Restaurant around Frankfurt**\n",
        "\n",
        "\n",
        "   "
      ]
    },
    {
      "cell_type": "markdown",
      "metadata": {
        "button": false,
        "deletable": true,
        "new_sheet": false,
        "run_control": {
          "read_only": false
        },
        "id": "3j_WImVQ_Ty6",
        "colab_type": "text"
      },
      "source": [
        "<a id=\"item2\"></a>"
      ]
    },
    {
      "cell_type": "code",
      "metadata": {
        "button": false,
        "deletable": true,
        "new_sheet": false,
        "run_control": {
          "read_only": false
        },
        "colab_type": "code",
        "outputId": "c428c8c9-a973-4fcc-cf14-31348ca1b798",
        "id": "bArWeS8sZE46",
        "colab": {
          "base_uri": "https://localhost:8080/",
          "height": 34
        }
      },
      "source": [
        "address = 'Frankfurt am Main, Germany'\n",
        "\n",
        "geolocator = Nominatim(user_agent=\"foursquare_agent\")\n",
        "location = geolocator.geocode(address)\n",
        "latitude = location.latitude\n",
        "longitude = location.longitude\n",
        "print(latitude, longitude)"
      ],
      "execution_count": 0,
      "outputs": [
        {
          "output_type": "stream",
          "text": [
            "50.1106444 8.6820917\n"
          ],
          "name": "stdout"
        }
      ]
    },
    {
      "cell_type": "code",
      "metadata": {
        "id": "N_LOOVA_aSTv",
        "colab_type": "code",
        "outputId": "6ad91704-7e54-46c7-89ff-804927a82edc",
        "colab": {
          "base_uri": "https://localhost:8080/",
          "height": 34
        }
      },
      "source": [
        "search_query = 'Indian'\n",
        "radius = 5000\n",
        "print(search_query + ', Indain Shops and Store Around Frankfurt City Center')"
      ],
      "execution_count": 0,
      "outputs": [
        {
          "output_type": "stream",
          "text": [
            "Indian, Indain Shops and Store Around Frankfurt City Center\n"
          ],
          "name": "stdout"
        }
      ]
    },
    {
      "cell_type": "code",
      "metadata": {
        "button": false,
        "deletable": true,
        "new_sheet": false,
        "run_control": {
          "read_only": false
        },
        "colab_type": "code",
        "outputId": "b7e34eb0-a36f-43df-c8f1-54c52849cf4b",
        "id": "dBM5vWwfb3mN",
        "colab": {
          "base_uri": "https://localhost:8080/",
          "height": 54
        }
      },
      "source": [
        "url = 'https://api.foursquare.com/v2/venues/search?client_id={}&client_secret={}&ll={},{}&v={}&query={}&radius={}&limit={}'.format(CLIENT_ID, CLIENT_SECRET, latitude, longitude, VERSION, search_query, radius, LIMIT)\n",
        "url"
      ],
      "execution_count": 0,
      "outputs": [
        {
          "output_type": "execute_result",
          "data": {
            "text/plain": [
              "'https://api.foursquare.com/v2/venues/search?client_id=CTP4SNVL2L4PHYUGJZCZKVZGANN5CA4USDOR2KFYPAAN4FD0&client_secret=MDYGFM0WOZSWBNRNRATGOLGG1GEFHAP5QGRGWCOAURN511UT&ll=50.1106444,8.6820917&v=20200501&query=Indian&radius=5000&limit=30'"
            ]
          },
          "metadata": {
            "tags": []
          },
          "execution_count": 80
        }
      ]
    },
    {
      "cell_type": "code",
      "metadata": {
        "button": false,
        "deletable": true,
        "new_sheet": false,
        "run_control": {
          "read_only": false
        },
        "scrolled": true,
        "colab_type": "code",
        "outputId": "07706582-1f80-4e34-f571-1b9328a6a33c",
        "id": "nSGMLwR7caGo",
        "colab": {
          "base_uri": "https://localhost:8080/",
          "height": 1000
        }
      },
      "source": [
        "results = requests.get(url).json()\n",
        "results"
      ],
      "execution_count": 0,
      "outputs": [
        {
          "output_type": "execute_result",
          "data": {
            "text/plain": [
              "{'meta': {'code': 200, 'requestId': '5eb459fe40a7ea001b5bb962'},\n",
              " 'response': {'venues': [{'categories': [{'icon': {'prefix': 'https://ss3.4sqi.net/img/categories_v2/food/indian_',\n",
              "       'suffix': '.png'},\n",
              "      'id': '4bf58dd8d48988d10f941735',\n",
              "      'name': 'Indian Restaurant',\n",
              "      'pluralName': 'Indian Restaurants',\n",
              "      'primary': True,\n",
              "      'shortName': 'Indian'}],\n",
              "    'hasPerk': False,\n",
              "    'id': '52f3a410498e6ef201053b3f',\n",
              "    'location': {'address': 'Weserstr. 13',\n",
              "     'cc': 'DE',\n",
              "     'city': 'Frankfurt am Main',\n",
              "     'country': 'Deutschland',\n",
              "     'distance': 917,\n",
              "     'formattedAddress': ['Weserstr. 13', 'Frankfurt am Main', 'Deutschland'],\n",
              "     'labeledLatLngs': [{'label': 'display',\n",
              "       'lat': 50.10816668076543,\n",
              "       'lng': 8.669838309288025}],\n",
              "     'lat': 50.10816668076543,\n",
              "     'lng': 8.669838309288025,\n",
              "     'state': 'Hessen'},\n",
              "    'name': 'Star Sweet House – Indian Fast Food',\n",
              "    'referralId': 'v-1588878227'},\n",
              "   {'categories': [{'icon': {'prefix': 'https://ss3.4sqi.net/img/categories_v2/food/default_',\n",
              "       'suffix': '.png'},\n",
              "      'id': '54135bf5e4b08f3d2429dfdd',\n",
              "      'name': 'North Indian Restaurant',\n",
              "      'pluralName': 'North Indian Restaurants',\n",
              "      'primary': True,\n",
              "      'shortName': 'North Indian'}],\n",
              "    'hasPerk': False,\n",
              "    'id': '5bcdf79d1ffed7002caa5c20',\n",
              "    'location': {'cc': 'DE',\n",
              "     'country': 'Deutschland',\n",
              "     'distance': 300,\n",
              "     'formattedAddress': ['Deutschland'],\n",
              "     'labeledLatLngs': [{'label': 'display', 'lat': 50.11, 'lng': 8.678008}],\n",
              "     'lat': 50.11,\n",
              "     'lng': 8.678008},\n",
              "    'name': 'Indian Curry Castle',\n",
              "    'referralId': 'v-1588878227'},\n",
              "   {'categories': [{'icon': {'prefix': 'https://ss3.4sqi.net/img/categories_v2/food/indian_',\n",
              "       'suffix': '.png'},\n",
              "      'id': '4bf58dd8d48988d10f941735',\n",
              "      'name': 'Indian Restaurant',\n",
              "      'pluralName': 'Indian Restaurants',\n",
              "      'primary': True,\n",
              "      'shortName': 'Indian'}],\n",
              "    'hasPerk': False,\n",
              "    'id': '4ea8374c0aaf6e058659c2f5',\n",
              "    'location': {'address': 'Berlinerstrasse 15',\n",
              "     'cc': 'DE',\n",
              "     'city': 'Frankfurt am Main',\n",
              "     'country': 'Deutschland',\n",
              "     'distance': 274,\n",
              "     'formattedAddress': ['Berlinerstrasse 15',\n",
              "      '60311 Frankfurt am Main',\n",
              "      'Deutschland'],\n",
              "     'labeledLatLngs': [{'label': 'display',\n",
              "       'lat': 50.11250473982661,\n",
              "       'lng': 8.68461351759276}],\n",
              "     'lat': 50.11250473982661,\n",
              "     'lng': 8.68461351759276,\n",
              "     'postalCode': '60311',\n",
              "     'state': 'Hessen'},\n",
              "    'name': 'Mayur - Indian Tandoori Restaurant',\n",
              "    'referralId': 'v-1588878227'},\n",
              "   {'categories': [{'icon': {'prefix': 'https://ss3.4sqi.net/img/categories_v2/food/indian_',\n",
              "       'suffix': '.png'},\n",
              "      'id': '4bf58dd8d48988d10f941735',\n",
              "      'name': 'Indian Restaurant',\n",
              "      'pluralName': 'Indian Restaurants',\n",
              "      'primary': True,\n",
              "      'shortName': 'Indian'}],\n",
              "    'hasPerk': False,\n",
              "    'id': '54916348498ecad067de1923',\n",
              "    'location': {'address': 'Zeil 51',\n",
              "     'cc': 'DE',\n",
              "     'city': 'Frankfurt am Main',\n",
              "     'country': 'Deutschland',\n",
              "     'crossStreet': 'Konstablerwache',\n",
              "     'distance': 551,\n",
              "     'formattedAddress': ['Zeil 51 (Konstablerwache)',\n",
              "      '60313 Frankfurt am Main',\n",
              "      'Deutschland'],\n",
              "     'labeledLatLngs': [{'label': 'display',\n",
              "       'lat': 50.11432338013563,\n",
              "       'lng': 8.68725737894758}],\n",
              "     'lat': 50.11432338013563,\n",
              "     'lng': 8.68725737894758,\n",
              "     'postalCode': '60313',\n",
              "     'state': 'Hessen'},\n",
              "    'name': 'Indian Kitchen',\n",
              "    'referralId': 'v-1588878227'},\n",
              "   {'categories': [{'icon': {'prefix': 'https://ss3.4sqi.net/img/categories_v2/food/indian_',\n",
              "       'suffix': '.png'},\n",
              "      'id': '4bf58dd8d48988d10f941735',\n",
              "      'name': 'Indian Restaurant',\n",
              "      'pluralName': 'Indian Restaurants',\n",
              "      'primary': True,\n",
              "      'shortName': 'Indian'}],\n",
              "    'hasPerk': False,\n",
              "    'id': '4b263447f964a520227924e3',\n",
              "    'location': {'address': 'Weserstr. 13',\n",
              "     'cc': 'DE',\n",
              "     'city': 'Frankfurt am Main',\n",
              "     'country': 'Deutschland',\n",
              "     'crossStreet': 'Münchener Str.',\n",
              "     'distance': 904,\n",
              "     'formattedAddress': ['Weserstr. 13 (Münchener Str.)',\n",
              "      '60329 Frankfurt am Main',\n",
              "      'Deutschland'],\n",
              "     'labeledLatLngs': [{'label': 'display',\n",
              "       'lat': 50.10831100409323,\n",
              "       'lng': 8.669959172727305}],\n",
              "     'lat': 50.10831100409323,\n",
              "     'lng': 8.669959172727305,\n",
              "     'postalCode': '60329',\n",
              "     'state': 'Hessen'},\n",
              "    'name': 'Indian Chilli',\n",
              "    'referralId': 'v-1588878227'},\n",
              "   {'categories': [{'icon': {'prefix': 'https://ss3.4sqi.net/img/categories_v2/food/indian_',\n",
              "       'suffix': '.png'},\n",
              "      'id': '4bf58dd8d48988d10f941735',\n",
              "      'name': 'Indian Restaurant',\n",
              "      'pluralName': 'Indian Restaurants',\n",
              "      'primary': True,\n",
              "      'shortName': 'Indian'}],\n",
              "    'hasPerk': False,\n",
              "    'id': '4b7a94b6f964a5201b322fe3',\n",
              "    'location': {'address': 'Weissadlergasse 7',\n",
              "     'cc': 'DE',\n",
              "     'city': 'Frankfurt am Main',\n",
              "     'country': 'Deutschland',\n",
              "     'distance': 919,\n",
              "     'formattedAddress': ['Weissadlergasse 7',\n",
              "      'Frankfurt am Main',\n",
              "      'Deutschland'],\n",
              "     'labeledLatLngs': [{'label': 'display',\n",
              "       'lat': 50.10844191336208,\n",
              "       'lng': 8.669672012329102}],\n",
              "     'lat': 50.10844191336208,\n",
              "     'lng': 8.669672012329102,\n",
              "     'state': 'Hessen'},\n",
              "    'name': 'Indian Curry House',\n",
              "    'referralId': 'v-1588878227'},\n",
              "   {'categories': [{'icon': {'prefix': 'https://ss3.4sqi.net/img/categories_v2/shops/market_',\n",
              "       'suffix': '.png'},\n",
              "      'id': '50be8ee891d4fa8dcc7199a7',\n",
              "      'name': 'Market',\n",
              "      'pluralName': 'Markets',\n",
              "      'primary': True,\n",
              "      'shortName': 'Market'}],\n",
              "    'hasPerk': False,\n",
              "    'id': '5509b11a498e2d82e84c8996',\n",
              "    'location': {'address': '14 Kaiser Straße',\n",
              "     'cc': 'DE',\n",
              "     'city': 'Frankfurt am Main',\n",
              "     'country': 'Deutschland',\n",
              "     'distance': 1246,\n",
              "     'formattedAddress': ['14 Kaiser Straße',\n",
              "      'Frankfurt am Main',\n",
              "      'Deutschland'],\n",
              "     'labeledLatLngs': [{'label': 'display',\n",
              "       'lat': 50.10581975233861,\n",
              "       'lng': 8.666334267458506}],\n",
              "     'lat': 50.10581975233861,\n",
              "     'lng': 8.666334267458506,\n",
              "     'state': 'Hessen'},\n",
              "    'name': 'Indian Flair',\n",
              "    'referralId': 'v-1588878227'},\n",
              "   {'categories': [{'icon': {'prefix': 'https://ss3.4sqi.net/img/categories_v2/food/indian_',\n",
              "       'suffix': '.png'},\n",
              "      'id': '4bf58dd8d48988d10f941735',\n",
              "      'name': 'Indian Restaurant',\n",
              "      'pluralName': 'Indian Restaurants',\n",
              "      'primary': True,\n",
              "      'shortName': 'Indian'}],\n",
              "    'hasPerk': False,\n",
              "    'id': '4b28ce9ef964a520559524e3',\n",
              "    'location': {'address': 'Kaiserstrasse 42',\n",
              "     'cc': 'DE',\n",
              "     'city': 'Frankfurt am Main',\n",
              "     'country': 'Deutschland',\n",
              "     'distance': 866,\n",
              "     'formattedAddress': ['Kaiserstrasse 42',\n",
              "      '60329 Frankfurt am Main',\n",
              "      'Deutschland'],\n",
              "     'labeledLatLngs': [{'label': 'display',\n",
              "       'lat': 50.108987,\n",
              "       'lng': 8.670236}],\n",
              "     'lat': 50.108987,\n",
              "     'lng': 8.670236,\n",
              "     'postalCode': '60329',\n",
              "     'state': 'Hessen'},\n",
              "    'name': 'Swagat - Indian & Italian Restaurant',\n",
              "    'referralId': 'v-1588878227'},\n",
              "   {'categories': [{'icon': {'prefix': 'https://ss3.4sqi.net/img/categories_v2/food/default_',\n",
              "       'suffix': '.png'},\n",
              "      'id': '4bf58dd8d48988d1c4941735',\n",
              "      'name': 'Restaurant',\n",
              "      'pluralName': 'Restaurants',\n",
              "      'primary': True,\n",
              "      'shortName': 'Restaurant'}],\n",
              "    'hasPerk': False,\n",
              "    'id': '599bef0932b61d2d97186ba8',\n",
              "    'location': {'address': 'Weserstraße 13',\n",
              "     'cc': 'DE',\n",
              "     'city': 'Frankfurt am Main',\n",
              "     'country': 'Deutschland',\n",
              "     'distance': 985,\n",
              "     'formattedAddress': ['Weserstraße 13',\n",
              "      '60329 Frankfurt am Main',\n",
              "      'Deutschland'],\n",
              "     'labeledLatLngs': [{'label': 'display',\n",
              "       'lat': 50.10958472,\n",
              "       'lng': 8.66837973}],\n",
              "     'lat': 50.10958472,\n",
              "     'lng': 8.66837973,\n",
              "     'postalCode': '60329',\n",
              "     'state': 'Hessen'},\n",
              "    'name': 'EAST WEST U.G. Indian Tandoori Chilli Restaurant',\n",
              "    'referralId': 'v-1588878227'},\n",
              "   {'categories': [{'icon': {'prefix': 'https://ss3.4sqi.net/img/categories_v2/food/indian_',\n",
              "       'suffix': '.png'},\n",
              "      'id': '4bf58dd8d48988d10f941735',\n",
              "      'name': 'Indian Restaurant',\n",
              "      'pluralName': 'Indian Restaurants',\n",
              "      'primary': True,\n",
              "      'shortName': 'Indian'}],\n",
              "    'hasPerk': False,\n",
              "    'id': '503f4830e4b0931eb58512c8',\n",
              "    'location': {'cc': 'DE',\n",
              "     'city': 'Frankfurt am Main',\n",
              "     'country': 'Deutschland',\n",
              "     'distance': 1005,\n",
              "     'formattedAddress': ['Frankfurt am Main', 'Deutschland'],\n",
              "     'labeledLatLngs': [{'label': 'display',\n",
              "       'lat': 50.107857,\n",
              "       'lng': 8.668692}],\n",
              "     'lat': 50.107857,\n",
              "     'lng': 8.668692,\n",
              "     'state': 'Hessen'},\n",
              "    'name': 'Akmal Paki / Indian Food',\n",
              "    'referralId': 'v-1588878227'},\n",
              "   {'categories': [{'icon': {'prefix': 'https://ss3.4sqi.net/img/categories_v2/food/default_',\n",
              "       'suffix': '.png'},\n",
              "      'id': '4bf58dd8d48988d1c4941735',\n",
              "      'name': 'Restaurant',\n",
              "      'pluralName': 'Restaurants',\n",
              "      'primary': True,\n",
              "      'shortName': 'Restaurant'}],\n",
              "    'hasPerk': False,\n",
              "    'id': '58e220090e0a1e6dd8996539',\n",
              "    'location': {'address': 'Schweizer Straße 78',\n",
              "     'cc': 'DE',\n",
              "     'city': 'Frankfurt am Main',\n",
              "     'country': 'Deutschland',\n",
              "     'distance': 1117,\n",
              "     'formattedAddress': ['Schweizer Straße 78',\n",
              "      '60594 Frankfurt am Main',\n",
              "      'Deutschland'],\n",
              "     'labeledLatLngs': [{'label': 'display',\n",
              "       'lat': 50.10061666,\n",
              "       'lng': 8.68136709}],\n",
              "     'lat': 50.10061666,\n",
              "     'lng': 8.68136709,\n",
              "     'postalCode': '60594',\n",
              "     'state': 'Hessen'},\n",
              "    'name': 'Condimantra - The Exciting Indian Kitchen',\n",
              "    'referralId': 'v-1588878227',\n",
              "    'venuePage': {'id': '458624196'}},\n",
              "   {'categories': [{'icon': {'prefix': 'https://ss3.4sqi.net/img/categories_v2/food/indian_',\n",
              "       'suffix': '.png'},\n",
              "      'id': '4bf58dd8d48988d10f941735',\n",
              "      'name': 'Indian Restaurant',\n",
              "      'pluralName': 'Indian Restaurants',\n",
              "      'primary': True,\n",
              "      'shortName': 'Indian'}],\n",
              "    'hasPerk': False,\n",
              "    'id': '52238447498e32c9cd888214',\n",
              "    'location': {'cc': 'DE',\n",
              "     'city': 'Frankfurt am Main',\n",
              "     'country': 'Deutschland',\n",
              "     'distance': 1124,\n",
              "     'formattedAddress': ['Frankfurt am Main', 'Deutschland'],\n",
              "     'labeledLatLngs': [{'label': 'display',\n",
              "       'lat': 50.10791,\n",
              "       'lng': 8.666927}],\n",
              "     'lat': 50.10791,\n",
              "     'lng': 8.666927,\n",
              "     'state': 'Hessen'},\n",
              "    'name': 'South Indian Resturante',\n",
              "    'referralId': 'v-1588878227'},\n",
              "   {'categories': [{'icon': {'prefix': 'https://ss3.4sqi.net/img/categories_v2/travel/embassy_',\n",
              "       'suffix': '.png'},\n",
              "      'id': '4bf58dd8d48988d12c951735',\n",
              "      'name': 'Embassy / Consulate',\n",
              "      'pluralName': 'Embassies / Consulates',\n",
              "      'primary': True,\n",
              "      'shortName': 'Embassy'}],\n",
              "    'hasPerk': False,\n",
              "    'id': '51e6522e498ee81b4c23a19c',\n",
              "    'location': {'cc': 'DE',\n",
              "     'city': 'Frankfurt am Main',\n",
              "     'country': 'Deutschland',\n",
              "     'distance': 1783,\n",
              "     'formattedAddress': ['Frankfurt am Main', 'Deutschland'],\n",
              "     'labeledLatLngs': [{'label': 'display',\n",
              "       'lat': 50.110667,\n",
              "       'lng': 8.657108}],\n",
              "     'lat': 50.110667,\n",
              "     'lng': 8.657108,\n",
              "     'state': 'Hessen'},\n",
              "    'name': 'Indian Consulate',\n",
              "    'referralId': 'v-1588878227'},\n",
              "   {'categories': [{'icon': {'prefix': 'https://ss3.4sqi.net/img/categories_v2/food/indian_',\n",
              "       'suffix': '.png'},\n",
              "      'id': '4bf58dd8d48988d10f941735',\n",
              "      'name': 'Indian Restaurant',\n",
              "      'pluralName': 'Indian Restaurants',\n",
              "      'primary': True,\n",
              "      'shortName': 'Indian'}],\n",
              "    'hasPerk': False,\n",
              "    'id': '5740f171498e5117d03140d0',\n",
              "    'location': {'address': 'Launhardtstr. 2-4',\n",
              "     'cc': 'DE',\n",
              "     'city': 'Frankfurt am Main',\n",
              "     'country': 'Deutschland',\n",
              "     'distance': 2211,\n",
              "     'formattedAddress': ['Launhardtstr. 2-4',\n",
              "      '60314 Frankfurt am Main',\n",
              "      'Deutschland'],\n",
              "     'labeledLatLngs': [{'label': 'display',\n",
              "       'lat': 50.1123784367129,\n",
              "       'lng': 8.71295033691565}],\n",
              "     'lat': 50.1123784367129,\n",
              "     'lng': 8.71295033691565,\n",
              "     'postalCode': '60314',\n",
              "     'state': 'Hessen'},\n",
              "    'name': 'Indian Curry House',\n",
              "    'referralId': 'v-1588878227'},\n",
              "   {'categories': [{'icon': {'prefix': 'https://ss3.4sqi.net/img/categories_v2/food/indian_',\n",
              "       'suffix': '.png'},\n",
              "      'id': '4bf58dd8d48988d10f941735',\n",
              "      'name': 'Indian Restaurant',\n",
              "      'pluralName': 'Indian Restaurants',\n",
              "      'primary': True,\n",
              "      'shortName': 'Indian'}],\n",
              "    'hasPerk': False,\n",
              "    'id': '5a82c3a335811b3a6160c67a',\n",
              "    'location': {'cc': 'DE',\n",
              "     'city': 'Frankfurt am Main',\n",
              "     'country': 'Deutschland',\n",
              "     'distance': 2497,\n",
              "     'formattedAddress': ['Frankfurt am Main', 'Deutschland'],\n",
              "     'labeledLatLngs': [{'label': 'display',\n",
              "       'lat': 50.116883,\n",
              "       'lng': 8.648479}],\n",
              "     'lat': 50.116883,\n",
              "     'lng': 8.648479,\n",
              "     'neighborhood': 'Westend-Süd',\n",
              "     'state': 'Hessen'},\n",
              "    'name': 'Indian Flavours',\n",
              "    'referralId': 'v-1588878227'},\n",
              "   {'categories': [{'icon': {'prefix': 'https://ss3.4sqi.net/img/categories_v2/shops/default_',\n",
              "       'suffix': '.png'},\n",
              "      'id': '4bf58dd8d48988d1ff941735',\n",
              "      'name': 'Miscellaneous Shop',\n",
              "      'pluralName': 'Miscellaneous Shops',\n",
              "      'primary': True,\n",
              "      'shortName': 'Shop'}],\n",
              "    'hasPerk': False,\n",
              "    'id': '5208f50b11d20aea57e98c07',\n",
              "    'location': {'address': 'Bettinaplatz 26',\n",
              "     'cc': 'DE',\n",
              "     'city': 'Frankfurt am Main',\n",
              "     'country': 'Deutschland',\n",
              "     'distance': 1754,\n",
              "     'formattedAddress': ['Bettinaplatz 26',\n",
              "      'Frankfurt am Main',\n",
              "      'Deutschland'],\n",
              "     'labeledLatLngs': [{'label': 'display',\n",
              "       'lat': 50.11364392905445,\n",
              "       'lng': 8.657968036459687}],\n",
              "     'lat': 50.11364392905445,\n",
              "     'lng': 8.657968036459687,\n",
              "     'state': 'Hessen'},\n",
              "    'name': 'IGCS Indian German Visa Service',\n",
              "    'referralId': 'v-1588878227'},\n",
              "   {'categories': [{'icon': {'prefix': 'https://ss3.4sqi.net/img/categories_v2/food/indian_',\n",
              "       'suffix': '.png'},\n",
              "      'id': '4bf58dd8d48988d10f941735',\n",
              "      'name': 'Indian Restaurant',\n",
              "      'pluralName': 'Indian Restaurants',\n",
              "      'primary': True,\n",
              "      'shortName': 'Indian'}],\n",
              "    'hasPerk': False,\n",
              "    'id': '50352effe4b02f4a8337d0ec',\n",
              "    'location': {'address': 'Goldsteinstr. 215',\n",
              "     'cc': 'DE',\n",
              "     'city': 'Frankfurt am Main',\n",
              "     'country': 'Deutschland',\n",
              "     'distance': 4980,\n",
              "     'formattedAddress': ['Goldsteinstr. 215',\n",
              "      '60528 Frankfurt am Main',\n",
              "      'Deutschland'],\n",
              "     'labeledLatLngs': [{'label': 'display',\n",
              "       'lat': 50.083741265625584,\n",
              "       'lng': 8.626363086637697}],\n",
              "     'lat': 50.083741265625584,\n",
              "     'lng': 8.626363086637697,\n",
              "     'postalCode': '60528',\n",
              "     'state': 'Hessen'},\n",
              "    'name': 'Indian Curry House',\n",
              "    'referralId': 'v-1588878227'},\n",
              "   {'categories': [{'icon': {'prefix': 'https://ss3.4sqi.net/img/categories_v2/food/indian_',\n",
              "       'suffix': '.png'},\n",
              "      'id': '4bf58dd8d48988d10f941735',\n",
              "      'name': 'Indian Restaurant',\n",
              "      'pluralName': 'Indian Restaurants',\n",
              "      'primary': True,\n",
              "      'shortName': 'Indian'}],\n",
              "    'hasPerk': False,\n",
              "    'id': '55f2b523498eed92558b2f48',\n",
              "    'location': {'address': 'Kaiserstr. 55',\n",
              "     'cc': 'DE',\n",
              "     'city': 'Frankfurt am Main',\n",
              "     'country': 'Deutschland',\n",
              "     'distance': 975,\n",
              "     'formattedAddress': ['Kaiserstr. 55',\n",
              "      '60329 Frankfurt am Main',\n",
              "      'Deutschland'],\n",
              "     'labeledLatLngs': [{'label': 'display',\n",
              "       'lat': 50.10841,\n",
              "       'lng': 8.668881}],\n",
              "     'lat': 50.10841,\n",
              "     'lng': 8.668881,\n",
              "     'postalCode': '60329',\n",
              "     'state': 'Hessen'},\n",
              "    'name': 'eatDOORI',\n",
              "    'referralId': 'v-1588878227'},\n",
              "   {'categories': [{'icon': {'prefix': 'https://ss3.4sqi.net/img/categories_v2/shops/jewelry_',\n",
              "       'suffix': '.png'},\n",
              "      'id': '4bf58dd8d48988d111951735',\n",
              "      'name': 'Jewelry Store',\n",
              "      'pluralName': 'Jewelry Stores',\n",
              "      'primary': True,\n",
              "      'shortName': 'Jewelry'}],\n",
              "    'hasPerk': False,\n",
              "    'id': '522995e111d23bf6f78f04d0',\n",
              "    'location': {'cc': 'DE',\n",
              "     'city': 'Frankfurt am Main',\n",
              "     'country': 'Deutschland',\n",
              "     'distance': 1321,\n",
              "     'formattedAddress': ['Frankfurt am Main', 'Deutschland'],\n",
              "     'labeledLatLngs': [{'label': 'display',\n",
              "       'lat': 50.10677518640919,\n",
              "       'lng': 8.664586384679586}],\n",
              "     'lat': 50.10677518640919,\n",
              "     'lng': 8.664586384679586,\n",
              "     'state': 'Hessen'},\n",
              "    'name': 'Indianerschmuck',\n",
              "    'referralId': 'v-1588878227'},\n",
              "   {'categories': [{'icon': {'prefix': 'https://ss3.4sqi.net/img/categories_v2/food/indian_',\n",
              "       'suffix': '.png'},\n",
              "      'id': '4bf58dd8d48988d10f941735',\n",
              "      'name': 'Indian Restaurant',\n",
              "      'pluralName': 'Indian Restaurants',\n",
              "      'primary': True,\n",
              "      'shortName': 'Indian'}],\n",
              "    'hasPerk': False,\n",
              "    'id': '4cd933e353a7f04d2bda6616',\n",
              "    'location': {'address': 'Ludwigstr. 12',\n",
              "     'cc': 'DE',\n",
              "     'city': 'Frankfurt am Main',\n",
              "     'country': 'Deutschland',\n",
              "     'distance': 1705,\n",
              "     'formattedAddress': ['Ludwigstr. 12',\n",
              "      '60327 Frankfurt am Main',\n",
              "      'Deutschland'],\n",
              "     'labeledLatLngs': [{'label': 'display',\n",
              "       'lat': 50.108126890209235,\n",
              "       'lng': 8.658532780383997}],\n",
              "     'lat': 50.108126890209235,\n",
              "     'lng': 8.658532780383997,\n",
              "     'postalCode': '60327',\n",
              "     'state': 'Hessen'},\n",
              "    'name': 'Ruchi',\n",
              "    'referralId': 'v-1588878227'}]}}"
            ]
          },
          "metadata": {
            "tags": []
          },
          "execution_count": 81
        }
      ]
    },
    {
      "cell_type": "code",
      "metadata": {
        "button": false,
        "deletable": true,
        "new_sheet": false,
        "run_control": {
          "read_only": false
        },
        "colab_type": "code",
        "outputId": "5e3916de-e970-4c0d-ad10-a74aad554178",
        "id": "ARpZTFNyc3Fw",
        "colab": {
          "base_uri": "https://localhost:8080/",
          "height": 462
        }
      },
      "source": [
        "# assign relevant part of JSON to venues\n",
        "venues = results['response']['venues']\n",
        "\n",
        "# tranform venues into a dataframe\n",
        "dataframe = json_normalize(venues)\n",
        "dataframe.head()"
      ],
      "execution_count": 0,
      "outputs": [
        {
          "output_type": "stream",
          "text": [
            "/usr/local/lib/python3.6/dist-packages/ipykernel_launcher.py:4: FutureWarning: pandas.io.json.json_normalize is deprecated, use pandas.json_normalize instead\n",
            "  after removing the cwd from sys.path.\n"
          ],
          "name": "stderr"
        },
        {
          "output_type": "execute_result",
          "data": {
            "text/html": [
              "<div>\n",
              "<style scoped>\n",
              "    .dataframe tbody tr th:only-of-type {\n",
              "        vertical-align: middle;\n",
              "    }\n",
              "\n",
              "    .dataframe tbody tr th {\n",
              "        vertical-align: top;\n",
              "    }\n",
              "\n",
              "    .dataframe thead th {\n",
              "        text-align: right;\n",
              "    }\n",
              "</style>\n",
              "<table border=\"1\" class=\"dataframe\">\n",
              "  <thead>\n",
              "    <tr style=\"text-align: right;\">\n",
              "      <th></th>\n",
              "      <th>id</th>\n",
              "      <th>name</th>\n",
              "      <th>categories</th>\n",
              "      <th>referralId</th>\n",
              "      <th>hasPerk</th>\n",
              "      <th>location.address</th>\n",
              "      <th>location.lat</th>\n",
              "      <th>location.lng</th>\n",
              "      <th>location.labeledLatLngs</th>\n",
              "      <th>location.distance</th>\n",
              "      <th>location.cc</th>\n",
              "      <th>location.city</th>\n",
              "      <th>location.state</th>\n",
              "      <th>location.country</th>\n",
              "      <th>location.formattedAddress</th>\n",
              "      <th>location.postalCode</th>\n",
              "      <th>location.crossStreet</th>\n",
              "      <th>venuePage.id</th>\n",
              "      <th>location.neighborhood</th>\n",
              "    </tr>\n",
              "  </thead>\n",
              "  <tbody>\n",
              "    <tr>\n",
              "      <th>0</th>\n",
              "      <td>52f3a410498e6ef201053b3f</td>\n",
              "      <td>Star Sweet House – Indian Fast Food</td>\n",
              "      <td>[{'id': '4bf58dd8d48988d10f941735', 'name': 'I...</td>\n",
              "      <td>v-1588878227</td>\n",
              "      <td>False</td>\n",
              "      <td>Weserstr. 13</td>\n",
              "      <td>50.108167</td>\n",
              "      <td>8.669838</td>\n",
              "      <td>[{'label': 'display', 'lat': 50.10816668076543...</td>\n",
              "      <td>917</td>\n",
              "      <td>DE</td>\n",
              "      <td>Frankfurt am Main</td>\n",
              "      <td>Hessen</td>\n",
              "      <td>Deutschland</td>\n",
              "      <td>[Weserstr. 13, Frankfurt am Main, Deutschland]</td>\n",
              "      <td>NaN</td>\n",
              "      <td>NaN</td>\n",
              "      <td>NaN</td>\n",
              "      <td>NaN</td>\n",
              "    </tr>\n",
              "    <tr>\n",
              "      <th>1</th>\n",
              "      <td>5bcdf79d1ffed7002caa5c20</td>\n",
              "      <td>Indian Curry Castle</td>\n",
              "      <td>[{'id': '54135bf5e4b08f3d2429dfdd', 'name': 'N...</td>\n",
              "      <td>v-1588878227</td>\n",
              "      <td>False</td>\n",
              "      <td>NaN</td>\n",
              "      <td>50.110000</td>\n",
              "      <td>8.678008</td>\n",
              "      <td>[{'label': 'display', 'lat': 50.11, 'lng': 8.6...</td>\n",
              "      <td>300</td>\n",
              "      <td>DE</td>\n",
              "      <td>NaN</td>\n",
              "      <td>NaN</td>\n",
              "      <td>Deutschland</td>\n",
              "      <td>[Deutschland]</td>\n",
              "      <td>NaN</td>\n",
              "      <td>NaN</td>\n",
              "      <td>NaN</td>\n",
              "      <td>NaN</td>\n",
              "    </tr>\n",
              "    <tr>\n",
              "      <th>2</th>\n",
              "      <td>4ea8374c0aaf6e058659c2f5</td>\n",
              "      <td>Mayur - Indian Tandoori Restaurant</td>\n",
              "      <td>[{'id': '4bf58dd8d48988d10f941735', 'name': 'I...</td>\n",
              "      <td>v-1588878227</td>\n",
              "      <td>False</td>\n",
              "      <td>Berlinerstrasse 15</td>\n",
              "      <td>50.112505</td>\n",
              "      <td>8.684614</td>\n",
              "      <td>[{'label': 'display', 'lat': 50.11250473982661...</td>\n",
              "      <td>274</td>\n",
              "      <td>DE</td>\n",
              "      <td>Frankfurt am Main</td>\n",
              "      <td>Hessen</td>\n",
              "      <td>Deutschland</td>\n",
              "      <td>[Berlinerstrasse 15, 60311 Frankfurt am Main, ...</td>\n",
              "      <td>60311</td>\n",
              "      <td>NaN</td>\n",
              "      <td>NaN</td>\n",
              "      <td>NaN</td>\n",
              "    </tr>\n",
              "    <tr>\n",
              "      <th>3</th>\n",
              "      <td>54916348498ecad067de1923</td>\n",
              "      <td>Indian Kitchen</td>\n",
              "      <td>[{'id': '4bf58dd8d48988d10f941735', 'name': 'I...</td>\n",
              "      <td>v-1588878227</td>\n",
              "      <td>False</td>\n",
              "      <td>Zeil 51</td>\n",
              "      <td>50.114323</td>\n",
              "      <td>8.687257</td>\n",
              "      <td>[{'label': 'display', 'lat': 50.11432338013563...</td>\n",
              "      <td>551</td>\n",
              "      <td>DE</td>\n",
              "      <td>Frankfurt am Main</td>\n",
              "      <td>Hessen</td>\n",
              "      <td>Deutschland</td>\n",
              "      <td>[Zeil 51 (Konstablerwache), 60313 Frankfurt am...</td>\n",
              "      <td>60313</td>\n",
              "      <td>Konstablerwache</td>\n",
              "      <td>NaN</td>\n",
              "      <td>NaN</td>\n",
              "    </tr>\n",
              "    <tr>\n",
              "      <th>4</th>\n",
              "      <td>4b263447f964a520227924e3</td>\n",
              "      <td>Indian Chilli</td>\n",
              "      <td>[{'id': '4bf58dd8d48988d10f941735', 'name': 'I...</td>\n",
              "      <td>v-1588878227</td>\n",
              "      <td>False</td>\n",
              "      <td>Weserstr. 13</td>\n",
              "      <td>50.108311</td>\n",
              "      <td>8.669959</td>\n",
              "      <td>[{'label': 'display', 'lat': 50.10831100409323...</td>\n",
              "      <td>904</td>\n",
              "      <td>DE</td>\n",
              "      <td>Frankfurt am Main</td>\n",
              "      <td>Hessen</td>\n",
              "      <td>Deutschland</td>\n",
              "      <td>[Weserstr. 13 (Münchener Str.), 60329 Frankfur...</td>\n",
              "      <td>60329</td>\n",
              "      <td>Münchener Str.</td>\n",
              "      <td>NaN</td>\n",
              "      <td>NaN</td>\n",
              "    </tr>\n",
              "  </tbody>\n",
              "</table>\n",
              "</div>"
            ],
            "text/plain": [
              "                         id  ... location.neighborhood\n",
              "0  52f3a410498e6ef201053b3f  ...                   NaN\n",
              "1  5bcdf79d1ffed7002caa5c20  ...                   NaN\n",
              "2  4ea8374c0aaf6e058659c2f5  ...                   NaN\n",
              "3  54916348498ecad067de1923  ...                   NaN\n",
              "4  4b263447f964a520227924e3  ...                   NaN\n",
              "\n",
              "[5 rows x 19 columns]"
            ]
          },
          "metadata": {
            "tags": []
          },
          "execution_count": 82
        }
      ]
    },
    {
      "cell_type": "code",
      "metadata": {
        "id": "nxMYKRKCcsru",
        "colab_type": "code",
        "colab": {}
      },
      "source": [
        ""
      ],
      "execution_count": 0,
      "outputs": []
    },
    {
      "cell_type": "markdown",
      "metadata": {
        "button": false,
        "deletable": true,
        "new_sheet": false,
        "run_control": {
          "read_only": false
        },
        "colab_type": "text",
        "id": "BzstL3XFevdg"
      },
      "source": [
        "#### Information of interest and filter dataframe"
      ]
    },
    {
      "cell_type": "code",
      "metadata": {
        "id": "P7vVHptscs2k",
        "colab_type": "code",
        "outputId": "85c951ef-2734-4688-e4b6-f8a4cef6f76e",
        "colab": {
          "base_uri": "https://localhost:8080/",
          "height": 1000
        }
      },
      "source": [
        "# keep only columns that include venue name, and anything that is associated with location\n",
        "filtered_columns = ['name', 'categories'] + [col for col in dataframe.columns if col.startswith('location.')] + ['id']\n",
        "dataframe_filtered = dataframe.loc[:, filtered_columns]\n",
        "\n",
        "# function that extracts the category of the venue\n",
        "def get_category_type(row):\n",
        "    try:\n",
        "        categories_list = row['categories']\n",
        "    except:\n",
        "        categories_list = row['venue.categories']\n",
        "        \n",
        "    if len(categories_list) == 0:\n",
        "        return None\n",
        "    else:\n",
        "        return categories_list[0]['name']\n",
        "\n",
        "# filter the category for each row\n",
        "dataframe_filtered['categories'] = dataframe_filtered.apply(get_category_type, axis=1)\n",
        "\n",
        "# clean column names by keeping only last term\n",
        "dataframe_filtered.columns = [column.split('.')[-1] for column in dataframe_filtered.columns]\n",
        "\n",
        "dataframe_filtered"
      ],
      "execution_count": 0,
      "outputs": [
        {
          "output_type": "execute_result",
          "data": {
            "text/html": [
              "<div>\n",
              "<style scoped>\n",
              "    .dataframe tbody tr th:only-of-type {\n",
              "        vertical-align: middle;\n",
              "    }\n",
              "\n",
              "    .dataframe tbody tr th {\n",
              "        vertical-align: top;\n",
              "    }\n",
              "\n",
              "    .dataframe thead th {\n",
              "        text-align: right;\n",
              "    }\n",
              "</style>\n",
              "<table border=\"1\" class=\"dataframe\">\n",
              "  <thead>\n",
              "    <tr style=\"text-align: right;\">\n",
              "      <th></th>\n",
              "      <th>name</th>\n",
              "      <th>categories</th>\n",
              "      <th>address</th>\n",
              "      <th>lat</th>\n",
              "      <th>lng</th>\n",
              "      <th>labeledLatLngs</th>\n",
              "      <th>distance</th>\n",
              "      <th>cc</th>\n",
              "      <th>city</th>\n",
              "      <th>state</th>\n",
              "      <th>country</th>\n",
              "      <th>formattedAddress</th>\n",
              "      <th>postalCode</th>\n",
              "      <th>crossStreet</th>\n",
              "      <th>neighborhood</th>\n",
              "      <th>id</th>\n",
              "    </tr>\n",
              "  </thead>\n",
              "  <tbody>\n",
              "    <tr>\n",
              "      <th>0</th>\n",
              "      <td>Star Sweet House – Indian Fast Food</td>\n",
              "      <td>Indian Restaurant</td>\n",
              "      <td>Weserstr. 13</td>\n",
              "      <td>50.108167</td>\n",
              "      <td>8.669838</td>\n",
              "      <td>[{'label': 'display', 'lat': 50.10816668076543...</td>\n",
              "      <td>917</td>\n",
              "      <td>DE</td>\n",
              "      <td>Frankfurt am Main</td>\n",
              "      <td>Hessen</td>\n",
              "      <td>Deutschland</td>\n",
              "      <td>[Weserstr. 13, Frankfurt am Main, Deutschland]</td>\n",
              "      <td>NaN</td>\n",
              "      <td>NaN</td>\n",
              "      <td>NaN</td>\n",
              "      <td>52f3a410498e6ef201053b3f</td>\n",
              "    </tr>\n",
              "    <tr>\n",
              "      <th>1</th>\n",
              "      <td>Indian Curry Castle</td>\n",
              "      <td>North Indian Restaurant</td>\n",
              "      <td>NaN</td>\n",
              "      <td>50.110000</td>\n",
              "      <td>8.678008</td>\n",
              "      <td>[{'label': 'display', 'lat': 50.11, 'lng': 8.6...</td>\n",
              "      <td>300</td>\n",
              "      <td>DE</td>\n",
              "      <td>NaN</td>\n",
              "      <td>NaN</td>\n",
              "      <td>Deutschland</td>\n",
              "      <td>[Deutschland]</td>\n",
              "      <td>NaN</td>\n",
              "      <td>NaN</td>\n",
              "      <td>NaN</td>\n",
              "      <td>5bcdf79d1ffed7002caa5c20</td>\n",
              "    </tr>\n",
              "    <tr>\n",
              "      <th>2</th>\n",
              "      <td>Mayur - Indian Tandoori Restaurant</td>\n",
              "      <td>Indian Restaurant</td>\n",
              "      <td>Berlinerstrasse 15</td>\n",
              "      <td>50.112505</td>\n",
              "      <td>8.684614</td>\n",
              "      <td>[{'label': 'display', 'lat': 50.11250473982661...</td>\n",
              "      <td>274</td>\n",
              "      <td>DE</td>\n",
              "      <td>Frankfurt am Main</td>\n",
              "      <td>Hessen</td>\n",
              "      <td>Deutschland</td>\n",
              "      <td>[Berlinerstrasse 15, 60311 Frankfurt am Main, ...</td>\n",
              "      <td>60311</td>\n",
              "      <td>NaN</td>\n",
              "      <td>NaN</td>\n",
              "      <td>4ea8374c0aaf6e058659c2f5</td>\n",
              "    </tr>\n",
              "    <tr>\n",
              "      <th>3</th>\n",
              "      <td>Indian Kitchen</td>\n",
              "      <td>Indian Restaurant</td>\n",
              "      <td>Zeil 51</td>\n",
              "      <td>50.114323</td>\n",
              "      <td>8.687257</td>\n",
              "      <td>[{'label': 'display', 'lat': 50.11432338013563...</td>\n",
              "      <td>551</td>\n",
              "      <td>DE</td>\n",
              "      <td>Frankfurt am Main</td>\n",
              "      <td>Hessen</td>\n",
              "      <td>Deutschland</td>\n",
              "      <td>[Zeil 51 (Konstablerwache), 60313 Frankfurt am...</td>\n",
              "      <td>60313</td>\n",
              "      <td>Konstablerwache</td>\n",
              "      <td>NaN</td>\n",
              "      <td>54916348498ecad067de1923</td>\n",
              "    </tr>\n",
              "    <tr>\n",
              "      <th>4</th>\n",
              "      <td>Indian Chilli</td>\n",
              "      <td>Indian Restaurant</td>\n",
              "      <td>Weserstr. 13</td>\n",
              "      <td>50.108311</td>\n",
              "      <td>8.669959</td>\n",
              "      <td>[{'label': 'display', 'lat': 50.10831100409323...</td>\n",
              "      <td>904</td>\n",
              "      <td>DE</td>\n",
              "      <td>Frankfurt am Main</td>\n",
              "      <td>Hessen</td>\n",
              "      <td>Deutschland</td>\n",
              "      <td>[Weserstr. 13 (Münchener Str.), 60329 Frankfur...</td>\n",
              "      <td>60329</td>\n",
              "      <td>Münchener Str.</td>\n",
              "      <td>NaN</td>\n",
              "      <td>4b263447f964a520227924e3</td>\n",
              "    </tr>\n",
              "    <tr>\n",
              "      <th>5</th>\n",
              "      <td>Indian Curry House</td>\n",
              "      <td>Indian Restaurant</td>\n",
              "      <td>Weissadlergasse 7</td>\n",
              "      <td>50.108442</td>\n",
              "      <td>8.669672</td>\n",
              "      <td>[{'label': 'display', 'lat': 50.10844191336208...</td>\n",
              "      <td>919</td>\n",
              "      <td>DE</td>\n",
              "      <td>Frankfurt am Main</td>\n",
              "      <td>Hessen</td>\n",
              "      <td>Deutschland</td>\n",
              "      <td>[Weissadlergasse 7, Frankfurt am Main, Deutsch...</td>\n",
              "      <td>NaN</td>\n",
              "      <td>NaN</td>\n",
              "      <td>NaN</td>\n",
              "      <td>4b7a94b6f964a5201b322fe3</td>\n",
              "    </tr>\n",
              "    <tr>\n",
              "      <th>6</th>\n",
              "      <td>Indian Flair</td>\n",
              "      <td>Market</td>\n",
              "      <td>14 Kaiser Straße</td>\n",
              "      <td>50.105820</td>\n",
              "      <td>8.666334</td>\n",
              "      <td>[{'label': 'display', 'lat': 50.10581975233861...</td>\n",
              "      <td>1246</td>\n",
              "      <td>DE</td>\n",
              "      <td>Frankfurt am Main</td>\n",
              "      <td>Hessen</td>\n",
              "      <td>Deutschland</td>\n",
              "      <td>[14 Kaiser Straße, Frankfurt am Main, Deutschl...</td>\n",
              "      <td>NaN</td>\n",
              "      <td>NaN</td>\n",
              "      <td>NaN</td>\n",
              "      <td>5509b11a498e2d82e84c8996</td>\n",
              "    </tr>\n",
              "    <tr>\n",
              "      <th>7</th>\n",
              "      <td>Swagat - Indian &amp; Italian Restaurant</td>\n",
              "      <td>Indian Restaurant</td>\n",
              "      <td>Kaiserstrasse 42</td>\n",
              "      <td>50.108987</td>\n",
              "      <td>8.670236</td>\n",
              "      <td>[{'label': 'display', 'lat': 50.108987, 'lng':...</td>\n",
              "      <td>866</td>\n",
              "      <td>DE</td>\n",
              "      <td>Frankfurt am Main</td>\n",
              "      <td>Hessen</td>\n",
              "      <td>Deutschland</td>\n",
              "      <td>[Kaiserstrasse 42, 60329 Frankfurt am Main, De...</td>\n",
              "      <td>60329</td>\n",
              "      <td>NaN</td>\n",
              "      <td>NaN</td>\n",
              "      <td>4b28ce9ef964a520559524e3</td>\n",
              "    </tr>\n",
              "    <tr>\n",
              "      <th>8</th>\n",
              "      <td>EAST WEST U.G. Indian Tandoori Chilli Restaurant</td>\n",
              "      <td>Restaurant</td>\n",
              "      <td>Weserstraße 13</td>\n",
              "      <td>50.109585</td>\n",
              "      <td>8.668380</td>\n",
              "      <td>[{'label': 'display', 'lat': 50.10958472, 'lng...</td>\n",
              "      <td>985</td>\n",
              "      <td>DE</td>\n",
              "      <td>Frankfurt am Main</td>\n",
              "      <td>Hessen</td>\n",
              "      <td>Deutschland</td>\n",
              "      <td>[Weserstraße 13, 60329 Frankfurt am Main, Deut...</td>\n",
              "      <td>60329</td>\n",
              "      <td>NaN</td>\n",
              "      <td>NaN</td>\n",
              "      <td>599bef0932b61d2d97186ba8</td>\n",
              "    </tr>\n",
              "    <tr>\n",
              "      <th>9</th>\n",
              "      <td>Akmal Paki / Indian Food</td>\n",
              "      <td>Indian Restaurant</td>\n",
              "      <td>NaN</td>\n",
              "      <td>50.107857</td>\n",
              "      <td>8.668692</td>\n",
              "      <td>[{'label': 'display', 'lat': 50.107857, 'lng':...</td>\n",
              "      <td>1005</td>\n",
              "      <td>DE</td>\n",
              "      <td>Frankfurt am Main</td>\n",
              "      <td>Hessen</td>\n",
              "      <td>Deutschland</td>\n",
              "      <td>[Frankfurt am Main, Deutschland]</td>\n",
              "      <td>NaN</td>\n",
              "      <td>NaN</td>\n",
              "      <td>NaN</td>\n",
              "      <td>503f4830e4b0931eb58512c8</td>\n",
              "    </tr>\n",
              "    <tr>\n",
              "      <th>10</th>\n",
              "      <td>Condimantra - The Exciting Indian Kitchen</td>\n",
              "      <td>Restaurant</td>\n",
              "      <td>Schweizer Straße 78</td>\n",
              "      <td>50.100617</td>\n",
              "      <td>8.681367</td>\n",
              "      <td>[{'label': 'display', 'lat': 50.10061666, 'lng...</td>\n",
              "      <td>1117</td>\n",
              "      <td>DE</td>\n",
              "      <td>Frankfurt am Main</td>\n",
              "      <td>Hessen</td>\n",
              "      <td>Deutschland</td>\n",
              "      <td>[Schweizer Straße 78, 60594 Frankfurt am Main,...</td>\n",
              "      <td>60594</td>\n",
              "      <td>NaN</td>\n",
              "      <td>NaN</td>\n",
              "      <td>58e220090e0a1e6dd8996539</td>\n",
              "    </tr>\n",
              "    <tr>\n",
              "      <th>11</th>\n",
              "      <td>South Indian Resturante</td>\n",
              "      <td>Indian Restaurant</td>\n",
              "      <td>NaN</td>\n",
              "      <td>50.107910</td>\n",
              "      <td>8.666927</td>\n",
              "      <td>[{'label': 'display', 'lat': 50.10791, 'lng': ...</td>\n",
              "      <td>1124</td>\n",
              "      <td>DE</td>\n",
              "      <td>Frankfurt am Main</td>\n",
              "      <td>Hessen</td>\n",
              "      <td>Deutschland</td>\n",
              "      <td>[Frankfurt am Main, Deutschland]</td>\n",
              "      <td>NaN</td>\n",
              "      <td>NaN</td>\n",
              "      <td>NaN</td>\n",
              "      <td>52238447498e32c9cd888214</td>\n",
              "    </tr>\n",
              "    <tr>\n",
              "      <th>12</th>\n",
              "      <td>Indian Consulate</td>\n",
              "      <td>Embassy / Consulate</td>\n",
              "      <td>NaN</td>\n",
              "      <td>50.110667</td>\n",
              "      <td>8.657108</td>\n",
              "      <td>[{'label': 'display', 'lat': 50.110667, 'lng':...</td>\n",
              "      <td>1783</td>\n",
              "      <td>DE</td>\n",
              "      <td>Frankfurt am Main</td>\n",
              "      <td>Hessen</td>\n",
              "      <td>Deutschland</td>\n",
              "      <td>[Frankfurt am Main, Deutschland]</td>\n",
              "      <td>NaN</td>\n",
              "      <td>NaN</td>\n",
              "      <td>NaN</td>\n",
              "      <td>51e6522e498ee81b4c23a19c</td>\n",
              "    </tr>\n",
              "    <tr>\n",
              "      <th>13</th>\n",
              "      <td>Indian Curry House</td>\n",
              "      <td>Indian Restaurant</td>\n",
              "      <td>Launhardtstr. 2-4</td>\n",
              "      <td>50.112378</td>\n",
              "      <td>8.712950</td>\n",
              "      <td>[{'label': 'display', 'lat': 50.1123784367129,...</td>\n",
              "      <td>2211</td>\n",
              "      <td>DE</td>\n",
              "      <td>Frankfurt am Main</td>\n",
              "      <td>Hessen</td>\n",
              "      <td>Deutschland</td>\n",
              "      <td>[Launhardtstr. 2-4, 60314 Frankfurt am Main, D...</td>\n",
              "      <td>60314</td>\n",
              "      <td>NaN</td>\n",
              "      <td>NaN</td>\n",
              "      <td>5740f171498e5117d03140d0</td>\n",
              "    </tr>\n",
              "    <tr>\n",
              "      <th>14</th>\n",
              "      <td>Indian Flavours</td>\n",
              "      <td>Indian Restaurant</td>\n",
              "      <td>NaN</td>\n",
              "      <td>50.116883</td>\n",
              "      <td>8.648479</td>\n",
              "      <td>[{'label': 'display', 'lat': 50.116883, 'lng':...</td>\n",
              "      <td>2497</td>\n",
              "      <td>DE</td>\n",
              "      <td>Frankfurt am Main</td>\n",
              "      <td>Hessen</td>\n",
              "      <td>Deutschland</td>\n",
              "      <td>[Frankfurt am Main, Deutschland]</td>\n",
              "      <td>NaN</td>\n",
              "      <td>NaN</td>\n",
              "      <td>Westend-Süd</td>\n",
              "      <td>5a82c3a335811b3a6160c67a</td>\n",
              "    </tr>\n",
              "    <tr>\n",
              "      <th>15</th>\n",
              "      <td>IGCS Indian German Visa Service</td>\n",
              "      <td>Miscellaneous Shop</td>\n",
              "      <td>Bettinaplatz 26</td>\n",
              "      <td>50.113644</td>\n",
              "      <td>8.657968</td>\n",
              "      <td>[{'label': 'display', 'lat': 50.11364392905445...</td>\n",
              "      <td>1754</td>\n",
              "      <td>DE</td>\n",
              "      <td>Frankfurt am Main</td>\n",
              "      <td>Hessen</td>\n",
              "      <td>Deutschland</td>\n",
              "      <td>[Bettinaplatz 26, Frankfurt am Main, Deutschland]</td>\n",
              "      <td>NaN</td>\n",
              "      <td>NaN</td>\n",
              "      <td>NaN</td>\n",
              "      <td>5208f50b11d20aea57e98c07</td>\n",
              "    </tr>\n",
              "    <tr>\n",
              "      <th>16</th>\n",
              "      <td>Indian Curry House</td>\n",
              "      <td>Indian Restaurant</td>\n",
              "      <td>Goldsteinstr. 215</td>\n",
              "      <td>50.083741</td>\n",
              "      <td>8.626363</td>\n",
              "      <td>[{'label': 'display', 'lat': 50.08374126562558...</td>\n",
              "      <td>4980</td>\n",
              "      <td>DE</td>\n",
              "      <td>Frankfurt am Main</td>\n",
              "      <td>Hessen</td>\n",
              "      <td>Deutschland</td>\n",
              "      <td>[Goldsteinstr. 215, 60528 Frankfurt am Main, D...</td>\n",
              "      <td>60528</td>\n",
              "      <td>NaN</td>\n",
              "      <td>NaN</td>\n",
              "      <td>50352effe4b02f4a8337d0ec</td>\n",
              "    </tr>\n",
              "    <tr>\n",
              "      <th>17</th>\n",
              "      <td>eatDOORI</td>\n",
              "      <td>Indian Restaurant</td>\n",
              "      <td>Kaiserstr. 55</td>\n",
              "      <td>50.108410</td>\n",
              "      <td>8.668881</td>\n",
              "      <td>[{'label': 'display', 'lat': 50.10841, 'lng': ...</td>\n",
              "      <td>975</td>\n",
              "      <td>DE</td>\n",
              "      <td>Frankfurt am Main</td>\n",
              "      <td>Hessen</td>\n",
              "      <td>Deutschland</td>\n",
              "      <td>[Kaiserstr. 55, 60329 Frankfurt am Main, Deuts...</td>\n",
              "      <td>60329</td>\n",
              "      <td>NaN</td>\n",
              "      <td>NaN</td>\n",
              "      <td>55f2b523498eed92558b2f48</td>\n",
              "    </tr>\n",
              "    <tr>\n",
              "      <th>18</th>\n",
              "      <td>Indianerschmuck</td>\n",
              "      <td>Jewelry Store</td>\n",
              "      <td>NaN</td>\n",
              "      <td>50.106775</td>\n",
              "      <td>8.664586</td>\n",
              "      <td>[{'label': 'display', 'lat': 50.10677518640919...</td>\n",
              "      <td>1321</td>\n",
              "      <td>DE</td>\n",
              "      <td>Frankfurt am Main</td>\n",
              "      <td>Hessen</td>\n",
              "      <td>Deutschland</td>\n",
              "      <td>[Frankfurt am Main, Deutschland]</td>\n",
              "      <td>NaN</td>\n",
              "      <td>NaN</td>\n",
              "      <td>NaN</td>\n",
              "      <td>522995e111d23bf6f78f04d0</td>\n",
              "    </tr>\n",
              "    <tr>\n",
              "      <th>19</th>\n",
              "      <td>Ruchi</td>\n",
              "      <td>Indian Restaurant</td>\n",
              "      <td>Ludwigstr. 12</td>\n",
              "      <td>50.108127</td>\n",
              "      <td>8.658533</td>\n",
              "      <td>[{'label': 'display', 'lat': 50.10812689020923...</td>\n",
              "      <td>1705</td>\n",
              "      <td>DE</td>\n",
              "      <td>Frankfurt am Main</td>\n",
              "      <td>Hessen</td>\n",
              "      <td>Deutschland</td>\n",
              "      <td>[Ludwigstr. 12, 60327 Frankfurt am Main, Deuts...</td>\n",
              "      <td>60327</td>\n",
              "      <td>NaN</td>\n",
              "      <td>NaN</td>\n",
              "      <td>4cd933e353a7f04d2bda6616</td>\n",
              "    </tr>\n",
              "  </tbody>\n",
              "</table>\n",
              "</div>"
            ],
            "text/plain": [
              "                                                name  ...                        id\n",
              "0                Star Sweet House – Indian Fast Food  ...  52f3a410498e6ef201053b3f\n",
              "1                                Indian Curry Castle  ...  5bcdf79d1ffed7002caa5c20\n",
              "2                 Mayur - Indian Tandoori Restaurant  ...  4ea8374c0aaf6e058659c2f5\n",
              "3                                     Indian Kitchen  ...  54916348498ecad067de1923\n",
              "4                                      Indian Chilli  ...  4b263447f964a520227924e3\n",
              "5                                 Indian Curry House  ...  4b7a94b6f964a5201b322fe3\n",
              "6                                       Indian Flair  ...  5509b11a498e2d82e84c8996\n",
              "7               Swagat - Indian & Italian Restaurant  ...  4b28ce9ef964a520559524e3\n",
              "8   EAST WEST U.G. Indian Tandoori Chilli Restaurant  ...  599bef0932b61d2d97186ba8\n",
              "9                           Akmal Paki / Indian Food  ...  503f4830e4b0931eb58512c8\n",
              "10         Condimantra - The Exciting Indian Kitchen  ...  58e220090e0a1e6dd8996539\n",
              "11                           South Indian Resturante  ...  52238447498e32c9cd888214\n",
              "12                                  Indian Consulate  ...  51e6522e498ee81b4c23a19c\n",
              "13                                Indian Curry House  ...  5740f171498e5117d03140d0\n",
              "14                                   Indian Flavours  ...  5a82c3a335811b3a6160c67a\n",
              "15                   IGCS Indian German Visa Service  ...  5208f50b11d20aea57e98c07\n",
              "16                                Indian Curry House  ...  50352effe4b02f4a8337d0ec\n",
              "17                                          eatDOORI  ...  55f2b523498eed92558b2f48\n",
              "18                                   Indianerschmuck  ...  522995e111d23bf6f78f04d0\n",
              "19                                             Ruchi  ...  4cd933e353a7f04d2bda6616\n",
              "\n",
              "[20 rows x 16 columns]"
            ]
          },
          "metadata": {
            "tags": []
          },
          "execution_count": 83
        }
      ]
    },
    {
      "cell_type": "code",
      "metadata": {
        "id": "aTz2_uUcctAE",
        "colab_type": "code",
        "outputId": "67d4bd14-0f97-4b7f-c5c9-92ce6ce233e2",
        "colab": {
          "base_uri": "https://localhost:8080/",
          "height": 374
        }
      },
      "source": [
        "dataframe_filtered.name"
      ],
      "execution_count": 0,
      "outputs": [
        {
          "output_type": "execute_result",
          "data": {
            "text/plain": [
              "0                  Star Sweet House – Indian Fast Food\n",
              "1                                  Indian Curry Castle\n",
              "2                   Mayur - Indian Tandoori Restaurant\n",
              "3                                       Indian Kitchen\n",
              "4                                        Indian Chilli\n",
              "5                                   Indian Curry House\n",
              "6                                         Indian Flair\n",
              "7                 Swagat - Indian & Italian Restaurant\n",
              "8     EAST WEST U.G. Indian Tandoori Chilli Restaurant\n",
              "9                             Akmal Paki / Indian Food\n",
              "10           Condimantra - The Exciting Indian Kitchen\n",
              "11                             South Indian Resturante\n",
              "12                                    Indian Consulate\n",
              "13                                  Indian Curry House\n",
              "14                                     Indian Flavours\n",
              "15                     IGCS Indian German Visa Service\n",
              "16                                  Indian Curry House\n",
              "17                                            eatDOORI\n",
              "18                                     Indianerschmuck\n",
              "19                                               Ruchi\n",
              "Name: name, dtype: object"
            ]
          },
          "metadata": {
            "tags": []
          },
          "execution_count": 84
        }
      ]
    },
    {
      "cell_type": "code",
      "metadata": {
        "id": "g4goX_PTctHd",
        "colab_type": "code",
        "outputId": "0e06bdf4-5c27-47ea-a4a9-ada5361de26d",
        "colab": {
          "base_uri": "https://localhost:8080/",
          "height": 1000
        }
      },
      "source": [
        "venues_map = folium.Map(location=[latitude, longitude], zoom_start=13) # generate map centred around Frankfurt City Center\n",
        "\n",
        "# add a red circle marker to represent the Frankfurt City Center\n",
        "folium.CircleMarker(\n",
        "    [latitude, longitude],\n",
        "    radius=10,\n",
        "    color='red',\n",
        "    popup=' Frankfurt City Center',\n",
        "    fill = True,\n",
        "    fill_color = 'red',\n",
        "    fill_opacity = 0.5\n",
        ").add_to(venues_map)\n",
        "\n",
        "# add the Indian Shops and Restura as blue circle markers\n",
        "for lat, lng, label in zip(dataframe_filtered.lat, dataframe_filtered.lng, dataframe_filtered.categories):\n",
        "    folium.CircleMarker(\n",
        "        [lat, lng],\n",
        "        radius=15,\n",
        "        color='blue',\n",
        "        popup=label,\n",
        "        fill = True,\n",
        "        fill_color='blue',\n",
        "        fill_opacity=0.5\n",
        "    ).add_to(venues_map)\n",
        "\n",
        "# display map\n",
        "venues_map"
      ],
      "execution_count": 0,
      "outputs": [
        {
          "output_type": "execute_result",
          "data": {
            "text/html": [
              "<div style=\"width:100%;\"><div style=\"position:relative;width:100%;height:0;padding-bottom:60%;\"><iframe src=\"about:blank\" style=\"position:absolute;width:100%;height:100%;left:0;top:0;border:none !important;\" data-html=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 onload=\"this.contentDocument.open();this.contentDocument.write(atob(this.getAttribute('data-html')));this.contentDocument.close();\" allowfullscreen webkitallowfullscreen mozallowfullscreen></iframe></div></div>"
            ],
            "text/plain": [
              "<folium.folium.Map at 0x7f558ee9e828>"
            ]
          },
          "metadata": {
            "tags": []
          },
          "execution_count": 113
        }
      ]
    },
    {
      "cell_type": "code",
      "metadata": {
        "id": "v0OR2vkwctU5",
        "colab_type": "code",
        "colab": {}
      },
      "source": [
        ""
      ],
      "execution_count": 0,
      "outputs": []
    },
    {
      "cell_type": "code",
      "metadata": {
        "id": "kWJIMWyHdCWk",
        "colab_type": "code",
        "colab": {}
      },
      "source": [
        ""
      ],
      "execution_count": 0,
      "outputs": []
    },
    {
      "cell_type": "code",
      "metadata": {
        "id": "20YCJ9ezdCNq",
        "colab_type": "code",
        "colab": {}
      },
      "source": [
        ""
      ],
      "execution_count": 0,
      "outputs": []
    },
    {
      "cell_type": "code",
      "metadata": {
        "id": "rbDCI5dLdCKn",
        "colab_type": "code",
        "colab": {}
      },
      "source": [
        ""
      ],
      "execution_count": 0,
      "outputs": []
    },
    {
      "cell_type": "markdown",
      "metadata": {
        "button": false,
        "deletable": true,
        "new_sheet": false,
        "run_control": {
          "read_only": false
        },
        "id": "XsepDWPa_Ty6",
        "colab_type": "text"
      },
      "source": [
        "## 2. Explore a Given Venue\n",
        "> `https://api.foursquare.com/v2/venues/`**VENUE_ID**`?client_id=`**CLIENT_ID**`&client_secret=`**CLIENT_SECRET**`&v=`**VERSION**"
      ]
    },
    {
      "cell_type": "markdown",
      "metadata": {
        "button": false,
        "deletable": true,
        "new_sheet": false,
        "run_control": {
          "read_only": false
        },
        "id": "aqjmSCzD_Ty7",
        "colab_type": "text"
      },
      "source": [
        "### A. Let's explore the closest Italian restaurant -- _Harry's Italian Pizza Bar_"
      ]
    },
    {
      "cell_type": "code",
      "metadata": {
        "button": false,
        "deletable": true,
        "new_sheet": false,
        "run_control": {
          "read_only": false
        },
        "id": "ptvVvLYy_Ty8",
        "colab_type": "code",
        "colab": {}
      },
      "source": [
        "venue_id = '4fa862b3e4b0ebff2f749f06' # ID of Harry's Italian Pizza Bar\n",
        "url = 'https://api.foursquare.com/v2/venues/{}?client_id={}&client_secret={}&v={}'.format(venue_id, CLIENT_ID, CLIENT_SECRET, VERSION)\n",
        "url"
      ],
      "execution_count": 0,
      "outputs": []
    },
    {
      "cell_type": "markdown",
      "metadata": {
        "button": false,
        "deletable": true,
        "new_sheet": false,
        "run_control": {
          "read_only": false
        },
        "id": "_WPLsD8C_TzF",
        "colab_type": "text"
      },
      "source": [
        "#### Send GET request for result"
      ]
    },
    {
      "cell_type": "code",
      "metadata": {
        "button": false,
        "deletable": true,
        "new_sheet": false,
        "run_control": {
          "read_only": false
        },
        "id": "Ym3GED92_TzG",
        "colab_type": "code",
        "colab": {}
      },
      "source": [
        "result = requests.get(url).json()\n",
        "print(result['response']['venue'].keys())\n",
        "result['response']['venue']"
      ],
      "execution_count": 0,
      "outputs": []
    },
    {
      "cell_type": "markdown",
      "metadata": {
        "button": false,
        "deletable": true,
        "new_sheet": false,
        "run_control": {
          "read_only": false
        },
        "id": "RDN4zGTO_TzL",
        "colab_type": "text"
      },
      "source": [
        "### B. Get the venue's overall rating"
      ]
    },
    {
      "cell_type": "code",
      "metadata": {
        "button": false,
        "deletable": true,
        "new_sheet": false,
        "run_control": {
          "read_only": false
        },
        "id": "PME91qrh_TzM",
        "colab_type": "code",
        "colab": {}
      },
      "source": [
        "try:\n",
        "    print(result['response']['venue']['rating'])\n",
        "except:\n",
        "    print('This venue has not been rated yet.')"
      ],
      "execution_count": 0,
      "outputs": []
    },
    {
      "cell_type": "markdown",
      "metadata": {
        "button": false,
        "deletable": true,
        "new_sheet": false,
        "run_control": {
          "read_only": false
        },
        "id": "U2jIZWXD_TzQ",
        "colab_type": "text"
      },
      "source": [
        "That is not a very good rating. Let's check the rating of the second closest Italian restaurant."
      ]
    },
    {
      "cell_type": "code",
      "metadata": {
        "button": false,
        "deletable": true,
        "new_sheet": false,
        "run_control": {
          "read_only": false
        },
        "id": "KBbcCmqI_TzQ",
        "colab_type": "code",
        "colab": {}
      },
      "source": [
        "venue_id = '4f3232e219836c91c7bfde94' # ID of Conca Cucina Italian Restaurant\n",
        "url = 'https://api.foursquare.com/v2/venues/{}?client_id={}&client_secret={}&v={}'.format(venue_id, CLIENT_ID, CLIENT_SECRET, VERSION)\n",
        "\n",
        "result = requests.get(url).json()\n",
        "try:\n",
        "    print(result['response']['venue']['rating'])\n",
        "except:\n",
        "    print('This venue has not been rated yet.')"
      ],
      "execution_count": 0,
      "outputs": []
    },
    {
      "cell_type": "markdown",
      "metadata": {
        "button": false,
        "deletable": true,
        "new_sheet": false,
        "run_control": {
          "read_only": false
        },
        "id": "AkvJrAx-_TzU",
        "colab_type": "text"
      },
      "source": [
        "Since this restaurant has no ratings, let's check the third restaurant."
      ]
    },
    {
      "cell_type": "code",
      "metadata": {
        "button": false,
        "deletable": true,
        "new_sheet": false,
        "run_control": {
          "read_only": false
        },
        "id": "zDkgUEX2_TzU",
        "colab_type": "code",
        "colab": {}
      },
      "source": [
        "venue_id = '3fd66200f964a520f4e41ee3' # ID of Ecco\n",
        "url = 'https://api.foursquare.com/v2/venues/{}?client_id={}&client_secret={}&v={}'.format(venue_id, CLIENT_ID, CLIENT_SECRET, VERSION)\n",
        "\n",
        "result = requests.get(url).json()\n",
        "try:\n",
        "    print(result['response']['venue']['rating'])\n",
        "except:\n",
        "    print('This venue has not been rated yet.')"
      ],
      "execution_count": 0,
      "outputs": []
    },
    {
      "cell_type": "markdown",
      "metadata": {
        "button": false,
        "deletable": true,
        "new_sheet": false,
        "run_control": {
          "read_only": false
        },
        "id": "U_zqXgjf_TzX",
        "colab_type": "text"
      },
      "source": [
        "Since this restaurant has a slightly better rating, let's explore it further."
      ]
    },
    {
      "cell_type": "markdown",
      "metadata": {
        "button": false,
        "deletable": true,
        "new_sheet": false,
        "run_control": {
          "read_only": false
        },
        "id": "ipqdojWP_TzY",
        "colab_type": "text"
      },
      "source": [
        "### C. Get the number of tips"
      ]
    },
    {
      "cell_type": "code",
      "metadata": {
        "button": false,
        "deletable": true,
        "new_sheet": false,
        "run_control": {
          "read_only": false
        },
        "id": "M9vXL97z_TzZ",
        "colab_type": "code",
        "colab": {}
      },
      "source": [
        "result['response']['venue']['tips']['count']"
      ],
      "execution_count": 0,
      "outputs": []
    },
    {
      "cell_type": "markdown",
      "metadata": {
        "button": false,
        "deletable": true,
        "new_sheet": false,
        "run_control": {
          "read_only": false
        },
        "id": "JWizB4uD_Tzc",
        "colab_type": "text"
      },
      "source": [
        "### D. Get the venue's tips\n",
        "> `https://api.foursquare.com/v2/venues/`**VENUE_ID**`/tips?client_id=`**CLIENT_ID**`&client_secret=`**CLIENT_SECRET**`&v=`**VERSION**`&limit=`**LIMIT**"
      ]
    },
    {
      "cell_type": "markdown",
      "metadata": {
        "button": false,
        "deletable": true,
        "new_sheet": false,
        "run_control": {
          "read_only": false
        },
        "id": "oN3FTyxk_Tzd",
        "colab_type": "text"
      },
      "source": [
        "#### Create URL and send GET request. Make sure to set limit to get all tips"
      ]
    },
    {
      "cell_type": "code",
      "metadata": {
        "button": false,
        "deletable": true,
        "new_sheet": false,
        "run_control": {
          "read_only": false
        },
        "id": "H6IaG4L__Tzd",
        "colab_type": "code",
        "colab": {}
      },
      "source": [
        "## Ecco Tips\n",
        "limit = 15 # set limit to be greater than or equal to the total number of tips\n",
        "url = 'https://api.foursquare.com/v2/venues/{}/tips?client_id={}&client_secret={}&v={}&limit={}'.format(venue_id, CLIENT_ID, CLIENT_SECRET, VERSION, limit)\n",
        "\n",
        "results = requests.get(url).json()\n",
        "results"
      ],
      "execution_count": 0,
      "outputs": []
    },
    {
      "cell_type": "markdown",
      "metadata": {
        "button": false,
        "deletable": true,
        "new_sheet": false,
        "run_control": {
          "read_only": false
        },
        "id": "6JpfeNqZ_Tzi",
        "colab_type": "text"
      },
      "source": [
        "#### Get tips and list of associated features"
      ]
    },
    {
      "cell_type": "code",
      "metadata": {
        "button": false,
        "deletable": true,
        "new_sheet": false,
        "run_control": {
          "read_only": false
        },
        "id": "O75djX0j_Tzj",
        "colab_type": "code",
        "colab": {}
      },
      "source": [
        "tips = results['response']['tips']['items']\n",
        "\n",
        "tip = results['response']['tips']['items'][0]\n",
        "tip.keys()"
      ],
      "execution_count": 0,
      "outputs": []
    },
    {
      "cell_type": "markdown",
      "metadata": {
        "button": false,
        "deletable": true,
        "new_sheet": false,
        "run_control": {
          "read_only": false
        },
        "id": "MA05V0rX_Tzq",
        "colab_type": "text"
      },
      "source": [
        "#### Format column width and display all tips"
      ]
    },
    {
      "cell_type": "code",
      "metadata": {
        "button": false,
        "deletable": true,
        "new_sheet": false,
        "run_control": {
          "read_only": false
        },
        "scrolled": false,
        "id": "67QodCR7_Tzr",
        "colab_type": "code",
        "colab": {}
      },
      "source": [
        "pd.set_option('display.max_colwidth', -1)\n",
        "\n",
        "tips_df = json_normalize(tips) # json normalize tips\n",
        "\n",
        "# columns to keep\n",
        "filtered_columns = ['text', 'agreeCount', 'disagreeCount', 'id', 'user.firstName', 'user.lastName', 'user.gender', 'user.id']\n",
        "tips_filtered = tips_df.loc[:, filtered_columns]\n",
        "\n",
        "# display tips\n",
        "tips_filtered"
      ],
      "execution_count": 0,
      "outputs": []
    },
    {
      "cell_type": "markdown",
      "metadata": {
        "button": false,
        "deletable": true,
        "new_sheet": false,
        "run_control": {
          "read_only": false
        },
        "id": "NACzs80j_Tzw",
        "colab_type": "text"
      },
      "source": [
        "Now remember that because we are using a personal developer account, then we can access only 2 of the restaurant's tips, instead of all 15 tips."
      ]
    },
    {
      "cell_type": "markdown",
      "metadata": {
        "button": false,
        "deletable": true,
        "new_sheet": false,
        "run_control": {
          "read_only": false
        },
        "id": "mqHNAbSx_Tzw",
        "colab_type": "text"
      },
      "source": [
        "   "
      ]
    },
    {
      "cell_type": "markdown",
      "metadata": {
        "button": false,
        "deletable": true,
        "new_sheet": false,
        "run_control": {
          "read_only": false
        },
        "id": "sP7YwxFh_Tzx",
        "colab_type": "text"
      },
      "source": [
        "<a id=\"item3\"></a>"
      ]
    },
    {
      "cell_type": "markdown",
      "metadata": {
        "button": false,
        "deletable": true,
        "new_sheet": false,
        "run_control": {
          "read_only": false
        },
        "id": "1R0mNgnw_Tzx",
        "colab_type": "text"
      },
      "source": [
        "## 3. Search a Foursquare User\n",
        "> `https://api.foursquare.com/v2/users/`**USER_ID**`?client_id=`**CLIENT_ID**`&client_secret=`**CLIENT_SECRET**`&v=`**VERSION**"
      ]
    },
    {
      "cell_type": "markdown",
      "metadata": {
        "button": false,
        "deletable": true,
        "new_sheet": false,
        "run_control": {
          "read_only": false
        },
        "id": "3mfJwYM4_Tzy",
        "colab_type": "text"
      },
      "source": [
        "### Define URL, send GET request and display features associated with user"
      ]
    },
    {
      "cell_type": "code",
      "metadata": {
        "button": false,
        "deletable": true,
        "new_sheet": false,
        "run_control": {
          "read_only": false
        },
        "id": "1KYSbT86_Tzz",
        "colab_type": "code",
        "colab": {}
      },
      "source": [
        "user_id = '484542633' # user ID with most agree counts and complete profile\n",
        "\n",
        "url = 'https://api.foursquare.com/v2/users/{}?client_id={}&client_secret={}&v={}'.format(user_id, CLIENT_ID, CLIENT_SECRET, VERSION) # define URL\n",
        "\n",
        "# send GET request\n",
        "results = requests.get(url).json()\n",
        "user_data = results['response']['user']\n",
        "\n",
        "# display features associated with user\n",
        "user_data.keys()"
      ],
      "execution_count": 0,
      "outputs": []
    },
    {
      "cell_type": "code",
      "metadata": {
        "button": false,
        "deletable": true,
        "new_sheet": false,
        "run_control": {
          "read_only": false
        },
        "id": "NaoM6oyK_Tz1",
        "colab_type": "code",
        "colab": {}
      },
      "source": [
        "print('First Name: ' + user_data['firstName'])\n",
        "print('Last Name: ' + user_data['lastName'])\n",
        "print('Home City: ' + user_data['homeCity'])"
      ],
      "execution_count": 0,
      "outputs": []
    },
    {
      "cell_type": "markdown",
      "metadata": {
        "button": false,
        "deletable": true,
        "new_sheet": false,
        "run_control": {
          "read_only": false
        },
        "id": "_9VQiJrY_Tz4",
        "colab_type": "text"
      },
      "source": [
        "#### How many tips has this user submitted?"
      ]
    },
    {
      "cell_type": "code",
      "metadata": {
        "button": false,
        "deletable": true,
        "new_sheet": false,
        "run_control": {
          "read_only": false
        },
        "id": "4zCnFlZJ_Tz5",
        "colab_type": "code",
        "colab": {}
      },
      "source": [
        "user_data['tips']"
      ],
      "execution_count": 0,
      "outputs": []
    },
    {
      "cell_type": "markdown",
      "metadata": {
        "button": false,
        "deletable": true,
        "new_sheet": false,
        "run_control": {
          "read_only": false
        },
        "id": "7-Q2_1-7_Tz8",
        "colab_type": "text"
      },
      "source": [
        "Wow! So it turns out that Nick is a very active Foursquare user, with more than 250 tips."
      ]
    },
    {
      "cell_type": "markdown",
      "metadata": {
        "button": false,
        "deletable": true,
        "new_sheet": false,
        "run_control": {
          "read_only": false
        },
        "id": "vtKdn30L_Tz9",
        "colab_type": "text"
      },
      "source": [
        "### Get User's tips"
      ]
    },
    {
      "cell_type": "code",
      "metadata": {
        "button": false,
        "deletable": true,
        "new_sheet": false,
        "run_control": {
          "read_only": false
        },
        "scrolled": false,
        "id": "U9uG_zYQ_Tz-",
        "colab_type": "code",
        "colab": {}
      },
      "source": [
        "# define tips URL\n",
        "url = 'https://api.foursquare.com/v2/users/{}/tips?client_id={}&client_secret={}&v={}&limit={}'.format(user_id, CLIENT_ID, CLIENT_SECRET, VERSION, limit)\n",
        "\n",
        "# send GET request and get user's tips\n",
        "results = requests.get(url).json()\n",
        "tips = results['response']['tips']['items']\n",
        "\n",
        "# format column width\n",
        "pd.set_option('display.max_colwidth', -1)\n",
        "\n",
        "tips_df = json_normalize(tips)\n",
        "\n",
        "# filter columns\n",
        "filtered_columns = ['text', 'agreeCount', 'disagreeCount', 'id']\n",
        "tips_filtered = tips_df.loc[:, filtered_columns]\n",
        "\n",
        "# display user's tips\n",
        "tips_filtered"
      ],
      "execution_count": 0,
      "outputs": []
    },
    {
      "cell_type": "markdown",
      "metadata": {
        "button": false,
        "deletable": true,
        "new_sheet": false,
        "run_control": {
          "read_only": false
        },
        "id": "GCTTDTDU_T0B",
        "colab_type": "text"
      },
      "source": [
        "#### Let's get the venue for the tip with the greatest number of agree counts"
      ]
    },
    {
      "cell_type": "code",
      "metadata": {
        "button": false,
        "deletable": true,
        "new_sheet": false,
        "run_control": {
          "read_only": false
        },
        "id": "6m3R4P8j_T0C",
        "colab_type": "code",
        "colab": {}
      },
      "source": [
        "tip_id = '5ab5575d73fe2516ad8f363b' # tip id\n",
        "\n",
        "# define URL\n",
        "url = 'http://api.foursquare.com/v2/tips/{}?client_id={}&client_secret={}&v={}'.format(tip_id, CLIENT_ID, CLIENT_SECRET, VERSION)\n",
        "\n",
        "# send GET Request and examine results\n",
        "result = requests.get(url).json()\n",
        "print(result['response']['tip']['venue']['name'])\n",
        "print(result['response']['tip']['venue']['location'])"
      ],
      "execution_count": 0,
      "outputs": []
    },
    {
      "cell_type": "markdown",
      "metadata": {
        "button": false,
        "deletable": true,
        "new_sheet": false,
        "run_control": {
          "read_only": false
        },
        "id": "_F8AyusE_T0F",
        "colab_type": "text"
      },
      "source": [
        "### Get User's friends"
      ]
    },
    {
      "cell_type": "code",
      "metadata": {
        "button": false,
        "deletable": true,
        "new_sheet": false,
        "run_control": {
          "read_only": false
        },
        "scrolled": false,
        "id": "dE4QkfwI_T0G",
        "colab_type": "code",
        "colab": {}
      },
      "source": [
        "user_friends = json_normalize(user_data['friends']['groups'][0]['items'])\n",
        "user_friends"
      ],
      "execution_count": 0,
      "outputs": []
    },
    {
      "cell_type": "markdown",
      "metadata": {
        "button": false,
        "deletable": true,
        "new_sheet": false,
        "run_control": {
          "read_only": false
        },
        "id": "yFLk_obr_T0K",
        "colab_type": "text"
      },
      "source": [
        "Interesting. Despite being very active, it turns out that Nick does not have any friends on Foursquare. This might definitely change in the future."
      ]
    },
    {
      "cell_type": "markdown",
      "metadata": {
        "button": false,
        "deletable": true,
        "new_sheet": false,
        "run_control": {
          "read_only": false
        },
        "id": "eqkmVdfl_T0L",
        "colab_type": "text"
      },
      "source": [
        "### Retrieve the User's Profile Image"
      ]
    },
    {
      "cell_type": "code",
      "metadata": {
        "button": false,
        "deletable": true,
        "new_sheet": false,
        "run_control": {
          "read_only": false
        },
        "scrolled": true,
        "id": "70m0st0x_T0M",
        "colab_type": "code",
        "colab": {}
      },
      "source": [
        "user_data"
      ],
      "execution_count": 0,
      "outputs": []
    },
    {
      "cell_type": "code",
      "metadata": {
        "button": false,
        "deletable": true,
        "new_sheet": false,
        "run_control": {
          "read_only": false
        },
        "id": "3kgYVGz4_T0R",
        "colab_type": "code",
        "colab": {}
      },
      "source": [
        "# 1. grab prefix of photo\n",
        "# 2. grab suffix of photo\n",
        "# 3. concatenate them using the image size  \n",
        "Image(url='https://igx.4sqi.net/img/user/300x300/484542633_mK2Yum7T_7Tn9fWpndidJsmw2Hof_6T5vJBKCHPLMK5OL-U5ZiJGj51iwBstcpDLYa3Zvhvis.jpg')"
      ],
      "execution_count": 0,
      "outputs": []
    },
    {
      "cell_type": "markdown",
      "metadata": {
        "button": false,
        "deletable": true,
        "new_sheet": false,
        "run_control": {
          "read_only": false
        },
        "id": "Eeaw2uuA_T0U",
        "colab_type": "text"
      },
      "source": [
        "  "
      ]
    },
    {
      "cell_type": "markdown",
      "metadata": {
        "button": false,
        "deletable": true,
        "new_sheet": false,
        "run_control": {
          "read_only": false
        },
        "id": "Gxs6dL7y_T0V",
        "colab_type": "text"
      },
      "source": [
        "<a id=\"item4\"></a>"
      ]
    },
    {
      "cell_type": "markdown",
      "metadata": {
        "button": false,
        "deletable": true,
        "new_sheet": false,
        "run_control": {
          "read_only": false
        },
        "id": "Ay-K9vYv_T0W",
        "colab_type": "text"
      },
      "source": [
        "## 4. Explore a location\n",
        "> `https://api.foursquare.com/v2/venues/`**explore**`?client_id=`**CLIENT_ID**`&client_secret=`**CLIENT_SECRET**`&ll=`**LATITUDE**`,`**LONGITUDE**`&v=`**VERSION**`&limit=`**LIMIT**"
      ]
    },
    {
      "cell_type": "markdown",
      "metadata": {
        "button": false,
        "deletable": true,
        "new_sheet": false,
        "run_control": {
          "read_only": false
        },
        "id": "NglXI94b_T0W",
        "colab_type": "text"
      },
      "source": [
        "#### So, you just finished your gourmet dish at Ecco, and are just curious about the popular spots around the restaurant. In order to explore the area, let's start by getting the latitude and longitude values of Ecco Restaurant."
      ]
    },
    {
      "cell_type": "code",
      "metadata": {
        "button": false,
        "deletable": true,
        "new_sheet": false,
        "run_control": {
          "read_only": false
        },
        "id": "Gk5OUVGi_T0X",
        "colab_type": "code",
        "colab": {}
      },
      "source": [
        "latitude = 40.715337\n",
        "longitude = -74.008848"
      ],
      "execution_count": 0,
      "outputs": []
    },
    {
      "cell_type": "markdown",
      "metadata": {
        "button": false,
        "deletable": true,
        "new_sheet": false,
        "run_control": {
          "read_only": false
        },
        "id": "crABs1V3_T0a",
        "colab_type": "text"
      },
      "source": [
        "#### Define URL"
      ]
    },
    {
      "cell_type": "code",
      "metadata": {
        "button": false,
        "deletable": true,
        "new_sheet": false,
        "run_control": {
          "read_only": false
        },
        "id": "sTexcRWz_T0b",
        "colab_type": "code",
        "colab": {}
      },
      "source": [
        "url = 'https://api.foursquare.com/v2/venues/explore?client_id={}&client_secret={}&ll={},{}&v={}&radius={}&limit={}'.format(CLIENT_ID, CLIENT_SECRET, latitude, longitude, VERSION, radius, LIMIT)\n",
        "url"
      ],
      "execution_count": 0,
      "outputs": []
    },
    {
      "cell_type": "markdown",
      "metadata": {
        "button": false,
        "deletable": true,
        "new_sheet": false,
        "run_control": {
          "read_only": false
        },
        "id": "68p4VPP5_T0i",
        "colab_type": "text"
      },
      "source": [
        "#### Send GET request and examine results"
      ]
    },
    {
      "cell_type": "code",
      "metadata": {
        "button": false,
        "deletable": true,
        "new_sheet": false,
        "run_control": {
          "read_only": false
        },
        "id": "9VS85HuO_T0j",
        "colab_type": "code",
        "colab": {}
      },
      "source": [
        "import requests"
      ],
      "execution_count": 0,
      "outputs": []
    },
    {
      "cell_type": "code",
      "metadata": {
        "button": false,
        "deletable": true,
        "new_sheet": false,
        "run_control": {
          "read_only": false
        },
        "id": "C3HpLrR-_T0n",
        "colab_type": "code",
        "colab": {}
      },
      "source": [
        "results = requests.get(url).json()\n",
        "'There are {} around Ecco restaurant.'.format(len(results['response']['groups'][0]['items']))"
      ],
      "execution_count": 0,
      "outputs": []
    },
    {
      "cell_type": "markdown",
      "metadata": {
        "button": false,
        "deletable": true,
        "new_sheet": false,
        "run_control": {
          "read_only": false
        },
        "id": "5bwJH3tr_T0s",
        "colab_type": "text"
      },
      "source": [
        "#### Get relevant part of JSON"
      ]
    },
    {
      "cell_type": "code",
      "metadata": {
        "button": false,
        "deletable": true,
        "new_sheet": false,
        "run_control": {
          "read_only": false
        },
        "id": "xY70tmNl_T0u",
        "colab_type": "code",
        "colab": {}
      },
      "source": [
        "items = results['response']['groups'][0]['items']\n",
        "items[0]"
      ],
      "execution_count": 0,
      "outputs": []
    },
    {
      "cell_type": "markdown",
      "metadata": {
        "button": false,
        "deletable": true,
        "new_sheet": false,
        "run_control": {
          "read_only": false
        },
        "id": "EGd7Eequ_T03",
        "colab_type": "text"
      },
      "source": [
        "#### Process JSON and convert it to a clean dataframe"
      ]
    },
    {
      "cell_type": "code",
      "metadata": {
        "button": false,
        "deletable": true,
        "new_sheet": false,
        "run_control": {
          "read_only": false
        },
        "scrolled": false,
        "id": "iF2xYV71_T04",
        "colab_type": "code",
        "colab": {}
      },
      "source": [
        "dataframe = json_normalize(items) # flatten JSON\n",
        "\n",
        "# filter columns\n",
        "filtered_columns = ['venue.name', 'venue.categories'] + [col for col in dataframe.columns if col.startswith('venue.location.')] + ['venue.id']\n",
        "dataframe_filtered = dataframe.loc[:, filtered_columns]\n",
        "\n",
        "# filter the category for each row\n",
        "dataframe_filtered['venue.categories'] = dataframe_filtered.apply(get_category_type, axis=1)\n",
        "\n",
        "# clean columns\n",
        "dataframe_filtered.columns = [col.split('.')[-1] for col in dataframe_filtered.columns]\n",
        "\n",
        "dataframe_filtered.head(10)"
      ],
      "execution_count": 0,
      "outputs": []
    },
    {
      "cell_type": "markdown",
      "metadata": {
        "button": false,
        "deletable": true,
        "new_sheet": false,
        "run_control": {
          "read_only": false
        },
        "id": "-K9k91dr_T08",
        "colab_type": "text"
      },
      "source": [
        "#### Let's visualize these items on the map around our location"
      ]
    },
    {
      "cell_type": "code",
      "metadata": {
        "button": false,
        "deletable": true,
        "new_sheet": false,
        "run_control": {
          "read_only": false
        },
        "id": "gNcfK4Ty_T09",
        "colab_type": "code",
        "colab": {}
      },
      "source": [
        "venues_map = folium.Map(location=[latitude, longitude], zoom_start=15) # generate map centred around Ecco\n",
        "\n",
        "\n",
        "# add Ecco as a red circle mark\n",
        "folium.features.CircleMarker(\n",
        "    [latitude, longitude],\n",
        "    radius=10,\n",
        "    popup='Ecco',\n",
        "    fill=True,\n",
        "    color='red',\n",
        "    fill_color='red',\n",
        "    fill_opacity=0.6\n",
        "    ).add_to(venues_map)\n",
        "\n",
        "\n",
        "# add popular spots to the map as blue circle markers\n",
        "for lat, lng, label in zip(dataframe_filtered.lat, dataframe_filtered.lng, dataframe_filtered.categories):\n",
        "    folium.features.CircleMarker(\n",
        "        [lat, lng],\n",
        "        radius=5,\n",
        "        popup=label,\n",
        "        fill=True,\n",
        "        color='blue',\n",
        "        fill_color='blue',\n",
        "        fill_opacity=0.6\n",
        "        ).add_to(venues_map)\n",
        "\n",
        "# display map\n",
        "venues_map"
      ],
      "execution_count": 0,
      "outputs": []
    },
    {
      "cell_type": "markdown",
      "metadata": {
        "button": false,
        "deletable": true,
        "new_sheet": false,
        "run_control": {
          "read_only": false
        },
        "id": "NDasAcQz_T1B",
        "colab_type": "text"
      },
      "source": [
        "   "
      ]
    },
    {
      "cell_type": "markdown",
      "metadata": {
        "button": false,
        "deletable": true,
        "new_sheet": false,
        "run_control": {
          "read_only": false
        },
        "id": "69qozlwy_T1C",
        "colab_type": "text"
      },
      "source": [
        "<a id=\"item5\"></a>"
      ]
    },
    {
      "cell_type": "markdown",
      "metadata": {
        "button": false,
        "deletable": true,
        "new_sheet": false,
        "run_control": {
          "read_only": false
        },
        "id": "utry_oA6_T1E",
        "colab_type": "text"
      },
      "source": [
        "## 5. Explore Trending Venues\n",
        "> `https://api.foursquare.com/v2/venues/`**trending**`?client_id=`**CLIENT_ID**`&client_secret=`**CLIENT_SECRET**`&ll=`**LATITUDE**`,`**LONGITUDE**`&v=`**VERSION**"
      ]
    },
    {
      "cell_type": "markdown",
      "metadata": {
        "button": false,
        "deletable": true,
        "new_sheet": false,
        "run_control": {
          "read_only": false
        },
        "id": "3S8lA_Xn_T1F",
        "colab_type": "text"
      },
      "source": [
        "#### Now, instead of simply exploring the area around Ecco, you are interested in knowing the venues that are trending at the time you are done with your lunch, meaning the places with the highest foot traffic. So let's do that and get the trending venues around Ecco."
      ]
    },
    {
      "cell_type": "code",
      "metadata": {
        "button": false,
        "deletable": true,
        "new_sheet": false,
        "run_control": {
          "read_only": false
        },
        "id": "BB_kJCuw_T1F",
        "colab_type": "code",
        "colab": {}
      },
      "source": [
        "# define URL\n",
        "url = 'https://api.foursquare.com/v2/venues/trending?client_id={}&client_secret={}&ll={},{}&v={}'.format(CLIENT_ID, CLIENT_SECRET, latitude, longitude, VERSION)\n",
        "\n",
        "# send GET request and get trending venues\n",
        "results = requests.get(url).json()\n",
        "results"
      ],
      "execution_count": 0,
      "outputs": []
    },
    {
      "cell_type": "markdown",
      "metadata": {
        "button": false,
        "deletable": true,
        "new_sheet": false,
        "run_control": {
          "read_only": false
        },
        "id": "DyASA_Va_T1J",
        "colab_type": "text"
      },
      "source": [
        "### Check if any venues are trending at this time"
      ]
    },
    {
      "cell_type": "code",
      "metadata": {
        "button": false,
        "deletable": true,
        "new_sheet": false,
        "run_control": {
          "read_only": false
        },
        "id": "6tVq3QZ-_T1J",
        "colab_type": "code",
        "colab": {}
      },
      "source": [
        "if len(results['response']['venues']) == 0:\n",
        "    trending_venues_df = 'No trending venues are available at the moment!'\n",
        "    \n",
        "else:\n",
        "    trending_venues = results['response']['venues']\n",
        "    trending_venues_df = json_normalize(trending_venues)\n",
        "\n",
        "    # filter columns\n",
        "    columns_filtered = ['name', 'categories'] + ['location.distance', 'location.city', 'location.postalCode', 'location.state', 'location.country', 'location.lat', 'location.lng']\n",
        "    trending_venues_df = trending_venues_df.loc[:, columns_filtered]\n",
        "\n",
        "    # filter the category for each row\n",
        "    trending_venues_df['categories'] = trending_venues_df.apply(get_category_type, axis=1)"
      ],
      "execution_count": 0,
      "outputs": []
    },
    {
      "cell_type": "code",
      "metadata": {
        "button": false,
        "deletable": true,
        "new_sheet": false,
        "run_control": {
          "read_only": false
        },
        "id": "p0_WmAsY_T1N",
        "colab_type": "code",
        "colab": {}
      },
      "source": [
        "# display trending venues\n",
        "trending_venues_df"
      ],
      "execution_count": 0,
      "outputs": []
    },
    {
      "cell_type": "markdown",
      "metadata": {
        "button": false,
        "deletable": true,
        "new_sheet": false,
        "run_control": {
          "read_only": false
        },
        "id": "kkqPSif7_T1R",
        "colab_type": "text"
      },
      "source": [
        "Now, depending on when you run the above code, you might get different venues since the venues with the highest foot traffic are fetched live. "
      ]
    },
    {
      "cell_type": "markdown",
      "metadata": {
        "button": false,
        "deletable": true,
        "new_sheet": false,
        "run_control": {
          "read_only": false
        },
        "id": "HstUNjB6_T1S",
        "colab_type": "text"
      },
      "source": [
        "### Visualize trending venues"
      ]
    },
    {
      "cell_type": "code",
      "metadata": {
        "button": false,
        "deletable": true,
        "new_sheet": false,
        "run_control": {
          "read_only": false
        },
        "id": "SzC1RKGm_T1S",
        "colab_type": "code",
        "colab": {}
      },
      "source": [
        "if len(results['response']['venues']) == 0:\n",
        "    venues_map = 'Cannot generate visual as no trending venues are available at the moment!'\n",
        "\n",
        "else:\n",
        "    venues_map = folium.Map(location=[latitude, longitude], zoom_start=15) # generate map centred around Ecco\n",
        "\n",
        "\n",
        "    # add Ecco as a red circle mark\n",
        "    folium.features.CircleMarker(\n",
        "        [latitude, longitude],\n",
        "        radius=10,\n",
        "        popup='Ecco',\n",
        "        fill=True,\n",
        "        color='red',\n",
        "        fill_color='red',\n",
        "        fill_opacity=0.6\n",
        "    ).add_to(venues_map)\n",
        "\n",
        "\n",
        "    # add the trending venues as blue circle markers\n",
        "    for lat, lng, label in zip(trending_venues_df['location.lat'], trending_venues_df['location.lng'], trending_venues_df['name']):\n",
        "        folium.features.CircleMarker(\n",
        "            [lat, lng],\n",
        "            radius=5,\n",
        "            poup=label,\n",
        "            fill=True,\n",
        "            color='blue',\n",
        "            fill_color='blue',\n",
        "            fill_opacity=0.6\n",
        "        ).add_to(venues_map)"
      ],
      "execution_count": 0,
      "outputs": []
    },
    {
      "cell_type": "code",
      "metadata": {
        "button": false,
        "deletable": true,
        "new_sheet": false,
        "run_control": {
          "read_only": false
        },
        "scrolled": false,
        "id": "5C7Wz_7U_T1W",
        "colab_type": "code",
        "colab": {}
      },
      "source": [
        "# display map\n",
        "venues_map"
      ],
      "execution_count": 0,
      "outputs": []
    },
    {
      "cell_type": "markdown",
      "metadata": {
        "button": false,
        "deletable": true,
        "new_sheet": false,
        "run_control": {
          "read_only": false
        },
        "id": "M57LcTXQ_T1Y",
        "colab_type": "text"
      },
      "source": [
        "<a id=\"item6\"></a>"
      ]
    },
    {
      "cell_type": "markdown",
      "metadata": {
        "button": false,
        "deletable": true,
        "new_sheet": false,
        "run_control": {
          "read_only": false
        },
        "id": "u7iiZX7a_T1Z",
        "colab_type": "text"
      },
      "source": [
        "   "
      ]
    },
    {
      "cell_type": "markdown",
      "metadata": {
        "button": false,
        "deletable": true,
        "new_sheet": false,
        "run_control": {
          "read_only": false
        },
        "id": "vJvgFH5b_T1Z",
        "colab_type": "text"
      },
      "source": [
        "### Thank you for completing this lab!\n",
        "\n",
        "This notebook was created by [Alex Aklson](https://www.linkedin.com/in/aklson/). I hope you found this lab interesting and educational. Feel free to contact me if you have any questions!"
      ]
    },
    {
      "cell_type": "markdown",
      "metadata": {
        "button": false,
        "deletable": true,
        "new_sheet": false,
        "run_control": {
          "read_only": false
        },
        "id": "03Jl3bHd_T1b",
        "colab_type": "text"
      },
      "source": [
        "This notebook is part of a course on **Coursera** called *Applied Data Science Capstone*. If you accessed this notebook outside the course, you can take this course online by clicking [here](http://cocl.us/DP0701EN_Coursera_Week2_LAB1)."
      ]
    },
    {
      "cell_type": "markdown",
      "metadata": {
        "button": false,
        "deletable": true,
        "new_sheet": false,
        "run_control": {
          "read_only": false
        },
        "id": "nXegTSpl_T1b",
        "colab_type": "text"
      },
      "source": [
        "<hr>\n",
        "Copyright &copy; 2018 [Cognitive Class](https://cognitiveclass.ai/?utm_source=bducopyrightlink&utm_medium=dswb&utm_campaign=bdu). This notebook and its source code are released under the terms of the [MIT License](https://bigdatauniversity.com/mit-license/)."
      ]
    },
    {
      "cell_type": "code",
      "metadata": {
        "id": "kUSVLXo-a7XI",
        "colab_type": "code",
        "colab": {}
      },
      "source": [
        ""
      ],
      "execution_count": 0,
      "outputs": []
    }
  ]
}